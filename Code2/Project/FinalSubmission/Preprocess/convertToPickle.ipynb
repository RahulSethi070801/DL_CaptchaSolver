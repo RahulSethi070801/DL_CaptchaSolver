{
 "cells": [
  {
   "cell_type": "code",
   "execution_count": 2,
   "id": "6e7bc03c",
   "metadata": {},
   "outputs": [],
   "source": [
    "import numpy as np\n",
    "import matplotlib.image as img\n",
    "import os\n",
    "import pickle\n",
    "from tqdm import tqdm\n",
    "from PIL import Image"
   ]
  },
  {
   "cell_type": "code",
   "execution_count": 41,
   "id": "d0145493",
   "metadata": {},
   "outputs": [],
   "source": [
    "data = './../Data/NewDataset/Len5Char/data/'"
   ]
  },
  {
   "cell_type": "code",
   "execution_count": 42,
   "id": "27ec56ff",
   "metadata": {},
   "outputs": [],
   "source": [
    "images = []\n",
    "labels = []"
   ]
  },
  {
   "cell_type": "code",
   "execution_count": 43,
   "id": "259808ca",
   "metadata": {},
   "outputs": [
    {
     "name": "stderr",
     "output_type": "stream",
     "text": [
      "100%|██████████| 5000/5000 [00:02<00:00, 1857.81it/s]\n"
     ]
    }
   ],
   "source": [
    "for file in tqdm(os.listdir(data)):\n",
    "    underscore = file.find('_')\n",
    "    label = int(file[0:underscore])\n",
    "    image = Image.open(data+file)\n",
    "#     image = image.resize((200, 60))\n",
    "#     image = img.imread(data+file)\n",
    "    image = image.convert('L')\n",
    "#     image.show()\n",
    "#     images.append(image)\n",
    "    images.append(np.asarray(image))\n",
    "    labels.append(label)"
   ]
  },
  {
   "cell_type": "code",
   "execution_count": 44,
   "id": "10207038",
   "metadata": {},
   "outputs": [
    {
     "data": {
      "text/plain": [
       "(5000, 5000)"
      ]
     },
     "execution_count": 44,
     "metadata": {},
     "output_type": "execute_result"
    }
   ],
   "source": [
    "len(images), len(labels)"
   ]
  },
  {
   "cell_type": "code",
   "execution_count": 45,
   "id": "e088eba9",
   "metadata": {},
   "outputs": [],
   "source": [
    "images = np.array(images)\n",
    "labels = np.array(labels)"
   ]
  },
  {
   "cell_type": "code",
   "execution_count": 46,
   "id": "e210d415",
   "metadata": {},
   "outputs": [
    {
     "data": {
      "text/plain": [
       "(5000, 60, 200)"
      ]
     },
     "execution_count": 46,
     "metadata": {},
     "output_type": "execute_result"
    }
   ],
   "source": [
    "images.shape"
   ]
  },
  {
   "cell_type": "code",
   "execution_count": 47,
   "id": "a11a20e5",
   "metadata": {},
   "outputs": [
    {
     "data": {
      "text/plain": [
       "6815"
      ]
     },
     "execution_count": 47,
     "metadata": {},
     "output_type": "execute_result"
    }
   ],
   "source": [
    "labels[0]"
   ]
  },
  {
   "cell_type": "code",
   "execution_count": 48,
   "id": "24e27260",
   "metadata": {},
   "outputs": [
    {
     "data": {
      "text/plain": [
       "'/media/data_dump/mann/Pritish/BTP/test/FinalSubmission/Preprocess'"
      ]
     },
     "execution_count": 48,
     "metadata": {},
     "output_type": "execute_result"
    }
   ],
   "source": [
    "pwd"
   ]
  },
  {
   "cell_type": "code",
   "execution_count": 49,
   "id": "7d86e8ed",
   "metadata": {},
   "outputs": [],
   "source": [
    "pickle.dump((images, labels), open(\"./../Data/pickledFiles/Num_NewData_5char_1channel.p\", 'wb'));"
   ]
  },
  {
   "cell_type": "code",
   "execution_count": null,
   "id": "d6d04fc1",
   "metadata": {},
   "outputs": [],
   "source": []
  }
 ],
 "metadata": {
  "kernelspec": {
   "display_name": "Python 3",
   "language": "python",
   "name": "python3"
  },
  "language_info": {
   "codemirror_mode": {
    "name": "ipython",
    "version": 3
   },
   "file_extension": ".py",
   "mimetype": "text/x-python",
   "name": "python",
   "nbconvert_exporter": "python",
   "pygments_lexer": "ipython3",
   "version": "3.6.13"
  }
 },
 "nbformat": 4,
 "nbformat_minor": 5
}
