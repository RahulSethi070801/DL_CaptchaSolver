{
 "cells": [
  {
   "cell_type": "code",
   "execution_count": 1,
   "id": "df385f89",
   "metadata": {},
   "outputs": [],
   "source": [
    "from tensorflow.keras import applications\n",
    "from keras.preprocessing.image import ImageDataGenerator\n",
    "from keras import optimizers\n",
    "from keras.models import Sequential, Model\n",
    "from keras.layers import Input, Dropout, Flatten, Dense, GlobalAveragePooling2D\n",
    "from keras.layers import Conv2D\n",
    "from keras import backend as k\n",
    "from keras.callbacks import ModelCheckpoint, LearningRateScheduler, TensorBoard, EarlyStopping\n",
    "import numpy as np\n",
    "from sklearn.model_selection import train_test_split\n",
    "from keras.utils import np_utils\n",
    "import pickle\n",
    "import tensorflow as tf"
   ]
  },
  {
   "cell_type": "code",
   "execution_count": 2,
   "id": "fe504854",
   "metadata": {},
   "outputs": [],
   "source": [
    "def loadPickleData(file):\n",
    "    data = pickle.load(open(file, 'rb'));\n",
    "    images = data[0];\n",
    "    labels = data[1];\n",
    "    return [images, labels]"
   ]
  },
  {
   "cell_type": "code",
   "execution_count": 3,
   "id": "9488b0f6",
   "metadata": {},
   "outputs": [],
   "source": [
    "[images,labels] = loadPickleData(\"./../Data/pickledFiles/Num_NewData_1char_3channel.p\")"
   ]
  },
  {
   "cell_type": "code",
   "execution_count": 4,
   "id": "b99db73d",
   "metadata": {},
   "outputs": [
    {
     "name": "stdout",
     "output_type": "stream",
     "text": [
      "[[0. 0. 0. ... 0. 0. 0.]\n",
      " [1. 0. 0. ... 0. 0. 0.]\n",
      " [0. 0. 0. ... 0. 0. 0.]\n",
      " ...\n",
      " [0. 0. 0. ... 0. 1. 0.]\n",
      " [0. 0. 0. ... 0. 0. 0.]\n",
      " [0. 0. 1. ... 0. 0. 0.]]\n",
      "(5000, 10)\n"
     ]
    }
   ],
   "source": [
    "y = np_utils.to_categorical(labels);\n",
    "print(y);\n",
    "print(y.shape)"
   ]
  },
  {
   "cell_type": "code",
   "execution_count": 5,
   "id": "7bf670f8",
   "metadata": {},
   "outputs": [
    {
     "data": {
      "text/plain": [
       "(5000, 60, 40, 3)"
      ]
     },
     "execution_count": 5,
     "metadata": {},
     "output_type": "execute_result"
    }
   ],
   "source": [
    "X = images\n",
    "X.shape\n",
    "# X = np.reshape(X, (2000,60,40,1))"
   ]
  },
  {
   "cell_type": "code",
   "execution_count": 6,
   "id": "95ed427c",
   "metadata": {},
   "outputs": [],
   "source": [
    "X_train, X_test, y_train, y_test = train_test_split(X,y, test_size = 0.2);"
   ]
  },
  {
   "cell_type": "code",
   "execution_count": 18,
   "id": "4e1a2911",
   "metadata": {},
   "outputs": [],
   "source": [
    "model = applications.VGG19(weights = \"imagenet\", include_top=False,\\\n",
    "                           input_shape = (60, 40, 3))"
   ]
  },
  {
   "cell_type": "code",
   "execution_count": 19,
   "id": "fa55105e",
   "metadata": {},
   "outputs": [
    {
     "name": "stdout",
     "output_type": "stream",
     "text": [
      "22\n"
     ]
    }
   ],
   "source": [
    "print(len(model.layers))\n",
    "for layer in model.layers[0:19]:\n",
    "    layer.trainable = False"
   ]
  },
  {
   "cell_type": "code",
   "execution_count": 20,
   "id": "d9ee7d2f",
   "metadata": {},
   "outputs": [],
   "source": [
    "inputt = Input(shape =  (60,40,3), name = 'captcha_input')\n",
    "output_vgg16_conv = model(inputt);"
   ]
  },
  {
   "cell_type": "code",
   "execution_count": 21,
   "id": "2c077c48",
   "metadata": {},
   "outputs": [],
   "source": [
    "x = Flatten(name='flatten')(output_vgg16_conv)\n"
   ]
  },
  {
   "cell_type": "code",
   "execution_count": 22,
   "id": "5c944efd",
   "metadata": {},
   "outputs": [],
   "source": [
    "predictions = Dense(10, activation=\"softmax\")(x)\n"
   ]
  },
  {
   "cell_type": "code",
   "execution_count": 23,
   "id": "152a244c",
   "metadata": {},
   "outputs": [],
   "source": [
    "model_final = Model(inputt,predictions)\n"
   ]
  },
  {
   "cell_type": "code",
   "execution_count": 24,
   "id": "6f53ea58",
   "metadata": {},
   "outputs": [],
   "source": [
    "model_final.compile(loss = \"categorical_crossentropy\",\\\n",
    "                    optimizer = tf.keras.optimizers.SGD(learning_rate=0.0001, momentum=0.9), metrics=[\"accuracy\"])"
   ]
  },
  {
   "cell_type": "code",
   "execution_count": 25,
   "id": "dd3f9a72",
   "metadata": {},
   "outputs": [
    {
     "name": "stdout",
     "output_type": "stream",
     "text": [
      "Model: \"model_1\"\n",
      "_________________________________________________________________\n",
      "Layer (type)                 Output Shape              Param #   \n",
      "=================================================================\n",
      "captcha_input (InputLayer)   [(None, 60, 40, 3)]       0         \n",
      "_________________________________________________________________\n",
      "vgg19 (Functional)           (None, 1, 1, 512)         20024384  \n",
      "_________________________________________________________________\n",
      "flatten (Flatten)            (None, 512)               0         \n",
      "_________________________________________________________________\n",
      "dense_1 (Dense)              (None, 10)                5130      \n",
      "=================================================================\n",
      "Total params: 20,029,514\n",
      "Trainable params: 4,724,746\n",
      "Non-trainable params: 15,304,768\n",
      "_________________________________________________________________\n",
      "None\n"
     ]
    }
   ],
   "source": [
    "print(model_final.summary())"
   ]
  },
  {
   "cell_type": "code",
   "execution_count": 26,
   "id": "c2a47b8f",
   "metadata": {},
   "outputs": [],
   "source": [
    "lossCheck = ModelCheckpoint('singleCharLossNewData1.h5', monitor='val_loss', verbose=True, save_best_only=True)\n",
    "accCheck = ModelCheckpoint('singleCharAccNewData1.h5', monitor='val_accuracy', verbose=True, save_best_only=True)"
   ]
  },
  {
   "cell_type": "code",
   "execution_count": null,
   "id": "af544fa8",
   "metadata": {},
   "outputs": [
    {
     "name": "stdout",
     "output_type": "stream",
     "text": [
      "Epoch 1/150\n",
      "14/14 [==============================] - 20s 1s/step - loss: 6.9121 - accuracy: 0.1423 - val_loss: 2.3396 - val_accuracy: 0.1410\n",
      "\n",
      "Epoch 00001: val_loss improved from inf to 2.33957, saving model to singleCharLossNewData1.h5\n",
      "\n",
      "Epoch 00001: val_accuracy improved from -inf to 0.14100, saving model to singleCharAccNewData1.h5\n",
      "Epoch 2/150\n",
      "14/14 [==============================] - 19s 1s/step - loss: 2.2519 - accuracy: 0.1480 - val_loss: 2.2170 - val_accuracy: 0.1750\n",
      "\n",
      "Epoch 00002: val_loss improved from 2.33957 to 2.21698, saving model to singleCharLossNewData1.h5\n",
      "\n",
      "Epoch 00002: val_accuracy improved from 0.14100 to 0.17500, saving model to singleCharAccNewData1.h5\n",
      "Epoch 3/150\n",
      "14/14 [==============================] - 19s 1s/step - loss: 2.1900 - accuracy: 0.1945 - val_loss: 2.2040 - val_accuracy: 0.1760\n",
      "\n",
      "Epoch 00003: val_loss improved from 2.21698 to 2.20398, saving model to singleCharLossNewData1.h5\n",
      "\n",
      "Epoch 00003: val_accuracy improved from 0.17500 to 0.17600, saving model to singleCharAccNewData1.h5\n",
      "Epoch 4/150\n",
      "14/14 [==============================] - 19s 1s/step - loss: 2.1185 - accuracy: 0.2460 - val_loss: 2.0701 - val_accuracy: 0.2650\n",
      "\n",
      "Epoch 00004: val_loss improved from 2.20398 to 2.07013, saving model to singleCharLossNewData1.h5\n",
      "\n",
      "Epoch 00004: val_accuracy improved from 0.17600 to 0.26500, saving model to singleCharAccNewData1.h5\n",
      "Epoch 5/150\n",
      "14/14 [==============================] - 19s 1s/step - loss: 1.9731 - accuracy: 0.2842 - val_loss: 1.9467 - val_accuracy: 0.2910\n",
      "\n",
      "Epoch 00005: val_loss improved from 2.07013 to 1.94671, saving model to singleCharLossNewData1.h5\n",
      "\n",
      "Epoch 00005: val_accuracy improved from 0.26500 to 0.29100, saving model to singleCharAccNewData1.h5\n",
      "Epoch 6/150\n",
      "14/14 [==============================] - 19s 1s/step - loss: 1.8591 - accuracy: 0.3285 - val_loss: 1.8330 - val_accuracy: 0.3430\n",
      "\n",
      "Epoch 00006: val_loss improved from 1.94671 to 1.83295, saving model to singleCharLossNewData1.h5\n",
      "\n",
      "Epoch 00006: val_accuracy improved from 0.29100 to 0.34300, saving model to singleCharAccNewData1.h5\n",
      "Epoch 7/150\n",
      "14/14 [==============================] - 19s 1s/step - loss: 1.7432 - accuracy: 0.3767 - val_loss: 1.7319 - val_accuracy: 0.3970\n",
      "\n",
      "Epoch 00007: val_loss improved from 1.83295 to 1.73188, saving model to singleCharLossNewData1.h5\n",
      "\n",
      "Epoch 00007: val_accuracy improved from 0.34300 to 0.39700, saving model to singleCharAccNewData1.h5\n",
      "Epoch 8/150\n",
      "14/14 [==============================] - 19s 1s/step - loss: 1.6382 - accuracy: 0.4248 - val_loss: 1.6382 - val_accuracy: 0.4350\n",
      "\n",
      "Epoch 00008: val_loss improved from 1.73188 to 1.63818, saving model to singleCharLossNewData1.h5\n",
      "\n",
      "Epoch 00008: val_accuracy improved from 0.39700 to 0.43500, saving model to singleCharAccNewData1.h5\n",
      "Epoch 9/150\n",
      "14/14 [==============================] - 19s 1s/step - loss: 1.5360 - accuracy: 0.4663 - val_loss: 1.5653 - val_accuracy: 0.4600\n",
      "\n",
      "Epoch 00009: val_loss improved from 1.63818 to 1.56528, saving model to singleCharLossNewData1.h5\n",
      "\n",
      "Epoch 00009: val_accuracy improved from 0.43500 to 0.46000, saving model to singleCharAccNewData1.h5\n",
      "Epoch 10/150\n",
      "14/14 [==============================] - 19s 1s/step - loss: 1.4584 - accuracy: 0.5013 - val_loss: 1.4744 - val_accuracy: 0.4870\n",
      "\n",
      "Epoch 00010: val_loss improved from 1.56528 to 1.47436, saving model to singleCharLossNewData1.h5\n",
      "\n",
      "Epoch 00010: val_accuracy improved from 0.46000 to 0.48700, saving model to singleCharAccNewData1.h5\n",
      "Epoch 11/150\n",
      "14/14 [==============================] - 19s 1s/step - loss: 1.3823 - accuracy: 0.5173 - val_loss: 1.4535 - val_accuracy: 0.4870\n",
      "\n",
      "Epoch 00011: val_loss improved from 1.47436 to 1.45349, saving model to singleCharLossNewData1.h5\n",
      "\n",
      "Epoch 00011: val_accuracy did not improve from 0.48700\n",
      "Epoch 12/150\n",
      "14/14 [==============================] - 19s 1s/step - loss: 1.3485 - accuracy: 0.5272 - val_loss: 1.3923 - val_accuracy: 0.5020\n",
      "\n",
      "Epoch 00012: val_loss improved from 1.45349 to 1.39225, saving model to singleCharLossNewData1.h5\n",
      "\n",
      "Epoch 00012: val_accuracy improved from 0.48700 to 0.50200, saving model to singleCharAccNewData1.h5\n",
      "Epoch 13/150\n",
      "14/14 [==============================] - 19s 1s/step - loss: 1.2713 - accuracy: 0.5573 - val_loss: 1.3578 - val_accuracy: 0.5220\n",
      "\n",
      "Epoch 00013: val_loss improved from 1.39225 to 1.35775, saving model to singleCharLossNewData1.h5\n",
      "\n",
      "Epoch 00013: val_accuracy improved from 0.50200 to 0.52200, saving model to singleCharAccNewData1.h5\n",
      "Epoch 14/150\n",
      "14/14 [==============================] - 19s 1s/step - loss: 1.2420 - accuracy: 0.5683 - val_loss: 1.2848 - val_accuracy: 0.5480\n",
      "\n",
      "Epoch 00014: val_loss improved from 1.35775 to 1.28482, saving model to singleCharLossNewData1.h5\n",
      "\n",
      "Epoch 00014: val_accuracy improved from 0.52200 to 0.54800, saving model to singleCharAccNewData1.h5\n",
      "Epoch 15/150\n",
      "14/14 [==============================] - 20s 1s/step - loss: 1.1867 - accuracy: 0.5880 - val_loss: 1.2443 - val_accuracy: 0.5680\n",
      "\n",
      "Epoch 00015: val_loss improved from 1.28482 to 1.24434, saving model to singleCharLossNewData1.h5\n",
      "\n",
      "Epoch 00015: val_accuracy improved from 0.54800 to 0.56800, saving model to singleCharAccNewData1.h5\n",
      "Epoch 16/150\n",
      "14/14 [==============================] - 19s 1s/step - loss: 1.1255 - accuracy: 0.6127 - val_loss: 1.2371 - val_accuracy: 0.5520\n",
      "\n",
      "Epoch 00016: val_loss improved from 1.24434 to 1.23714, saving model to singleCharLossNewData1.h5\n",
      "\n",
      "Epoch 00016: val_accuracy did not improve from 0.56800\n",
      "Epoch 17/150\n",
      "14/14 [==============================] - 20s 1s/step - loss: 1.0991 - accuracy: 0.6183 - val_loss: 1.2236 - val_accuracy: 0.5680\n",
      "\n",
      "Epoch 00017: val_loss improved from 1.23714 to 1.22361, saving model to singleCharLossNewData1.h5\n",
      "\n",
      "Epoch 00017: val_accuracy did not improve from 0.56800\n",
      "Epoch 18/150\n",
      "14/14 [==============================] - 19s 1s/step - loss: 1.0708 - accuracy: 0.6245 - val_loss: 1.1718 - val_accuracy: 0.5930\n",
      "\n",
      "Epoch 00018: val_loss improved from 1.22361 to 1.17175, saving model to singleCharLossNewData1.h5\n",
      "\n",
      "Epoch 00018: val_accuracy improved from 0.56800 to 0.59300, saving model to singleCharAccNewData1.h5\n",
      "Epoch 19/150\n",
      "14/14 [==============================] - 20s 1s/step - loss: 1.0272 - accuracy: 0.6450 - val_loss: 1.1415 - val_accuracy: 0.5800\n",
      "\n",
      "Epoch 00019: val_loss improved from 1.17175 to 1.14150, saving model to singleCharLossNewData1.h5\n",
      "\n",
      "Epoch 00019: val_accuracy did not improve from 0.59300\n",
      "Epoch 20/150\n",
      "14/14 [==============================] - 19s 1s/step - loss: 0.9943 - accuracy: 0.6593 - val_loss: 1.1374 - val_accuracy: 0.5890\n",
      "\n",
      "Epoch 00020: val_loss improved from 1.14150 to 1.13745, saving model to singleCharLossNewData1.h5\n",
      "\n",
      "Epoch 00020: val_accuracy did not improve from 0.59300\n",
      "Epoch 21/150\n",
      "14/14 [==============================] - 20s 1s/step - loss: 0.9655 - accuracy: 0.6715 - val_loss: 1.1118 - val_accuracy: 0.6190\n",
      "\n",
      "Epoch 00021: val_loss improved from 1.13745 to 1.11181, saving model to singleCharLossNewData1.h5\n",
      "\n",
      "Epoch 00021: val_accuracy improved from 0.59300 to 0.61900, saving model to singleCharAccNewData1.h5\n",
      "Epoch 22/150\n",
      "14/14 [==============================] - 19s 1s/step - loss: 0.9403 - accuracy: 0.6760 - val_loss: 1.1058 - val_accuracy: 0.6140\n",
      "\n",
      "Epoch 00022: val_loss improved from 1.11181 to 1.10583, saving model to singleCharLossNewData1.h5\n",
      "\n",
      "Epoch 00022: val_accuracy did not improve from 0.61900\n",
      "Epoch 23/150\n",
      "14/14 [==============================] - 20s 1s/step - loss: 0.9399 - accuracy: 0.6760 - val_loss: 1.0939 - val_accuracy: 0.6130\n",
      "\n",
      "Epoch 00023: val_loss improved from 1.10583 to 1.09390, saving model to singleCharLossNewData1.h5\n",
      "\n",
      "Epoch 00023: val_accuracy did not improve from 0.61900\n",
      "Epoch 24/150\n",
      "14/14 [==============================] - 19s 1s/step - loss: 0.9288 - accuracy: 0.6790 - val_loss: 1.0431 - val_accuracy: 0.6250\n",
      "\n",
      "Epoch 00024: val_loss improved from 1.09390 to 1.04312, saving model to singleCharLossNewData1.h5\n",
      "\n",
      "Epoch 00024: val_accuracy improved from 0.61900 to 0.62500, saving model to singleCharAccNewData1.h5\n",
      "Epoch 25/150\n",
      "14/14 [==============================] - 19s 1s/step - loss: 0.8859 - accuracy: 0.6908 - val_loss: 1.0505 - val_accuracy: 0.6250\n",
      "\n",
      "Epoch 00025: val_loss did not improve from 1.04312\n",
      "\n",
      "Epoch 00025: val_accuracy did not improve from 0.62500\n",
      "Epoch 26/150\n"
     ]
    },
    {
     "name": "stdout",
     "output_type": "stream",
     "text": [
      "14/14 [==============================] - 20s 1s/step - loss: 0.8632 - accuracy: 0.7005 - val_loss: 1.0190 - val_accuracy: 0.6380\n",
      "\n",
      "Epoch 00026: val_loss improved from 1.04312 to 1.01903, saving model to singleCharLossNewData1.h5\n",
      "\n",
      "Epoch 00026: val_accuracy improved from 0.62500 to 0.63800, saving model to singleCharAccNewData1.h5\n",
      "Epoch 27/150\n",
      "14/14 [==============================] - 20s 1s/step - loss: 0.8271 - accuracy: 0.7207 - val_loss: 1.0097 - val_accuracy: 0.6480\n",
      "\n",
      "Epoch 00027: val_loss improved from 1.01903 to 1.00967, saving model to singleCharLossNewData1.h5\n",
      "\n",
      "Epoch 00027: val_accuracy improved from 0.63800 to 0.64800, saving model to singleCharAccNewData1.h5\n",
      "Epoch 28/150\n",
      "14/14 [==============================] - 19s 1s/step - loss: 0.8181 - accuracy: 0.7205 - val_loss: 0.9725 - val_accuracy: 0.6610\n",
      "\n",
      "Epoch 00028: val_loss improved from 1.00967 to 0.97248, saving model to singleCharLossNewData1.h5\n",
      "\n",
      "Epoch 00028: val_accuracy improved from 0.64800 to 0.66100, saving model to singleCharAccNewData1.h5\n",
      "Epoch 29/150\n",
      "14/14 [==============================] - 20s 1s/step - loss: 0.7923 - accuracy: 0.7235 - val_loss: 0.9644 - val_accuracy: 0.6600\n",
      "\n",
      "Epoch 00029: val_loss improved from 0.97248 to 0.96444, saving model to singleCharLossNewData1.h5\n",
      "\n",
      "Epoch 00029: val_accuracy did not improve from 0.66100\n",
      "Epoch 30/150\n",
      "14/14 [==============================] - 20s 1s/step - loss: 0.7980 - accuracy: 0.7258 - val_loss: 0.9550 - val_accuracy: 0.6610\n",
      "\n",
      "Epoch 00030: val_loss improved from 0.96444 to 0.95499, saving model to singleCharLossNewData1.h5\n",
      "\n",
      "Epoch 00030: val_accuracy did not improve from 0.66100\n",
      "Epoch 31/150\n",
      "14/14 [==============================] - 20s 1s/step - loss: 0.7742 - accuracy: 0.7262 - val_loss: 0.9370 - val_accuracy: 0.6670\n",
      "\n",
      "Epoch 00031: val_loss improved from 0.95499 to 0.93695, saving model to singleCharLossNewData1.h5\n",
      "\n",
      "Epoch 00031: val_accuracy improved from 0.66100 to 0.66700, saving model to singleCharAccNewData1.h5\n",
      "Epoch 32/150\n",
      "14/14 [==============================] - 20s 1s/step - loss: 0.7363 - accuracy: 0.7520 - val_loss: 0.9387 - val_accuracy: 0.6610\n",
      "\n",
      "Epoch 00032: val_loss did not improve from 0.93695\n",
      "\n",
      "Epoch 00032: val_accuracy did not improve from 0.66700\n",
      "Epoch 33/150\n",
      "14/14 [==============================] - 20s 1s/step - loss: 0.7228 - accuracy: 0.7535 - val_loss: 0.9267 - val_accuracy: 0.6770\n",
      "\n",
      "Epoch 00033: val_loss improved from 0.93695 to 0.92669, saving model to singleCharLossNewData1.h5\n",
      "\n",
      "Epoch 00033: val_accuracy improved from 0.66700 to 0.67700, saving model to singleCharAccNewData1.h5\n",
      "Epoch 34/150\n",
      "14/14 [==============================] - 20s 1s/step - loss: 0.7179 - accuracy: 0.7517 - val_loss: 0.9318 - val_accuracy: 0.6790\n",
      "\n",
      "Epoch 00034: val_loss did not improve from 0.92669\n",
      "\n",
      "Epoch 00034: val_accuracy improved from 0.67700 to 0.67900, saving model to singleCharAccNewData1.h5\n",
      "Epoch 35/150\n",
      "14/14 [==============================] - 20s 1s/step - loss: 0.6921 - accuracy: 0.7650 - val_loss: 0.8969 - val_accuracy: 0.6860\n",
      "\n",
      "Epoch 00035: val_loss improved from 0.92669 to 0.89687, saving model to singleCharLossNewData1.h5\n",
      "\n",
      "Epoch 00035: val_accuracy improved from 0.67900 to 0.68600, saving model to singleCharAccNewData1.h5\n",
      "Epoch 36/150\n",
      "14/14 [==============================] - 20s 1s/step - loss: 0.6880 - accuracy: 0.7625 - val_loss: 0.8977 - val_accuracy: 0.6790\n",
      "\n",
      "Epoch 00036: val_loss did not improve from 0.89687\n",
      "\n",
      "Epoch 00036: val_accuracy did not improve from 0.68600\n",
      "Epoch 37/150\n",
      "14/14 [==============================] - 20s 1s/step - loss: 0.6612 - accuracy: 0.7772 - val_loss: 0.8840 - val_accuracy: 0.6930\n",
      "\n",
      "Epoch 00037: val_loss improved from 0.89687 to 0.88405, saving model to singleCharLossNewData1.h5\n",
      "\n",
      "Epoch 00037: val_accuracy improved from 0.68600 to 0.69300, saving model to singleCharAccNewData1.h5\n",
      "Epoch 38/150\n",
      "14/14 [==============================] - 20s 1s/step - loss: 0.6587 - accuracy: 0.7803 - val_loss: 0.8838 - val_accuracy: 0.6890\n",
      "\n",
      "Epoch 00038: val_loss improved from 0.88405 to 0.88378, saving model to singleCharLossNewData1.h5\n",
      "\n",
      "Epoch 00038: val_accuracy did not improve from 0.69300\n",
      "Epoch 39/150\n",
      "14/14 [==============================] - 20s 1s/step - loss: 0.6560 - accuracy: 0.7742 - val_loss: 0.8701 - val_accuracy: 0.7010\n",
      "\n",
      "Epoch 00039: val_loss improved from 0.88378 to 0.87014, saving model to singleCharLossNewData1.h5\n",
      "\n",
      "Epoch 00039: val_accuracy improved from 0.69300 to 0.70100, saving model to singleCharAccNewData1.h5\n",
      "Epoch 40/150\n",
      "14/14 [==============================] - 20s 1s/step - loss: 0.6368 - accuracy: 0.7850 - val_loss: 0.8457 - val_accuracy: 0.7060\n",
      "\n",
      "Epoch 00040: val_loss improved from 0.87014 to 0.84574, saving model to singleCharLossNewData1.h5\n",
      "\n",
      "Epoch 00040: val_accuracy improved from 0.70100 to 0.70600, saving model to singleCharAccNewData1.h5\n",
      "Epoch 41/150\n",
      "14/14 [==============================] - 20s 1s/step - loss: 0.6203 - accuracy: 0.7925 - val_loss: 0.8826 - val_accuracy: 0.6980\n",
      "\n",
      "Epoch 00041: val_loss did not improve from 0.84574\n",
      "\n",
      "Epoch 00041: val_accuracy did not improve from 0.70600\n",
      "Epoch 42/150\n",
      "14/14 [==============================] - 21s 1s/step - loss: 0.6117 - accuracy: 0.7922 - val_loss: 0.8683 - val_accuracy: 0.6910\n",
      "\n",
      "Epoch 00042: val_loss did not improve from 0.84574\n",
      "\n",
      "Epoch 00042: val_accuracy did not improve from 0.70600\n",
      "Epoch 43/150\n",
      "14/14 [==============================] - 21s 1s/step - loss: 0.6024 - accuracy: 0.7990 - val_loss: 0.8536 - val_accuracy: 0.6910\n",
      "\n",
      "Epoch 00043: val_loss did not improve from 0.84574\n",
      "\n",
      "Epoch 00043: val_accuracy did not improve from 0.70600\n",
      "Epoch 44/150\n",
      "14/14 [==============================] - 21s 1s/step - loss: 0.5954 - accuracy: 0.8002 - val_loss: 0.8555 - val_accuracy: 0.6930\n",
      "\n",
      "Epoch 00044: val_loss did not improve from 0.84574\n",
      "\n",
      "Epoch 00044: val_accuracy did not improve from 0.70600\n",
      "Epoch 45/150\n",
      "14/14 [==============================] - 21s 1s/step - loss: 0.5708 - accuracy: 0.8073 - val_loss: 0.8611 - val_accuracy: 0.7100\n",
      "\n",
      "Epoch 00045: val_loss did not improve from 0.84574\n",
      "\n",
      "Epoch 00045: val_accuracy improved from 0.70600 to 0.71000, saving model to singleCharAccNewData1.h5\n",
      "Epoch 46/150\n",
      "14/14 [==============================] - 21s 1s/step - loss: 0.5592 - accuracy: 0.8110 - val_loss: 0.8582 - val_accuracy: 0.7050\n",
      "\n",
      "Epoch 00046: val_loss did not improve from 0.84574\n",
      "\n",
      "Epoch 00046: val_accuracy did not improve from 0.71000\n",
      "Epoch 47/150\n",
      "14/14 [==============================] - 21s 1s/step - loss: 0.5555 - accuracy: 0.8085 - val_loss: 0.8737 - val_accuracy: 0.7050\n",
      "\n",
      "Epoch 00047: val_loss did not improve from 0.84574\n",
      "\n",
      "Epoch 00047: val_accuracy did not improve from 0.71000\n",
      "Epoch 48/150\n",
      "14/14 [==============================] - 21s 1s/step - loss: 0.5452 - accuracy: 0.8180 - val_loss: 0.8919 - val_accuracy: 0.6940\n",
      "\n",
      "Epoch 00048: val_loss did not improve from 0.84574\n",
      "\n",
      "Epoch 00048: val_accuracy did not improve from 0.71000\n",
      "Epoch 49/150\n",
      "14/14 [==============================] - 26s 2s/step - loss: 0.5309 - accuracy: 0.8210 - val_loss: 0.8228 - val_accuracy: 0.7100\n",
      "\n",
      "Epoch 00049: val_loss improved from 0.84574 to 0.82277, saving model to singleCharLossNewData1.h5\n",
      "\n",
      "Epoch 00049: val_accuracy did not improve from 0.71000\n",
      "Epoch 50/150\n",
      "14/14 [==============================] - 25s 2s/step - loss: 0.5169 - accuracy: 0.8227 - val_loss: 0.8384 - val_accuracy: 0.7090\n",
      "\n",
      "Epoch 00050: val_loss did not improve from 0.82277\n",
      "\n",
      "Epoch 00050: val_accuracy did not improve from 0.71000\n",
      "Epoch 51/150\n",
      "14/14 [==============================] - 20s 1s/step - loss: 0.5122 - accuracy: 0.8288 - val_loss: 0.8137 - val_accuracy: 0.7140\n",
      "\n",
      "Epoch 00051: val_loss improved from 0.82277 to 0.81366, saving model to singleCharLossNewData1.h5\n",
      "\n",
      "Epoch 00051: val_accuracy improved from 0.71000 to 0.71400, saving model to singleCharAccNewData1.h5\n",
      "Epoch 52/150\n",
      "14/14 [==============================] - 20s 1s/step - loss: 0.4946 - accuracy: 0.8310 - val_loss: 0.8247 - val_accuracy: 0.7220\n",
      "\n",
      "Epoch 00052: val_loss did not improve from 0.81366\n",
      "\n",
      "Epoch 00052: val_accuracy improved from 0.71400 to 0.72200, saving model to singleCharAccNewData1.h5\n",
      "Epoch 53/150\n",
      "14/14 [==============================] - 22s 2s/step - loss: 0.5062 - accuracy: 0.8278 - val_loss: 0.8604 - val_accuracy: 0.7100\n",
      "\n",
      "Epoch 00053: val_loss did not improve from 0.81366\n",
      "\n",
      "Epoch 00053: val_accuracy did not improve from 0.72200\n",
      "Epoch 54/150\n"
     ]
    },
    {
     "name": "stdout",
     "output_type": "stream",
     "text": [
      "14/14 [==============================] - 30s 2s/step - loss: 0.4902 - accuracy: 0.8275 - val_loss: 0.8349 - val_accuracy: 0.7060\n",
      "\n",
      "Epoch 00054: val_loss did not improve from 0.81366\n",
      "\n",
      "Epoch 00054: val_accuracy did not improve from 0.72200\n",
      "Epoch 55/150\n",
      "14/14 [==============================] - 30s 2s/step - loss: 0.4740 - accuracy: 0.8400 - val_loss: 0.8295 - val_accuracy: 0.7070\n",
      "\n",
      "Epoch 00055: val_loss did not improve from 0.81366\n",
      "\n",
      "Epoch 00055: val_accuracy did not improve from 0.72200\n",
      "Epoch 56/150\n",
      "14/14 [==============================] - 22s 2s/step - loss: 0.4557 - accuracy: 0.8490 - val_loss: 0.8509 - val_accuracy: 0.7160\n",
      "\n",
      "Epoch 00056: val_loss did not improve from 0.81366\n",
      "\n",
      "Epoch 00056: val_accuracy did not improve from 0.72200\n",
      "Epoch 57/150\n",
      "14/14 [==============================] - 20s 1s/step - loss: 0.4482 - accuracy: 0.8512 - val_loss: 0.7981 - val_accuracy: 0.7250\n",
      "\n",
      "Epoch 00057: val_loss improved from 0.81366 to 0.79812, saving model to singleCharLossNewData1.h5\n",
      "\n",
      "Epoch 00057: val_accuracy improved from 0.72200 to 0.72500, saving model to singleCharAccNewData1.h5\n",
      "Epoch 58/150\n",
      "14/14 [==============================] - 20s 1s/step - loss: 0.4564 - accuracy: 0.8457 - val_loss: 0.8737 - val_accuracy: 0.7030\n",
      "\n",
      "Epoch 00058: val_loss did not improve from 0.79812\n",
      "\n",
      "Epoch 00058: val_accuracy did not improve from 0.72500\n",
      "Epoch 59/150\n",
      "14/14 [==============================] - 20s 1s/step - loss: 0.4560 - accuracy: 0.8512 - val_loss: 0.8007 - val_accuracy: 0.7260\n",
      "\n",
      "Epoch 00059: val_loss did not improve from 0.79812\n",
      "\n",
      "Epoch 00059: val_accuracy improved from 0.72500 to 0.72600, saving model to singleCharAccNewData1.h5\n",
      "Epoch 60/150\n",
      "14/14 [==============================] - 20s 1s/step - loss: 0.4303 - accuracy: 0.8558 - val_loss: 0.8103 - val_accuracy: 0.7190\n",
      "\n",
      "Epoch 00060: val_loss did not improve from 0.79812\n",
      "\n",
      "Epoch 00060: val_accuracy did not improve from 0.72600\n",
      "Epoch 61/150\n",
      "14/14 [==============================] - 20s 1s/step - loss: 0.4200 - accuracy: 0.8577 - val_loss: 0.8137 - val_accuracy: 0.7280\n",
      "\n",
      "Epoch 00061: val_loss did not improve from 0.79812\n",
      "\n",
      "Epoch 00061: val_accuracy improved from 0.72600 to 0.72800, saving model to singleCharAccNewData1.h5\n",
      "Epoch 62/150\n",
      "14/14 [==============================] - 20s 1s/step - loss: 0.4392 - accuracy: 0.8568 - val_loss: 0.8136 - val_accuracy: 0.7180\n",
      "\n",
      "Epoch 00062: val_loss did not improve from 0.79812\n",
      "\n",
      "Epoch 00062: val_accuracy did not improve from 0.72800\n",
      "Epoch 63/150\n",
      "14/14 [==============================] - 20s 1s/step - loss: 0.4139 - accuracy: 0.8648 - val_loss: 0.8415 - val_accuracy: 0.7160\n",
      "\n",
      "Epoch 00063: val_loss did not improve from 0.79812\n",
      "\n",
      "Epoch 00063: val_accuracy did not improve from 0.72800\n",
      "Epoch 64/150\n",
      "14/14 [==============================] - 30s 2s/step - loss: 0.4096 - accuracy: 0.8683 - val_loss: 0.8171 - val_accuracy: 0.7260\n",
      "\n",
      "Epoch 00064: val_loss did not improve from 0.79812\n",
      "\n",
      "Epoch 00064: val_accuracy did not improve from 0.72800\n",
      "Epoch 65/150\n",
      "14/14 [==============================] - 30s 2s/step - loss: 0.4070 - accuracy: 0.8668 - val_loss: 0.8504 - val_accuracy: 0.7220\n",
      "\n",
      "Epoch 00065: val_loss did not improve from 0.79812\n",
      "\n",
      "Epoch 00065: val_accuracy did not improve from 0.72800\n",
      "Epoch 66/150\n",
      "14/14 [==============================] - 26s 2s/step - loss: 0.4139 - accuracy: 0.8668 - val_loss: 0.8583 - val_accuracy: 0.7190\n",
      "\n",
      "Epoch 00066: val_loss did not improve from 0.79812\n",
      "\n",
      "Epoch 00066: val_accuracy did not improve from 0.72800\n",
      "Epoch 67/150\n",
      "14/14 [==============================] - 20s 1s/step - loss: 0.4133 - accuracy: 0.8618 - val_loss: 0.8047 - val_accuracy: 0.7210\n",
      "\n",
      "Epoch 00067: val_loss did not improve from 0.79812\n",
      "\n",
      "Epoch 00067: val_accuracy did not improve from 0.72800\n",
      "Epoch 68/150\n",
      "14/14 [==============================] - 20s 1s/step - loss: 0.3981 - accuracy: 0.8662 - val_loss: 0.8424 - val_accuracy: 0.7200\n",
      "\n",
      "Epoch 00068: val_loss did not improve from 0.79812\n",
      "\n",
      "Epoch 00068: val_accuracy did not improve from 0.72800\n",
      "Epoch 69/150\n",
      "14/14 [==============================] - 20s 1s/step - loss: 0.4041 - accuracy: 0.8615 - val_loss: 0.8211 - val_accuracy: 0.7300\n",
      "\n",
      "Epoch 00069: val_loss did not improve from 0.79812\n",
      "\n",
      "Epoch 00069: val_accuracy improved from 0.72800 to 0.73000, saving model to singleCharAccNewData1.h5\n",
      "Epoch 70/150\n",
      "14/14 [==============================] - 26s 2s/step - loss: 0.3655 - accuracy: 0.8835 - val_loss: 0.7941 - val_accuracy: 0.7270\n",
      "\n",
      "Epoch 00070: val_loss improved from 0.79812 to 0.79414, saving model to singleCharLossNewData1.h5\n",
      "\n",
      "Epoch 00070: val_accuracy did not improve from 0.73000\n",
      "Epoch 71/150\n",
      "14/14 [==============================] - 31s 2s/step - loss: 0.3609 - accuracy: 0.8878 - val_loss: 0.8030 - val_accuracy: 0.7270\n",
      "\n",
      "Epoch 00071: val_loss did not improve from 0.79414\n",
      "\n",
      "Epoch 00071: val_accuracy did not improve from 0.73000\n",
      "Epoch 72/150\n",
      "14/14 [==============================] - 29s 2s/step - loss: 0.3673 - accuracy: 0.8825 - val_loss: 0.8085 - val_accuracy: 0.7370\n",
      "\n",
      "Epoch 00072: val_loss did not improve from 0.79414\n",
      "\n",
      "Epoch 00072: val_accuracy improved from 0.73000 to 0.73700, saving model to singleCharAccNewData1.h5\n",
      "Epoch 73/150\n",
      "14/14 [==============================] - 31s 2s/step - loss: 0.3566 - accuracy: 0.8832 - val_loss: 0.8043 - val_accuracy: 0.7340\n",
      "\n",
      "Epoch 00073: val_loss did not improve from 0.79414\n",
      "\n",
      "Epoch 00073: val_accuracy did not improve from 0.73700\n",
      "Epoch 74/150\n",
      "14/14 [==============================] - 31s 2s/step - loss: 0.3429 - accuracy: 0.8920 - val_loss: 0.7819 - val_accuracy: 0.7450\n",
      "\n",
      "Epoch 00074: val_loss improved from 0.79414 to 0.78186, saving model to singleCharLossNewData1.h5\n",
      "\n",
      "Epoch 00074: val_accuracy improved from 0.73700 to 0.74500, saving model to singleCharAccNewData1.h5\n",
      "Epoch 75/150\n",
      "14/14 [==============================] - 31s 2s/step - loss: 0.3346 - accuracy: 0.8970 - val_loss: 0.8253 - val_accuracy: 0.7290\n",
      "\n",
      "Epoch 00075: val_loss did not improve from 0.78186\n",
      "\n",
      "Epoch 00075: val_accuracy did not improve from 0.74500\n",
      "Epoch 76/150\n",
      "14/14 [==============================] - 31s 2s/step - loss: 0.3492 - accuracy: 0.8938 - val_loss: 0.8298 - val_accuracy: 0.7290\n",
      "\n",
      "Epoch 00076: val_loss did not improve from 0.78186\n",
      "\n",
      "Epoch 00076: val_accuracy did not improve from 0.74500\n",
      "Epoch 77/150\n",
      "14/14 [==============================] - 31s 2s/step - loss: 0.3948 - accuracy: 0.8650 - val_loss: 0.8194 - val_accuracy: 0.7370\n",
      "\n",
      "Epoch 00077: val_loss did not improve from 0.78186\n",
      "\n",
      "Epoch 00077: val_accuracy did not improve from 0.74500\n",
      "Epoch 78/150\n",
      "14/14 [==============================] - 31s 2s/step - loss: 0.3363 - accuracy: 0.8942 - val_loss: 0.7932 - val_accuracy: 0.7390\n",
      "\n",
      "Epoch 00078: val_loss did not improve from 0.78186\n",
      "\n",
      "Epoch 00078: val_accuracy did not improve from 0.74500\n",
      "Epoch 79/150\n",
      "14/14 [==============================] - 31s 2s/step - loss: 0.3095 - accuracy: 0.9040 - val_loss: 0.8429 - val_accuracy: 0.7300\n",
      "\n",
      "Epoch 00079: val_loss did not improve from 0.78186\n",
      "\n",
      "Epoch 00079: val_accuracy did not improve from 0.74500\n",
      "Epoch 80/150\n",
      "14/14 [==============================] - 31s 2s/step - loss: 0.3231 - accuracy: 0.9040 - val_loss: 0.7912 - val_accuracy: 0.7430\n",
      "\n",
      "Epoch 00080: val_loss did not improve from 0.78186\n",
      "\n",
      "Epoch 00080: val_accuracy did not improve from 0.74500\n",
      "Epoch 81/150\n",
      "14/14 [==============================] - 31s 2s/step - loss: 0.3080 - accuracy: 0.9035 - val_loss: 0.8241 - val_accuracy: 0.7380\n",
      "\n",
      "Epoch 00081: val_loss did not improve from 0.78186\n",
      "\n",
      "Epoch 00081: val_accuracy did not improve from 0.74500\n",
      "Epoch 82/150\n",
      "14/14 [==============================] - 30s 2s/step - loss: 0.3065 - accuracy: 0.9053 - val_loss: 0.7985 - val_accuracy: 0.7470\n",
      "\n",
      "Epoch 00082: val_loss did not improve from 0.78186\n",
      "\n",
      "Epoch 00082: val_accuracy improved from 0.74500 to 0.74700, saving model to singleCharAccNewData1.h5\n",
      "Epoch 83/150\n",
      "14/14 [==============================] - 31s 2s/step - loss: 0.2922 - accuracy: 0.9110 - val_loss: 0.8246 - val_accuracy: 0.7320\n",
      "\n",
      "Epoch 00083: val_loss did not improve from 0.78186\n",
      "\n",
      "Epoch 00083: val_accuracy did not improve from 0.74700\n",
      "Epoch 84/150\n",
      "14/14 [==============================] - 31s 2s/step - loss: 0.2792 - accuracy: 0.9200 - val_loss: 0.8231 - val_accuracy: 0.7390\n",
      "\n",
      "Epoch 00084: val_loss did not improve from 0.78186\n",
      "\n",
      "Epoch 00084: val_accuracy did not improve from 0.74700\n",
      "Epoch 85/150\n"
     ]
    },
    {
     "name": "stdout",
     "output_type": "stream",
     "text": [
      "14/14 [==============================] - 23s 2s/step - loss: 0.2740 - accuracy: 0.9200 - val_loss: 0.8285 - val_accuracy: 0.7310\n",
      "\n",
      "Epoch 00085: val_loss did not improve from 0.78186\n",
      "\n",
      "Epoch 00085: val_accuracy did not improve from 0.74700\n",
      "Epoch 86/150\n",
      "14/14 [==============================] - 20s 1s/step - loss: 0.2754 - accuracy: 0.9237 - val_loss: 0.8837 - val_accuracy: 0.7170\n",
      "\n",
      "Epoch 00086: val_loss did not improve from 0.78186\n",
      "\n",
      "Epoch 00086: val_accuracy did not improve from 0.74700\n",
      "Epoch 87/150\n",
      "14/14 [==============================] - 20s 1s/step - loss: 0.2997 - accuracy: 0.9075 - val_loss: 0.8418 - val_accuracy: 0.7360\n",
      "\n",
      "Epoch 00087: val_loss did not improve from 0.78186\n",
      "\n",
      "Epoch 00087: val_accuracy did not improve from 0.74700\n",
      "Epoch 88/150\n",
      "14/14 [==============================] - 20s 1s/step - loss: 0.2722 - accuracy: 0.9178 - val_loss: 0.8198 - val_accuracy: 0.7350\n",
      "\n",
      "Epoch 00088: val_loss did not improve from 0.78186\n",
      "\n",
      "Epoch 00088: val_accuracy did not improve from 0.74700\n",
      "Epoch 89/150\n",
      "14/14 [==============================] - 20s 1s/step - loss: 0.2727 - accuracy: 0.9193 - val_loss: 0.8609 - val_accuracy: 0.7260\n",
      "\n",
      "Epoch 00089: val_loss did not improve from 0.78186\n",
      "\n",
      "Epoch 00089: val_accuracy did not improve from 0.74700\n",
      "Epoch 90/150\n",
      "14/14 [==============================] - 20s 1s/step - loss: 0.2677 - accuracy: 0.9212 - val_loss: 0.8299 - val_accuracy: 0.7410\n",
      "\n",
      "Epoch 00090: val_loss did not improve from 0.78186\n",
      "\n",
      "Epoch 00090: val_accuracy did not improve from 0.74700\n",
      "Epoch 91/150\n",
      "14/14 [==============================] - 20s 1s/step - loss: 0.2536 - accuracy: 0.9252 - val_loss: 0.8086 - val_accuracy: 0.7370\n",
      "\n",
      "Epoch 00091: val_loss did not improve from 0.78186\n",
      "\n",
      "Epoch 00091: val_accuracy did not improve from 0.74700\n",
      "Epoch 92/150\n",
      "14/14 [==============================] - 20s 1s/step - loss: 0.2516 - accuracy: 0.9262 - val_loss: 0.8145 - val_accuracy: 0.7550\n",
      "\n",
      "Epoch 00092: val_loss did not improve from 0.78186\n",
      "\n",
      "Epoch 00092: val_accuracy improved from 0.74700 to 0.75500, saving model to singleCharAccNewData1.h5\n",
      "Epoch 93/150\n",
      "14/14 [==============================] - 20s 1s/step - loss: 0.2351 - accuracy: 0.9385 - val_loss: 0.8123 - val_accuracy: 0.7450\n",
      "\n",
      "Epoch 00093: val_loss did not improve from 0.78186\n",
      "\n",
      "Epoch 00093: val_accuracy did not improve from 0.75500\n",
      "Epoch 94/150\n",
      "14/14 [==============================] - 20s 1s/step - loss: 0.2370 - accuracy: 0.9333 - val_loss: 0.8063 - val_accuracy: 0.7490\n",
      "\n",
      "Epoch 00094: val_loss did not improve from 0.78186\n",
      "\n",
      "Epoch 00094: val_accuracy did not improve from 0.75500\n",
      "Epoch 95/150\n",
      "14/14 [==============================] - 20s 1s/step - loss: 0.2365 - accuracy: 0.9330 - val_loss: 0.8107 - val_accuracy: 0.7500\n",
      "\n",
      "Epoch 00095: val_loss did not improve from 0.78186\n",
      "\n",
      "Epoch 00095: val_accuracy did not improve from 0.75500\n",
      "Epoch 96/150\n",
      "14/14 [==============================] - 20s 1s/step - loss: 0.2280 - accuracy: 0.9427 - val_loss: 0.8354 - val_accuracy: 0.7460\n",
      "\n",
      "Epoch 00096: val_loss did not improve from 0.78186\n",
      "\n",
      "Epoch 00096: val_accuracy did not improve from 0.75500\n",
      "Epoch 97/150\n",
      " 6/14 [===========>..................] - ETA: 10s - loss: 0.2194 - accuracy: 0.9383"
     ]
    }
   ],
   "source": [
    "history = model_final.fit(X_train, y_train, validation_data=(X_test, y_test), batch_size=300, epochs=150, verbose=1, callbacks=[lossCheck, accCheck])"
   ]
  },
  {
   "cell_type": "code",
   "execution_count": null,
   "id": "bf1b81eb",
   "metadata": {},
   "outputs": [],
   "source": []
  },
  {
   "cell_type": "code",
   "execution_count": null,
   "id": "bbb268e3",
   "metadata": {},
   "outputs": [],
   "source": []
  },
  {
   "cell_type": "code",
   "execution_count": null,
   "id": "ef9ba62b",
   "metadata": {},
   "outputs": [],
   "source": []
  },
  {
   "cell_type": "code",
   "execution_count": null,
   "id": "031a5560",
   "metadata": {},
   "outputs": [],
   "source": []
  },
  {
   "cell_type": "code",
   "execution_count": null,
   "id": "92896eb7",
   "metadata": {},
   "outputs": [],
   "source": []
  },
  {
   "cell_type": "code",
   "execution_count": null,
   "id": "8e7937dc",
   "metadata": {},
   "outputs": [],
   "source": [
    "history1 = model_final.fit(X_train, y_train, validation_data=(X_test, y_test), batch_size=300, epochs=50, verbose=1);"
   ]
  },
  {
   "cell_type": "code",
   "execution_count": 57,
   "id": "5e158841",
   "metadata": {},
   "outputs": [
    {
     "name": "stdout",
     "output_type": "stream",
     "text": [
      "Epoch 1/50\n",
      "6/6 [==============================] - 8s 1s/step - loss: 0.7408 - accuracy: 0.7550 - val_loss: 1.7918 - val_accuracy: 0.4675\n",
      "Epoch 2/50\n",
      "6/6 [==============================] - 8s 1s/step - loss: 0.7422 - accuracy: 0.7575 - val_loss: 1.8043 - val_accuracy: 0.4625\n",
      "Epoch 3/50\n",
      "6/6 [==============================] - 8s 1s/step - loss: 0.7343 - accuracy: 0.7569 - val_loss: 1.8027 - val_accuracy: 0.4650\n",
      "Epoch 4/50\n",
      "6/6 [==============================] - 8s 1s/step - loss: 0.7151 - accuracy: 0.7619 - val_loss: 1.7949 - val_accuracy: 0.4775\n",
      "Epoch 5/50\n",
      "6/6 [==============================] - 8s 1s/step - loss: 0.7033 - accuracy: 0.7713 - val_loss: 1.8078 - val_accuracy: 0.4525\n",
      "Epoch 6/50\n",
      "6/6 [==============================] - 8s 1s/step - loss: 0.6999 - accuracy: 0.7706 - val_loss: 1.7969 - val_accuracy: 0.4775\n",
      "Epoch 7/50\n",
      "6/6 [==============================] - 8s 1s/step - loss: 0.6904 - accuracy: 0.7756 - val_loss: 1.8212 - val_accuracy: 0.4575\n",
      "Epoch 8/50\n",
      "6/6 [==============================] - 8s 1s/step - loss: 0.6877 - accuracy: 0.7750 - val_loss: 1.8240 - val_accuracy: 0.4725\n",
      "Epoch 9/50\n",
      "6/6 [==============================] - 8s 1s/step - loss: 0.6798 - accuracy: 0.7744 - val_loss: 1.8378 - val_accuracy: 0.4725\n",
      "Epoch 10/50\n",
      "6/6 [==============================] - 8s 1s/step - loss: 0.6621 - accuracy: 0.7900 - val_loss: 1.8183 - val_accuracy: 0.4550\n",
      "Epoch 11/50\n",
      "6/6 [==============================] - 8s 1s/step - loss: 0.6615 - accuracy: 0.7894 - val_loss: 1.8416 - val_accuracy: 0.4700\n",
      "Epoch 12/50\n",
      "6/6 [==============================] - 8s 1s/step - loss: 0.6520 - accuracy: 0.7881 - val_loss: 1.8290 - val_accuracy: 0.4625\n",
      "Epoch 13/50\n",
      "6/6 [==============================] - 8s 1s/step - loss: 0.6451 - accuracy: 0.7994 - val_loss: 1.8467 - val_accuracy: 0.4650\n",
      "Epoch 14/50\n",
      "6/6 [==============================] - 8s 1s/step - loss: 0.6377 - accuracy: 0.7925 - val_loss: 1.8536 - val_accuracy: 0.4550\n",
      "Epoch 15/50\n",
      "6/6 [==============================] - 8s 1s/step - loss: 0.6339 - accuracy: 0.8019 - val_loss: 1.8390 - val_accuracy: 0.4725\n",
      "Epoch 16/50\n",
      "6/6 [==============================] - 8s 1s/step - loss: 0.6244 - accuracy: 0.8062 - val_loss: 1.8511 - val_accuracy: 0.4750\n",
      "Epoch 17/50\n",
      "6/6 [==============================] - 8s 1s/step - loss: 0.6168 - accuracy: 0.8087 - val_loss: 1.8527 - val_accuracy: 0.4750\n",
      "Epoch 18/50\n",
      "6/6 [==============================] - 8s 1s/step - loss: 0.6079 - accuracy: 0.8106 - val_loss: 1.8652 - val_accuracy: 0.4750\n",
      "Epoch 19/50\n",
      "6/6 [==============================] - 8s 1s/step - loss: 0.6047 - accuracy: 0.8087 - val_loss: 1.8641 - val_accuracy: 0.4775\n",
      "Epoch 20/50\n",
      "6/6 [==============================] - 8s 1s/step - loss: 0.5947 - accuracy: 0.8169 - val_loss: 1.8819 - val_accuracy: 0.4600\n",
      "Epoch 21/50\n",
      "6/6 [==============================] - 8s 1s/step - loss: 0.5956 - accuracy: 0.8225 - val_loss: 1.8783 - val_accuracy: 0.4600\n",
      "Epoch 22/50\n",
      "6/6 [==============================] - 8s 1s/step - loss: 0.5831 - accuracy: 0.8250 - val_loss: 1.8955 - val_accuracy: 0.4700\n",
      "Epoch 23/50\n",
      "6/6 [==============================] - 8s 1s/step - loss: 0.5753 - accuracy: 0.8238 - val_loss: 1.8912 - val_accuracy: 0.4800\n",
      "Epoch 24/50\n",
      "6/6 [==============================] - 8s 1s/step - loss: 0.5726 - accuracy: 0.8238 - val_loss: 1.8961 - val_accuracy: 0.4700\n",
      "Epoch 25/50\n",
      "6/6 [==============================] - 8s 1s/step - loss: 0.5647 - accuracy: 0.8269 - val_loss: 1.9268 - val_accuracy: 0.4575\n",
      "Epoch 26/50\n",
      "6/6 [==============================] - 8s 1s/step - loss: 0.5607 - accuracy: 0.8313 - val_loss: 1.8930 - val_accuracy: 0.4650\n",
      "Epoch 27/50\n",
      "6/6 [==============================] - 8s 1s/step - loss: 0.5489 - accuracy: 0.8375 - val_loss: 1.9358 - val_accuracy: 0.4650\n",
      "Epoch 28/50\n",
      "6/6 [==============================] - 8s 1s/step - loss: 0.5451 - accuracy: 0.8363 - val_loss: 1.8949 - val_accuracy: 0.4800\n",
      "Epoch 29/50\n",
      "6/6 [==============================] - 8s 1s/step - loss: 0.5416 - accuracy: 0.8381 - val_loss: 1.9247 - val_accuracy: 0.4600\n",
      "Epoch 30/50\n",
      "6/6 [==============================] - 8s 1s/step - loss: 0.5400 - accuracy: 0.8306 - val_loss: 1.9381 - val_accuracy: 0.4525\n",
      "Epoch 31/50\n",
      "6/6 [==============================] - 8s 1s/step - loss: 0.5348 - accuracy: 0.8338 - val_loss: 1.9504 - val_accuracy: 0.4600\n",
      "Epoch 32/50\n",
      "6/6 [==============================] - 8s 1s/step - loss: 0.5357 - accuracy: 0.8338 - val_loss: 1.9244 - val_accuracy: 0.4650\n",
      "Epoch 33/50\n",
      "6/6 [==============================] - 8s 1s/step - loss: 0.5228 - accuracy: 0.8438 - val_loss: 1.9532 - val_accuracy: 0.4775\n",
      "Epoch 34/50\n",
      "6/6 [==============================] - 8s 1s/step - loss: 0.5194 - accuracy: 0.8394 - val_loss: 1.9669 - val_accuracy: 0.4625\n",
      "Epoch 35/50\n",
      "6/6 [==============================] - 8s 1s/step - loss: 0.5128 - accuracy: 0.8506 - val_loss: 1.9623 - val_accuracy: 0.4700\n",
      "Epoch 36/50\n",
      "6/6 [==============================] - 8s 1s/step - loss: 0.5096 - accuracy: 0.8462 - val_loss: 1.9527 - val_accuracy: 0.4800\n",
      "Epoch 37/50\n",
      "6/6 [==============================] - 8s 1s/step - loss: 0.5023 - accuracy: 0.8475 - val_loss: 1.9714 - val_accuracy: 0.4525\n",
      "Epoch 38/50\n",
      "6/6 [==============================] - 8s 1s/step - loss: 0.4928 - accuracy: 0.8519 - val_loss: 1.9758 - val_accuracy: 0.4475\n",
      "Epoch 39/50\n",
      "6/6 [==============================] - 8s 1s/step - loss: 0.4966 - accuracy: 0.8475 - val_loss: 1.9702 - val_accuracy: 0.4725\n",
      "Epoch 40/50\n",
      "6/6 [==============================] - 8s 1s/step - loss: 0.4968 - accuracy: 0.8450 - val_loss: 1.9951 - val_accuracy: 0.4500\n",
      "Epoch 41/50\n",
      "6/6 [==============================] - 8s 1s/step - loss: 0.4925 - accuracy: 0.8475 - val_loss: 1.9839 - val_accuracy: 0.4625\n",
      "Epoch 42/50\n",
      "6/6 [==============================] - 8s 1s/step - loss: 0.4779 - accuracy: 0.8594 - val_loss: 1.9874 - val_accuracy: 0.4800\n",
      "Epoch 43/50\n",
      "6/6 [==============================] - 8s 1s/step - loss: 0.4793 - accuracy: 0.8562 - val_loss: 2.0021 - val_accuracy: 0.4575\n",
      "Epoch 44/50\n",
      "6/6 [==============================] - 8s 1s/step - loss: 0.4671 - accuracy: 0.8619 - val_loss: 2.0150 - val_accuracy: 0.4700\n",
      "Epoch 45/50\n",
      "6/6 [==============================] - 8s 1s/step - loss: 0.4710 - accuracy: 0.8550 - val_loss: 1.9936 - val_accuracy: 0.4650\n",
      "Epoch 46/50\n",
      "6/6 [==============================] - 8s 1s/step - loss: 0.4612 - accuracy: 0.8656 - val_loss: 2.0052 - val_accuracy: 0.4675\n",
      "Epoch 47/50\n",
      "6/6 [==============================] - 8s 1s/step - loss: 0.4522 - accuracy: 0.8681 - val_loss: 2.0075 - val_accuracy: 0.4650\n",
      "Epoch 48/50\n",
      "6/6 [==============================] - 8s 1s/step - loss: 0.4440 - accuracy: 0.8694 - val_loss: 2.0283 - val_accuracy: 0.4575\n",
      "Epoch 49/50\n",
      "6/6 [==============================] - 8s 1s/step - loss: 0.4398 - accuracy: 0.8712 - val_loss: 2.0368 - val_accuracy: 0.4500\n",
      "Epoch 50/50\n",
      "6/6 [==============================] - 8s 1s/step - loss: 0.4381 - accuracy: 0.8725 - val_loss: 2.0166 - val_accuracy: 0.4675\n"
     ]
    }
   ],
   "source": [
    "history2 = model_final.fit(X_train, y_train, validation_data=(X_test, y_test), batch_size=300, epochs=50, verbose=1);"
   ]
  },
  {
   "cell_type": "code",
   "execution_count": 61,
   "id": "da7a2bb2",
   "metadata": {},
   "outputs": [
    {
     "data": {
      "text/plain": [
       "0.47999998927116394"
      ]
     },
     "execution_count": 61,
     "metadata": {},
     "output_type": "execute_result"
    }
   ],
   "source": [
    "max(max(history.history[\"val_accuracy\"]), max(history1.history[\"val_accuracy\"]), max(history2.history[\"val_accuracy\"]))"
   ]
  },
  {
   "cell_type": "code",
   "execution_count": 63,
   "id": "c626d7aa",
   "metadata": {},
   "outputs": [
    {
     "name": "stdout",
     "output_type": "stream",
     "text": [
      "8/8 [==============================] - 5s 569ms/step\n"
     ]
    }
   ],
   "source": [
    "xtr = model_final.predict(X_train, batch_size = 200, verbose=1)"
   ]
  },
  {
   "cell_type": "code",
   "execution_count": 64,
   "id": "eed2c6ff",
   "metadata": {},
   "outputs": [
    {
     "name": "stdout",
     "output_type": "stream",
     "text": [
      "4/4 [==============================] - 1s 294ms/step\n"
     ]
    }
   ],
   "source": [
    "Xtest = model_final.predict(X_test, batch_size = 100, verbose=1);"
   ]
  },
  {
   "cell_type": "code",
   "execution_count": 65,
   "id": "45de9b32",
   "metadata": {},
   "outputs": [
    {
     "name": "stdout",
     "output_type": "stream",
     "text": [
      "(1600, 10)\n"
     ]
    }
   ],
   "source": [
    "print(xtr.shape)"
   ]
  },
  {
   "cell_type": "code",
   "execution_count": 66,
   "id": "00b6fa0c",
   "metadata": {},
   "outputs": [],
   "source": [
    "resize = np.prod(xtr.shape[1:])"
   ]
  },
  {
   "cell_type": "code",
   "execution_count": 67,
   "id": "4da9997f",
   "metadata": {},
   "outputs": [],
   "source": [
    "xtr = np.reshape(xtr, (1600, resize));\n",
    "Xtest = np.reshape(Xtest, (400, resize));"
   ]
  },
  {
   "cell_type": "code",
   "execution_count": 74,
   "id": "85686e1f",
   "metadata": {},
   "outputs": [],
   "source": [
    "bf_train_s = xtr\n",
    "bf_test_s = Xtest"
   ]
  },
  {
   "cell_type": "code",
   "execution_count": 75,
   "id": "7d2c4913",
   "metadata": {},
   "outputs": [],
   "source": [
    "y_train_mc = np.argmax(y_train, axis=1)\n",
    "y_test_mc = np.argmax(y_test, axis = 1)"
   ]
  },
  {
   "cell_type": "code",
   "execution_count": 80,
   "id": "99eb15f4",
   "metadata": {},
   "outputs": [],
   "source": [
    "from sklearn.linear_model import LogisticRegression\n",
    "from sklearn import svm\n"
   ]
  },
  {
   "cell_type": "code",
   "execution_count": 77,
   "id": "8972ded8",
   "metadata": {},
   "outputs": [],
   "source": [
    "clf = LogisticRegression(multi_class='multinomial', solver='lbfgs', verbose=1,max_iter=10000)"
   ]
  },
  {
   "cell_type": "code",
   "execution_count": 78,
   "id": "53675f1d",
   "metadata": {},
   "outputs": [
    {
     "name": "stderr",
     "output_type": "stream",
     "text": [
      "[Parallel(n_jobs=1)]: Using backend SequentialBackend with 1 concurrent workers.\n",
      "[Parallel(n_jobs=1)]: Done   1 out of   1 | elapsed:    0.0s finished\n"
     ]
    },
    {
     "data": {
      "text/plain": [
       "LogisticRegression(max_iter=10000, multi_class='multinomial', verbose=1)"
      ]
     },
     "execution_count": 78,
     "metadata": {},
     "output_type": "execute_result"
    }
   ],
   "source": [
    "clf.fit(bf_train_s,y_train_mc)"
   ]
  },
  {
   "cell_type": "code",
   "execution_count": 79,
   "id": "488e55e1",
   "metadata": {},
   "outputs": [
    {
     "name": "stdout",
     "output_type": "stream",
     "text": [
      "0.4675\n"
     ]
    }
   ],
   "source": [
    "print(clf.score(bf_test_s, y_test_mc))"
   ]
  },
  {
   "cell_type": "code",
   "execution_count": 81,
   "id": "b05a2170",
   "metadata": {},
   "outputs": [
    {
     "name": "stdout",
     "output_type": "stream",
     "text": [
      "[LibLinear]"
     ]
    },
    {
     "data": {
      "text/plain": [
       "LinearSVC(C=0.0002, max_iter=800000, verbose=1)"
      ]
     },
     "execution_count": 81,
     "metadata": {},
     "output_type": "execute_result"
    }
   ],
   "source": [
    "multiClassSVM = svm.LinearSVC(loss = 'squared_hinge', penalty = 'l2',C=1/5000 ,max_iter=800000,verbose=1) \n",
    "multiClassSVM.fit(bf_train_s,y_train_mc)"
   ]
  },
  {
   "cell_type": "code",
   "execution_count": 82,
   "id": "c69acee0",
   "metadata": {},
   "outputs": [
    {
     "data": {
      "text/plain": [
       "0.465"
      ]
     },
     "execution_count": 82,
     "metadata": {},
     "output_type": "execute_result"
    }
   ],
   "source": [
    "multiClassSVM.score(bf_test_s, y_test_mc)"
   ]
  },
  {
   "cell_type": "code",
   "execution_count": null,
   "id": "c213ffe4",
   "metadata": {},
   "outputs": [],
   "source": []
  }
 ],
 "metadata": {
  "kernelspec": {
   "display_name": "Python 3",
   "language": "python",
   "name": "python3"
  },
  "language_info": {
   "codemirror_mode": {
    "name": "ipython",
    "version": 3
   },
   "file_extension": ".py",
   "mimetype": "text/x-python",
   "name": "python",
   "nbconvert_exporter": "python",
   "pygments_lexer": "ipython3",
   "version": "3.6.13"
  }
 },
 "nbformat": 4,
 "nbformat_minor": 5
}
