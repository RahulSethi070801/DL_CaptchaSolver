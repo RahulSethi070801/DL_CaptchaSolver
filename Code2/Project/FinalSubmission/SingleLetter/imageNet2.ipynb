{
 "cells": [
  {
   "cell_type": "code",
   "execution_count": 57,
   "id": "6635d3fc",
   "metadata": {},
   "outputs": [],
   "source": [
    "from tensorflow.keras import applications\n",
    "from keras.preprocessing.image import ImageDataGenerator\n",
    "from keras import optimizers\n",
    "from keras.models import Sequential, Model\n",
    "from keras.layers import Input, Dropout, Flatten, Dense, GlobalAveragePooling2D\n",
    "from keras.layers import Conv2D\n",
    "from keras import backend as k\n",
    "from keras.callbacks import ModelCheckpoint, LearningRateScheduler, TensorBoard, EarlyStopping\n",
    "import numpy as np\n",
    "from sklearn.model_selection import train_test_split\n",
    "from keras.utils import np_utils\n",
    "import pickle\n",
    "import tensorflow as tf\n",
    "from sklearn.linear_model import LogisticRegression\n",
    "from keras import backend as k\n",
    "from keras.applications.inception_v3 import InceptionV3\n",
    "from keras.utils import np_utils\n",
    "from sklearn import svm\n"
   ]
  },
  {
   "cell_type": "code",
   "execution_count": 2,
   "id": "e1538a69",
   "metadata": {},
   "outputs": [],
   "source": [
    "def loadPickleData(file):\n",
    "    data = pickle.load(open(file, 'rb'));\n",
    "    images = data[0];\n",
    "    labels = data[1];\n",
    "    return [images, labels]"
   ]
  },
  {
   "cell_type": "code",
   "execution_count": 3,
   "id": "b1c0c7fb",
   "metadata": {},
   "outputs": [],
   "source": [
    "[images,labels] = loadPickleData(\"./../Data/pickledFiles/Num_SingleDigit_3channel.p\")"
   ]
  },
  {
   "cell_type": "code",
   "execution_count": 4,
   "id": "dc2771ea",
   "metadata": {},
   "outputs": [
    {
     "name": "stdout",
     "output_type": "stream",
     "text": [
      "[[0. 0. 0. ... 0. 0. 0.]\n",
      " [0. 0. 1. ... 0. 0. 0.]\n",
      " [0. 1. 0. ... 0. 0. 0.]\n",
      " ...\n",
      " [0. 0. 0. ... 0. 1. 0.]\n",
      " [1. 0. 0. ... 0. 0. 0.]\n",
      " [1. 0. 0. ... 0. 0. 0.]]\n",
      "(2000, 10)\n"
     ]
    }
   ],
   "source": [
    "y = np_utils.to_categorical(labels);\n",
    "print(y);\n",
    "print(y.shape)"
   ]
  },
  {
   "cell_type": "code",
   "execution_count": 30,
   "id": "51dcb812",
   "metadata": {},
   "outputs": [
    {
     "name": "stdout",
     "output_type": "stream",
     "text": [
      "(2000, 60, 40, 3)\n"
     ]
    }
   ],
   "source": [
    "X = images\n",
    "print(X.shape)\n",
    "# X = np.reshape(X, (2000,139, 139,3));"
   ]
  },
  {
   "cell_type": "code",
   "execution_count": 31,
   "id": "561494a2",
   "metadata": {},
   "outputs": [],
   "source": [
    "X_train, X_test, y_train, y_test = train_test_split(X,y, test_size = 0.2);"
   ]
  },
  {
   "cell_type": "code",
   "execution_count": 35,
   "id": "4b999434",
   "metadata": {},
   "outputs": [],
   "source": [
    "model = applications.VGG19(weights = \"imagenet\", include_top=False,\\\n",
    "                           input_shape = (60,40, 3), pooling = 'max')"
   ]
  },
  {
   "cell_type": "code",
   "execution_count": 36,
   "id": "a4013c31",
   "metadata": {},
   "outputs": [],
   "source": [
    "inputt = Input(shape =  (60,40,3), name = 'captcha_input')"
   ]
  },
  {
   "cell_type": "code",
   "execution_count": 37,
   "id": "d30a9ebe",
   "metadata": {},
   "outputs": [],
   "source": [
    "output_vgg16_conv = model(inputt);"
   ]
  },
  {
   "cell_type": "code",
   "execution_count": 38,
   "id": "9a0506f3",
   "metadata": {},
   "outputs": [],
   "source": [
    "model_final = Model(inputt,output_vgg16_conv)"
   ]
  },
  {
   "cell_type": "code",
   "execution_count": 39,
   "id": "e14eb1c5",
   "metadata": {},
   "outputs": [
    {
     "name": "stdout",
     "output_type": "stream",
     "text": [
      "Model: \"model_3\"\n",
      "_________________________________________________________________\n",
      "Layer (type)                 Output Shape              Param #   \n",
      "=================================================================\n",
      "captcha_input (InputLayer)   [(None, 60, 40, 3)]       0         \n",
      "_________________________________________________________________\n",
      "vgg19 (Functional)           (None, 512)               20024384  \n",
      "=================================================================\n",
      "Total params: 20,024,384\n",
      "Trainable params: 20,024,384\n",
      "Non-trainable params: 0\n",
      "_________________________________________________________________\n",
      "None\n"
     ]
    }
   ],
   "source": [
    "model_final.compile(loss = \"categorical_crossentropy\",\\\n",
    "                    optimizer = tf.keras.optimizers.SGD(learning_rate=0.0001, momentum=0.9), metrics=[\"accuracy\"])\n",
    "print(model_final.summary())"
   ]
  },
  {
   "cell_type": "code",
   "execution_count": 40,
   "id": "cae44282",
   "metadata": {},
   "outputs": [
    {
     "name": "stdout",
     "output_type": "stream",
     "text": [
      "8/8 [==============================] - 5s 578ms/step\n"
     ]
    }
   ],
   "source": [
    "X_train = model_final.predict(X_train, batch_size = 200, verbose=1)\n"
   ]
  },
  {
   "cell_type": "code",
   "execution_count": 41,
   "id": "3df40b57",
   "metadata": {},
   "outputs": [
    {
     "name": "stdout",
     "output_type": "stream",
     "text": [
      "4/4 [==============================] - 1s 299ms/step\n"
     ]
    }
   ],
   "source": [
    "X_test = model_final.predict(X_test, batch_size = 100, verbose=1);"
   ]
  },
  {
   "cell_type": "code",
   "execution_count": 42,
   "id": "33721bdd",
   "metadata": {},
   "outputs": [
    {
     "name": "stdout",
     "output_type": "stream",
     "text": [
      "(1600, 512)\n"
     ]
    }
   ],
   "source": [
    "print(X_train.shape)"
   ]
  },
  {
   "cell_type": "code",
   "execution_count": 43,
   "id": "ed243fb8",
   "metadata": {},
   "outputs": [],
   "source": [
    "resize = np.prod(X_train.shape[1:])"
   ]
  },
  {
   "cell_type": "code",
   "execution_count": 44,
   "id": "de2cb745",
   "metadata": {},
   "outputs": [],
   "source": [
    "X_train = np.reshape(X_train, (1600, resize));\n",
    "X_test = np.reshape(X_test, (400, resize));"
   ]
  },
  {
   "cell_type": "code",
   "execution_count": 45,
   "id": "147ce8ad",
   "metadata": {},
   "outputs": [],
   "source": [
    "bf_train_s = X_train\n",
    "bf_test_s = X_test"
   ]
  },
  {
   "cell_type": "code",
   "execution_count": 46,
   "id": "5f66e677",
   "metadata": {},
   "outputs": [],
   "source": [
    "y_train_mc = np.argmax(y_train, axis=1)\n",
    "y_test_mc = np.argmax(y_test, axis = 1)"
   ]
  },
  {
   "cell_type": "code",
   "execution_count": 53,
   "id": "fa2b5666",
   "metadata": {},
   "outputs": [],
   "source": [
    "clf = LogisticRegression(multi_class='multinomial', solver='lbfgs', verbose=1,max_iter=10000)"
   ]
  },
  {
   "cell_type": "code",
   "execution_count": 54,
   "id": "8690836b",
   "metadata": {},
   "outputs": [
    {
     "name": "stderr",
     "output_type": "stream",
     "text": [
      "[Parallel(n_jobs=1)]: Using backend SequentialBackend with 1 concurrent workers.\n",
      "[Parallel(n_jobs=1)]: Done   1 out of   1 | elapsed:   30.8s finished\n"
     ]
    }
   ],
   "source": [
    "clf.fit(bf_train_s,y_train_mc);"
   ]
  },
  {
   "cell_type": "code",
   "execution_count": 55,
   "id": "6c9f5f73",
   "metadata": {},
   "outputs": [
    {
     "name": "stdout",
     "output_type": "stream",
     "text": [
      "0.255\n"
     ]
    }
   ],
   "source": [
    "print(clf.score(bf_test_s, y_test_mc));\n"
   ]
  },
  {
   "cell_type": "code",
   "execution_count": 58,
   "id": "fd29f91a",
   "metadata": {},
   "outputs": [
    {
     "name": "stdout",
     "output_type": "stream",
     "text": [
      "[LibLinear]"
     ]
    },
    {
     "data": {
      "text/plain": [
       "LinearSVC(C=0.0002, max_iter=800000, verbose=1)"
      ]
     },
     "execution_count": 58,
     "metadata": {},
     "output_type": "execute_result"
    }
   ],
   "source": [
    "multiClassSVM = svm.LinearSVC(loss = 'squared_hinge', penalty = 'l2',C=1/5000 ,max_iter=800000,verbose=1) \n",
    "multiClassSVM.fit(bf_train_s,y_train_mc)"
   ]
  },
  {
   "cell_type": "code",
   "execution_count": 61,
   "id": "de9883a0",
   "metadata": {},
   "outputs": [
    {
     "data": {
      "text/plain": [
       "0.305"
      ]
     },
     "execution_count": 61,
     "metadata": {},
     "output_type": "execute_result"
    }
   ],
   "source": [
    "multiClassSVM.score(bf_test_s, y_test_mc)"
   ]
  },
  {
   "cell_type": "code",
   "execution_count": null,
   "id": "4b19de20",
   "metadata": {},
   "outputs": [],
   "source": []
  }
 ],
 "metadata": {
  "kernelspec": {
   "display_name": "Python 3",
   "language": "python",
   "name": "python3"
  },
  "language_info": {
   "codemirror_mode": {
    "name": "ipython",
    "version": 3
   },
   "file_extension": ".py",
   "mimetype": "text/x-python",
   "name": "python",
   "nbconvert_exporter": "python",
   "pygments_lexer": "ipython3",
   "version": "3.6.13"
  }
 },
 "nbformat": 4,
 "nbformat_minor": 5
}
