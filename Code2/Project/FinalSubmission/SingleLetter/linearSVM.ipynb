{
 "cells": [
  {
   "cell_type": "code",
   "execution_count": 2,
   "id": "16457c40",
   "metadata": {},
   "outputs": [],
   "source": [
    "import numpy as np\n",
    "from PIL import Image\n",
    "from sklearn import svm\n",
    "import os\n",
    "import pickle\n",
    "from numpy import int"
   ]
  },
  {
   "cell_type": "code",
   "execution_count": 3,
   "id": "eb2ea1a6",
   "metadata": {},
   "outputs": [],
   "source": [
    "def loadPickleData(file):\n",
    "    data = pickle.load(open(file, 'rb'));\n",
    "    images = data[0];\n",
    "    labels = data[1];\n",
    "    return [images, labels]"
   ]
  },
  {
   "cell_type": "code",
   "execution_count": 4,
   "id": "6d3155a6",
   "metadata": {},
   "outputs": [],
   "source": [
    "[images,labels] = loadPickleData(\"./../Data/pickledFiles/Num_SingleDigit.p\")"
   ]
  },
  {
   "cell_type": "code",
   "execution_count": 9,
   "id": "13e1fcea",
   "metadata": {},
   "outputs": [],
   "source": [
    "images = images.reshape(2000, -1)"
   ]
  },
  {
   "cell_type": "code",
   "execution_count": 10,
   "id": "c5fbb052",
   "metadata": {},
   "outputs": [],
   "source": [
    "nTrainPrcntg = 0.7\n",
    "nTrain = int(nTrainPrcntg*images.shape[0])\n",
    "trainData = images[0:nTrain,:]\n",
    "trainLabel = labels[0:nTrain,]\n",
    "testData = images[nTrain:,:]\n",
    "testLabel = labels[nTrain:,]"
   ]
  },
  {
   "cell_type": "code",
   "execution_count": null,
   "id": "750dc103",
   "metadata": {},
   "outputs": [
    {
     "name": "stdout",
     "output_type": "stream",
     "text": [
      "[LibLinear]"
     ]
    }
   ],
   "source": [
    "multiClassSVM = svm.LinearSVC(loss = 'squared_hinge', penalty = 'l2',C=1/5000 ,max_iter=800000,verbose=1) \n",
    "multiClassSVM.fit(trainData,trainLabel)"
   ]
  },
  {
   "cell_type": "code",
   "execution_count": 19,
   "id": "90941f6a",
   "metadata": {},
   "outputs": [
    {
     "data": {
      "text/plain": [
       "0.17333333333333334"
      ]
     },
     "execution_count": 19,
     "metadata": {},
     "output_type": "execute_result"
    }
   ],
   "source": [
    "multiClassSVM.score(testData, testLabel)"
   ]
  },
  {
   "cell_type": "code",
   "execution_count": null,
   "id": "e7f6e61b",
   "metadata": {},
   "outputs": [],
   "source": []
  }
 ],
 "metadata": {
  "kernelspec": {
   "display_name": "Python 3",
   "language": "python",
   "name": "python3"
  },
  "language_info": {
   "codemirror_mode": {
    "name": "ipython",
    "version": 3
   },
   "file_extension": ".py",
   "mimetype": "text/x-python",
   "name": "python",
   "nbconvert_exporter": "python",
   "pygments_lexer": "ipython3",
   "version": "3.6.13"
  }
 },
 "nbformat": 4,
 "nbformat_minor": 5
}
