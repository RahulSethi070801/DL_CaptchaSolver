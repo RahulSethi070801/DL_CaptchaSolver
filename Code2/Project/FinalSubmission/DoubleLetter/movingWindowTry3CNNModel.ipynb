{
 "cells": [
  {
   "cell_type": "code",
   "execution_count": 5,
   "id": "97057e40",
   "metadata": {},
   "outputs": [],
   "source": [
    "from tensorflow.keras import applications\n",
    "from keras.preprocessing.image import ImageDataGenerator\n",
    "from keras import optimizers\n",
    "from keras.models import Sequential, Model\n",
    "from keras.layers import Input, Dropout, Flatten, Dense, GlobalAveragePooling2D\n",
    "from keras.layers import Conv2D\n",
    "from keras import backend as k\n",
    "from keras.callbacks import ModelCheckpoint, LearningRateScheduler, TensorBoard, EarlyStopping\n",
    "import numpy as np\n",
    "from sklearn.model_selection import train_test_split\n",
    "from keras.utils import np_utils\n",
    "import pickle\n",
    "import tensorflow as tf\n",
    "import matplotlib.pyplot as plt\n",
    "import torch\n",
    "import pickle\n",
    "from keras.models import Sequential\n",
    "from keras.layers import Dense,Dropout, Activation,Flatten\n",
    "from keras.layers import Conv2D, MaxPooling2D\n",
    "import matplotlib.pyplot as plt\n",
    "import numpy as np\n",
    "from keras.utils import np_utils\n",
    "from keras.callbacks import ModelCheckpoint, LearningRateScheduler, TensorBoard, EarlyStopping\n",
    "from sklearn.model_selection import train_test_split"
   ]
  },
  {
   "cell_type": "code",
   "execution_count": 2,
   "id": "981d0ea0",
   "metadata": {},
   "outputs": [],
   "source": [
    "from tqdm.notebook import tqdm"
   ]
  },
  {
   "cell_type": "code",
   "execution_count": 3,
   "id": "83b74777",
   "metadata": {},
   "outputs": [],
   "source": [
    "def loadPickleData(file):\n",
    "    data = pickle.load(open(file, 'rb'));\n",
    "    images = data[0];\n",
    "    labels = data[1];\n",
    "    return [images, labels]"
   ]
  },
  {
   "cell_type": "code",
   "execution_count": 7,
   "id": "a207336d",
   "metadata": {},
   "outputs": [],
   "source": [
    "model = Sequential();\n",
    "model.add(Conv2D(20,(2,2),strides = 1, activation = 'relu', input_shape = (60,40,1)))\n",
    "model.add(MaxPooling2D(pool_size = (2,2)));\n",
    "model.add(Conv2D(40,(3,3),strides = 1, activation = 'relu'))\n",
    "model.add(Dropout(0.1));\n",
    "model.add(Conv2D(80,(2,2),strides = 1, activation = 'relu'))\n",
    "model.add(Conv2D(40,(2,2),strides = 1, activation = 'relu'))\n",
    "model.add(MaxPooling2D(pool_size = (2,2)));\n",
    "model.add(Flatten())\n",
    "model.add(Dense(500, activation = 'relu'))\n",
    "model.add(Dropout(0.1));\n",
    "model.add(Dense(200, activation = 'relu'))\n",
    "model.add(Dropout(0.1));\n",
    "model.add(Dense(10, activation = 'softmax'));\n",
    "model.compile(loss='categorical_crossentropy',\n",
    "              optimizer='adam',\n",
    "              metrics=['accuracy'])"
   ]
  },
  {
   "cell_type": "code",
   "execution_count": 57,
   "id": "bf0bce13",
   "metadata": {},
   "outputs": [],
   "source": [
    "model = tf.keras.models.load_model('./../SingleLetter/singleCharLossNewDataCNN.h5')"
   ]
  },
  {
   "cell_type": "code",
   "execution_count": 58,
   "id": "bc562335",
   "metadata": {},
   "outputs": [],
   "source": [
    "[images,labels] = loadPickleData(\"./../Data/pickledFiles/Num_NewData_2char_1channel.p\")"
   ]
  },
  {
   "cell_type": "code",
   "execution_count": 59,
   "id": "46baa2f4",
   "metadata": {},
   "outputs": [],
   "source": [
    "images = np.reshape(images, (5000,60,80,1))"
   ]
  },
  {
   "cell_type": "code",
   "execution_count": 60,
   "id": "2ba68940",
   "metadata": {},
   "outputs": [
    {
     "data": {
      "application/vnd.jupyter.widget-view+json": {
       "model_id": "7dbaed7aaac045c483e3630a6ccd8b29",
       "version_major": 2,
       "version_minor": 0
      },
      "text/plain": [
       "  0%|          | 0/2 [00:00<?, ?it/s]"
      ]
     },
     "metadata": {},
     "output_type": "display_data"
    }
   ],
   "source": [
    "finalPreds = []\n",
    "preds = []\n",
    "for j in tqdm(range(2)):\n",
    "    img = images[:, :, 40*j:40*(j+1), :]\n",
    "    pred = np.argmax(model.predict(img), axis=1)\n",
    "    preds.append(pred)"
   ]
  },
  {
   "cell_type": "code",
   "execution_count": 61,
   "id": "d9715ba5",
   "metadata": {},
   "outputs": [
    {
     "data": {
      "text/plain": [
       "5000"
      ]
     },
     "execution_count": 61,
     "metadata": {},
     "output_type": "execute_result"
    }
   ],
   "source": [
    "len(preds[0])"
   ]
  },
  {
   "cell_type": "code",
   "execution_count": 62,
   "id": "f8a15bf2",
   "metadata": {},
   "outputs": [],
   "source": [
    "catTuple = (torch.from_numpy(preds[0]), torch.from_numpy(preds[1]))"
   ]
  },
  {
   "cell_type": "code",
   "execution_count": 63,
   "id": "57940a0e",
   "metadata": {},
   "outputs": [
    {
     "data": {
      "application/vnd.jupyter.widget-view+json": {
       "model_id": "cd8e5138f3af43968948d75eaa113750",
       "version_major": 2,
       "version_minor": 0
      },
      "text/plain": [
       "  0%|          | 0/5000 [00:00<?, ?it/s]"
      ]
     },
     "metadata": {},
     "output_type": "display_data"
    }
   ],
   "source": [
    "# 2len preds\n",
    "finalPreds = [int(catTuple[0][i])*10+int(catTuple[1][i]) for i in tqdm(range(len(preds[0])))]"
   ]
  },
  {
   "cell_type": "code",
   "execution_count": 64,
   "id": "590920e6",
   "metadata": {},
   "outputs": [
    {
     "data": {
      "text/plain": [
       "(5000, 5000)"
      ]
     },
     "execution_count": 64,
     "metadata": {},
     "output_type": "execute_result"
    }
   ],
   "source": [
    "len(labels), len(finalPreds)"
   ]
  },
  {
   "cell_type": "code",
   "execution_count": 65,
   "id": "ae72dda7",
   "metadata": {},
   "outputs": [
    {
     "data": {
      "text/plain": [
       "(list, numpy.ndarray)"
      ]
     },
     "execution_count": 65,
     "metadata": {},
     "output_type": "execute_result"
    }
   ],
   "source": [
    "type(finalPreds), type(labels)"
   ]
  },
  {
   "cell_type": "code",
   "execution_count": 66,
   "id": "cbd9a8a2",
   "metadata": {},
   "outputs": [
    {
     "data": {
      "text/plain": [
       "0.531"
      ]
     },
     "execution_count": 66,
     "metadata": {},
     "output_type": "execute_result"
    }
   ],
   "source": [
    "np.sum(finalPreds == labels)/len(labels)"
   ]
  },
  {
   "cell_type": "code",
   "execution_count": 67,
   "id": "68cef97c",
   "metadata": {},
   "outputs": [],
   "source": [
    "[images,labels] = loadPickleData(\"./../Data/pickledFiles/Num_NewData_3char_1channel.p\")"
   ]
  },
  {
   "cell_type": "code",
   "execution_count": 68,
   "id": "5014775c",
   "metadata": {},
   "outputs": [],
   "source": [
    "images = np.reshape(images, (5000,60,120,1))"
   ]
  },
  {
   "cell_type": "code",
   "execution_count": 69,
   "id": "9fd51d8b",
   "metadata": {},
   "outputs": [
    {
     "data": {
      "application/vnd.jupyter.widget-view+json": {
       "model_id": "a23655e5b24f45a3b0950b8b8459ad47",
       "version_major": 2,
       "version_minor": 0
      },
      "text/plain": [
       "  0%|          | 0/3 [00:00<?, ?it/s]"
      ]
     },
     "metadata": {},
     "output_type": "display_data"
    }
   ],
   "source": [
    "finalPreds = []\n",
    "preds = []\n",
    "for j in tqdm(range(3)):\n",
    "    img = images[:, :, 40*j:40*(j+1), :]\n",
    "    pred = np.argmax(model.predict(img), axis=1)\n",
    "    preds.append(pred)"
   ]
  },
  {
   "cell_type": "code",
   "execution_count": 70,
   "id": "59510b9c",
   "metadata": {},
   "outputs": [
    {
     "data": {
      "text/plain": [
       "5000"
      ]
     },
     "execution_count": 70,
     "metadata": {},
     "output_type": "execute_result"
    }
   ],
   "source": [
    "len(preds[0])"
   ]
  },
  {
   "cell_type": "code",
   "execution_count": 71,
   "id": "1a526d36",
   "metadata": {},
   "outputs": [],
   "source": [
    "catTuple = (torch.from_numpy(preds[0]), torch.from_numpy(preds[1]), torch.from_numpy(preds[2]))"
   ]
  },
  {
   "cell_type": "code",
   "execution_count": 72,
   "id": "083a9b8b",
   "metadata": {},
   "outputs": [
    {
     "data": {
      "application/vnd.jupyter.widget-view+json": {
       "model_id": "f1a83e18185f4afe8c16d980fcc8e6b9",
       "version_major": 2,
       "version_minor": 0
      },
      "text/plain": [
       "  0%|          | 0/5000 [00:00<?, ?it/s]"
      ]
     },
     "metadata": {},
     "output_type": "display_data"
    }
   ],
   "source": [
    "# 3len preds\n",
    "finalPreds = [int(catTuple[0][i])*100+int(catTuple[1][i])*10+int(catTuple[2][i]) for i in tqdm(range(len(preds[0])))]"
   ]
  },
  {
   "cell_type": "code",
   "execution_count": 73,
   "id": "d363070c",
   "metadata": {},
   "outputs": [
    {
     "data": {
      "text/plain": [
       "0.2198"
      ]
     },
     "execution_count": 73,
     "metadata": {},
     "output_type": "execute_result"
    }
   ],
   "source": [
    "np.sum(finalPreds == labels)/len(labels)"
   ]
  },
  {
   "cell_type": "code",
   "execution_count": 74,
   "id": "db322eb1",
   "metadata": {},
   "outputs": [],
   "source": [
    "[images,labels] = loadPickleData(\"./../Data/pickledFiles/Num_NewData_4char_1channel.p\")"
   ]
  },
  {
   "cell_type": "code",
   "execution_count": 75,
   "id": "59a4fcc6",
   "metadata": {},
   "outputs": [],
   "source": [
    "images = np.reshape(images, (5000,60,160,1))"
   ]
  },
  {
   "cell_type": "code",
   "execution_count": 76,
   "id": "fe099bb8",
   "metadata": {},
   "outputs": [
    {
     "data": {
      "application/vnd.jupyter.widget-view+json": {
       "model_id": "54d25ad42eb14fe7b1376bad109c9b98",
       "version_major": 2,
       "version_minor": 0
      },
      "text/plain": [
       "  0%|          | 0/4 [00:00<?, ?it/s]"
      ]
     },
     "metadata": {},
     "output_type": "display_data"
    }
   ],
   "source": [
    "finalPreds = []\n",
    "preds = []\n",
    "for j in tqdm(range(4)):\n",
    "    img = images[:, :, 40*j:40*(j+1), :]\n",
    "    pred = np.argmax(model.predict(img), axis=1)\n",
    "    preds.append(pred)"
   ]
  },
  {
   "cell_type": "code",
   "execution_count": 77,
   "id": "400a7932",
   "metadata": {},
   "outputs": [
    {
     "data": {
      "text/plain": [
       "5000"
      ]
     },
     "execution_count": 77,
     "metadata": {},
     "output_type": "execute_result"
    }
   ],
   "source": [
    "len(preds[0])"
   ]
  },
  {
   "cell_type": "code",
   "execution_count": 78,
   "id": "85ba88f9",
   "metadata": {},
   "outputs": [],
   "source": [
    "catTuple = (torch.from_numpy(preds[0]), torch.from_numpy(preds[1]), torch.from_numpy(preds[2]), torch.from_numpy(preds[3]))"
   ]
  },
  {
   "cell_type": "code",
   "execution_count": 79,
   "id": "54a7ef99",
   "metadata": {},
   "outputs": [
    {
     "data": {
      "application/vnd.jupyter.widget-view+json": {
       "model_id": "f0f2566e79a341ee927f7f3126da3cca",
       "version_major": 2,
       "version_minor": 0
      },
      "text/plain": [
       "  0%|          | 0/5000 [00:00<?, ?it/s]"
      ]
     },
     "metadata": {},
     "output_type": "display_data"
    }
   ],
   "source": [
    "# 4len preds\n",
    "finalPreds = [int(catTuple[0][i])*1000+int(catTuple[1][i])*100+int(catTuple[2][i])*10+int(catTuple[3][i]) for i in tqdm(range(len(preds[0])))]\n"
   ]
  },
  {
   "cell_type": "code",
   "execution_count": 80,
   "id": "d64a8260",
   "metadata": {},
   "outputs": [
    {
     "data": {
      "text/plain": [
       "0.0586"
      ]
     },
     "execution_count": 80,
     "metadata": {},
     "output_type": "execute_result"
    }
   ],
   "source": [
    "np.sum(finalPreds == labels)/len(labels)"
   ]
  },
  {
   "cell_type": "code",
   "execution_count": 81,
   "id": "3ea7e1bf",
   "metadata": {},
   "outputs": [],
   "source": [
    "[images,labels] = loadPickleData(\"./../Data/pickledFiles/Num_NewData_5char_1channel.p\")"
   ]
  },
  {
   "cell_type": "code",
   "execution_count": 82,
   "id": "84594b5e",
   "metadata": {},
   "outputs": [],
   "source": [
    "images = np.reshape(images, (5000,60,200,1))"
   ]
  },
  {
   "cell_type": "code",
   "execution_count": 83,
   "id": "d15e2811",
   "metadata": {},
   "outputs": [
    {
     "data": {
      "application/vnd.jupyter.widget-view+json": {
       "model_id": "77bd42572baa4ba892c9c7965bbb823b",
       "version_major": 2,
       "version_minor": 0
      },
      "text/plain": [
       "  0%|          | 0/5 [00:00<?, ?it/s]"
      ]
     },
     "metadata": {},
     "output_type": "display_data"
    }
   ],
   "source": [
    "finalPreds = []\n",
    "preds = []\n",
    "for j in tqdm(range(5)):\n",
    "    img = images[:, :, 40*j:40*(j+1), :]\n",
    "    pred = np.argmax(model.predict(img), axis=1)\n",
    "    preds.append(pred)"
   ]
  },
  {
   "cell_type": "code",
   "execution_count": 84,
   "id": "da9dd1eb",
   "metadata": {},
   "outputs": [
    {
     "data": {
      "text/plain": [
       "5000"
      ]
     },
     "execution_count": 84,
     "metadata": {},
     "output_type": "execute_result"
    }
   ],
   "source": [
    "len(preds[0])"
   ]
  },
  {
   "cell_type": "code",
   "execution_count": 85,
   "id": "49c03e93",
   "metadata": {},
   "outputs": [],
   "source": [
    "catTuple = (torch.from_numpy(preds[0]), torch.from_numpy(preds[1]), torch.from_numpy(preds[2]), torch.from_numpy(preds[3]), torch.from_numpy(preds[4]))\n"
   ]
  },
  {
   "cell_type": "code",
   "execution_count": 86,
   "id": "2458f98c",
   "metadata": {},
   "outputs": [
    {
     "data": {
      "application/vnd.jupyter.widget-view+json": {
       "model_id": "2033b87f66434600b9350c47cc69b3c2",
       "version_major": 2,
       "version_minor": 0
      },
      "text/plain": [
       "  0%|          | 0/5000 [00:00<?, ?it/s]"
      ]
     },
     "metadata": {},
     "output_type": "display_data"
    }
   ],
   "source": [
    "# 5len preds\n",
    "finalPreds = [int(catTuple[0][i])*10000+int(catTuple[1][i])*1000+int(catTuple[2][i])*100+int(catTuple[3][i])*10+int(catTuple[4][i]) for i in tqdm(range(len(preds[0])))]\n"
   ]
  },
  {
   "cell_type": "code",
   "execution_count": 87,
   "id": "d1350436",
   "metadata": {},
   "outputs": [
    {
     "data": {
      "text/plain": [
       "0.0148"
      ]
     },
     "execution_count": 87,
     "metadata": {},
     "output_type": "execute_result"
    }
   ],
   "source": [
    "np.sum(finalPreds == labels)/len(labels)"
   ]
  }
 ],
 "metadata": {
  "kernelspec": {
   "display_name": "Python 3",
   "language": "python",
   "name": "python3"
  },
  "language_info": {
   "codemirror_mode": {
    "name": "ipython",
    "version": 3
   },
   "file_extension": ".py",
   "mimetype": "text/x-python",
   "name": "python",
   "nbconvert_exporter": "python",
   "pygments_lexer": "ipython3",
   "version": "3.6.13"
  }
 },
 "nbformat": 4,
 "nbformat_minor": 5
}
