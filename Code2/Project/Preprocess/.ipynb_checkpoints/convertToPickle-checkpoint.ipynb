{
 "cells": [
  {
   "cell_type": "code",
   "execution_count": 137,
   "id": "6e7bc03c",
   "metadata": {},
   "outputs": [],
   "source": [
    "import numpy as np\n",
    "import matplotlib.image as img\n",
    "import os\n",
    "import pickle\n",
    "from tqdm import tqdm\n",
    "from PIL import Image"
   ]
  },
  {
   "cell_type": "code",
   "execution_count": 201,
   "id": "d0145493",
   "metadata": {},
   "outputs": [],
   "source": [
    "data = './../Data/Num/NewDataset/'"
   ]
  },
  {
   "cell_type": "code",
   "execution_count": 202,
   "id": "27ec56ff",
   "metadata": {},
   "outputs": [],
   "source": [
    "images = []\n",
    "labels = []"
   ]
  },
  {
   "cell_type": "code",
   "execution_count": 203,
   "id": "259808ca",
   "metadata": {},
   "outputs": [
    {
     "name": "stderr",
     "output_type": "stream",
     "text": [
      "  0%|          | 0/3000 [00:00<?, ?it/s]\n"
     ]
    }
   ],
   "source": [
    "for file in tqdm(os.listdir(data)):\n",
    "    underscore = file.find('_')\n",
    "    label = int(file[0:underscore])\n",
    "    image = Image.open(data+file)\n",
    "#     image = img.imread(data+file)\n",
    "#     image = image.convert('L')\n",
    "    image.show()\n",
    "    images.append(image)\n",
    "#     images.append(np.asarray(image))\n",
    "    labels.append(label)\n",
    "    break"
   ]
  },
  {
   "cell_type": "code",
   "execution_count": 204,
   "id": "bce2f12c",
   "metadata": {},
   "outputs": [],
   "source": [
    "images[0].show()"
   ]
  },
  {
   "cell_type": "code",
   "execution_count": 189,
   "id": "10207038",
   "metadata": {},
   "outputs": [
    {
     "data": {
      "text/plain": [
       "(3000, 3000)"
      ]
     },
     "execution_count": 189,
     "metadata": {},
     "output_type": "execute_result"
    }
   ],
   "source": [
    "len(images), len(labels)"
   ]
  },
  {
   "cell_type": "code",
   "execution_count": 190,
   "id": "e088eba9",
   "metadata": {},
   "outputs": [],
   "source": [
    "images = np.array(images)\n",
    "labels = np.array(labels)"
   ]
  },
  {
   "cell_type": "code",
   "execution_count": 191,
   "id": "e210d415",
   "metadata": {},
   "outputs": [
    {
     "data": {
      "text/plain": [
       "(3000, 50, 135, 3)"
      ]
     },
     "execution_count": 191,
     "metadata": {},
     "output_type": "execute_result"
    }
   ],
   "source": [
    "images.shape"
   ]
  },
  {
   "cell_type": "code",
   "execution_count": 192,
   "id": "24e27260",
   "metadata": {},
   "outputs": [
    {
     "data": {
      "text/plain": [
       "'/media/data_dump/mann/Pritish/BTP/test/Preprocess'"
      ]
     },
     "execution_count": 192,
     "metadata": {},
     "output_type": "execute_result"
    }
   ],
   "source": [
    "pwd"
   ]
  },
  {
   "cell_type": "code",
   "execution_count": 193,
   "id": "7d86e8ed",
   "metadata": {},
   "outputs": [],
   "source": [
    "pickle.dump((images, labels), open(\"./../Data/pickledFiles/Num_NewData_3channel.p\", 'wb'));"
   ]
  },
  {
   "cell_type": "code",
   "execution_count": null,
   "id": "d6d04fc1",
   "metadata": {},
   "outputs": [],
   "source": []
  }
 ],
 "metadata": {
  "kernelspec": {
   "display_name": "Python 3",
   "language": "python",
   "name": "python3"
  },
  "language_info": {
   "codemirror_mode": {
    "name": "ipython",
    "version": 3
   },
   "file_extension": ".py",
   "mimetype": "text/x-python",
   "name": "python",
   "nbconvert_exporter": "python",
   "pygments_lexer": "ipython3",
   "version": "3.6.13"
  }
 },
 "nbformat": 4,
 "nbformat_minor": 5
}
