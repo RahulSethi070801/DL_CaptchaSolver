{
 "cells": [
  {
   "cell_type": "code",
   "execution_count": 1,
   "id": "df385f89",
   "metadata": {},
   "outputs": [],
   "source": [
    "from tensorflow.keras import applications\n",
    "from keras.preprocessing.image import ImageDataGenerator\n",
    "from keras import optimizers\n",
    "from keras.models import Sequential, Model\n",
    "from keras.layers import Input, Dropout, Flatten, Dense, GlobalAveragePooling2D\n",
    "from keras.layers import Conv2D\n",
    "from keras import backend as k\n",
    "from keras.callbacks import ModelCheckpoint, LearningRateScheduler, TensorBoard, EarlyStopping\n",
    "import numpy as np\n",
    "from sklearn.model_selection import train_test_split\n",
    "from keras.utils import np_utils\n",
    "import pickle\n",
    "import tensorflow as tf"
   ]
  },
  {
   "cell_type": "code",
   "execution_count": 2,
   "id": "fe504854",
   "metadata": {},
   "outputs": [],
   "source": [
    "def loadPickleData(file):\n",
    "    data = pickle.load(open(file, 'rb'));\n",
    "    images = data[0];\n",
    "    labels = data[1];\n",
    "    return [images, labels]"
   ]
  },
  {
   "cell_type": "code",
   "execution_count": 3,
   "id": "9488b0f6",
   "metadata": {},
   "outputs": [],
   "source": [
    "[images,labels] = loadPickleData(\"./../Data/pickledFiles/Num_NewData_1char_3channel.p\")"
   ]
  },
  {
   "cell_type": "code",
   "execution_count": 4,
   "id": "b99db73d",
   "metadata": {},
   "outputs": [
    {
     "name": "stdout",
     "output_type": "stream",
     "text": [
      "[[0. 0. 0. ... 0. 0. 0.]\n",
      " [1. 0. 0. ... 0. 0. 0.]\n",
      " [0. 0. 0. ... 0. 0. 0.]\n",
      " ...\n",
      " [0. 0. 0. ... 0. 1. 0.]\n",
      " [0. 0. 0. ... 0. 0. 0.]\n",
      " [0. 0. 1. ... 0. 0. 0.]]\n",
      "(5000, 10)\n"
     ]
    }
   ],
   "source": [
    "y = np_utils.to_categorical(labels);\n",
    "print(y);\n",
    "print(y.shape)"
   ]
  },
  {
   "cell_type": "code",
   "execution_count": 5,
   "id": "7bf670f8",
   "metadata": {},
   "outputs": [
    {
     "data": {
      "text/plain": [
       "(5000, 60, 40, 3)"
      ]
     },
     "execution_count": 5,
     "metadata": {},
     "output_type": "execute_result"
    }
   ],
   "source": [
    "X = images\n",
    "X.shape\n",
    "# X = np.reshape(X, (2000,60,40,1))"
   ]
  },
  {
   "cell_type": "code",
   "execution_count": 6,
   "id": "95ed427c",
   "metadata": {},
   "outputs": [],
   "source": [
    "X_train, X_test, y_train, y_test = train_test_split(X,y, test_size = 0.2);"
   ]
  },
  {
   "cell_type": "code",
   "execution_count": 7,
   "id": "4e1a2911",
   "metadata": {},
   "outputs": [],
   "source": [
    "model = applications.VGG19(weights = \"imagenet\", include_top=False,\\\n",
    "                           input_shape = (60, 40, 3))"
   ]
  },
  {
   "cell_type": "code",
   "execution_count": 8,
   "id": "fa55105e",
   "metadata": {},
   "outputs": [
    {
     "name": "stdout",
     "output_type": "stream",
     "text": [
      "22\n"
     ]
    }
   ],
   "source": [
    "print(len(model.layers))\n",
    "for layer in model.layers[0:19]:\n",
    "    layer.trainable = False"
   ]
  },
  {
   "cell_type": "code",
   "execution_count": 9,
   "id": "d9ee7d2f",
   "metadata": {},
   "outputs": [],
   "source": [
    "inputt = Input(shape =  (60,40,3), name = 'captcha_input')\n",
    "output_vgg16_conv = model(inputt);"
   ]
  },
  {
   "cell_type": "code",
   "execution_count": 10,
   "id": "2c077c48",
   "metadata": {},
   "outputs": [],
   "source": [
    "x = Flatten(name='flatten')(output_vgg16_conv)\n",
    "x = Dense(100, activation=\"relu\")(x)"
   ]
  },
  {
   "cell_type": "code",
   "execution_count": 11,
   "id": "5c944efd",
   "metadata": {},
   "outputs": [],
   "source": [
    "x = Dropout(.1)(x)\n",
    "predictions = Dense(10, activation=\"softmax\")(x)\n"
   ]
  },
  {
   "cell_type": "code",
   "execution_count": 12,
   "id": "152a244c",
   "metadata": {},
   "outputs": [],
   "source": [
    "model_final = Model(inputt,predictions)\n"
   ]
  },
  {
   "cell_type": "code",
   "execution_count": 13,
   "id": "6f53ea58",
   "metadata": {},
   "outputs": [],
   "source": [
    "model_final.compile(loss = \"categorical_crossentropy\",\\\n",
    "                    optimizer = tf.keras.optimizers.SGD(learning_rate=0.0001, momentum=0.9), metrics=[\"accuracy\"])"
   ]
  },
  {
   "cell_type": "code",
   "execution_count": 14,
   "id": "dd3f9a72",
   "metadata": {},
   "outputs": [
    {
     "name": "stdout",
     "output_type": "stream",
     "text": [
      "Model: \"model\"\n",
      "_________________________________________________________________\n",
      "Layer (type)                 Output Shape              Param #   \n",
      "=================================================================\n",
      "captcha_input (InputLayer)   [(None, 60, 40, 3)]       0         \n",
      "_________________________________________________________________\n",
      "vgg19 (Functional)           (None, 1, 1, 512)         20024384  \n",
      "_________________________________________________________________\n",
      "flatten (Flatten)            (None, 512)               0         \n",
      "_________________________________________________________________\n",
      "dense (Dense)                (None, 100)               51300     \n",
      "_________________________________________________________________\n",
      "dropout (Dropout)            (None, 100)               0         \n",
      "_________________________________________________________________\n",
      "dense_1 (Dense)              (None, 10)                1010      \n",
      "=================================================================\n",
      "Total params: 20,076,694\n",
      "Trainable params: 4,771,926\n",
      "Non-trainable params: 15,304,768\n",
      "_________________________________________________________________\n",
      "None\n"
     ]
    }
   ],
   "source": [
    "print(model_final.summary())"
   ]
  },
  {
   "cell_type": "code",
   "execution_count": 15,
   "id": "c2a47b8f",
   "metadata": {},
   "outputs": [],
   "source": [
    "lossCheck = ModelCheckpoint('singleCharLossNewData2.h5', monitor='val_loss', verbose=True, save_best_only=True)\n",
    "accCheck = ModelCheckpoint('singleCharAccNewData2.h5', monitor='val_accuracy', verbose=True, save_best_only=True)"
   ]
  },
  {
   "cell_type": "code",
   "execution_count": 19,
   "id": "af544fa8",
   "metadata": {},
   "outputs": [
    {
     "name": "stdout",
     "output_type": "stream",
     "text": [
      "Epoch 1/100\n",
      "14/14 [==============================] - 20s 1s/step - loss: 6.5441 - accuracy: 0.1258 - val_loss: 2.4009 - val_accuracy: 0.1600\n",
      "\n",
      "Epoch 00001: val_loss improved from inf to 2.40090, saving model to singleCharLossNewData2.h5\n",
      "\n",
      "Epoch 00001: val_accuracy improved from -inf to 0.16000, saving model to singleCharAccNewData2.h5\n",
      "Epoch 2/100\n",
      "14/14 [==============================] - 20s 1s/step - loss: 2.3209 - accuracy: 0.1462 - val_loss: 2.2319 - val_accuracy: 0.1690\n",
      "\n",
      "Epoch 00002: val_loss improved from 2.40090 to 2.23194, saving model to singleCharLossNewData2.h5\n",
      "\n",
      "Epoch 00002: val_accuracy improved from 0.16000 to 0.16900, saving model to singleCharAccNewData2.h5\n",
      "Epoch 3/100\n",
      "14/14 [==============================] - 33s 2s/step - loss: 2.2338 - accuracy: 0.1562 - val_loss: 2.1834 - val_accuracy: 0.1720\n",
      "\n",
      "Epoch 00003: val_loss improved from 2.23194 to 2.18336, saving model to singleCharLossNewData2.h5\n",
      "\n",
      "Epoch 00003: val_accuracy improved from 0.16900 to 0.17200, saving model to singleCharAccNewData2.h5\n",
      "Epoch 4/100\n",
      "14/14 [==============================] - 35s 3s/step - loss: 2.1976 - accuracy: 0.1725 - val_loss: 2.1509 - val_accuracy: 0.1900\n",
      "\n",
      "Epoch 00004: val_loss improved from 2.18336 to 2.15086, saving model to singleCharLossNewData2.h5\n",
      "\n",
      "Epoch 00004: val_accuracy improved from 0.17200 to 0.19000, saving model to singleCharAccNewData2.h5\n",
      "Epoch 5/100\n",
      "14/14 [==============================] - 35s 2s/step - loss: 2.1616 - accuracy: 0.1857 - val_loss: 2.1085 - val_accuracy: 0.2120\n",
      "\n",
      "Epoch 00005: val_loss improved from 2.15086 to 2.10847, saving model to singleCharLossNewData2.h5\n",
      "\n",
      "Epoch 00005: val_accuracy improved from 0.19000 to 0.21200, saving model to singleCharAccNewData2.h5\n",
      "Epoch 6/100\n",
      "14/14 [==============================] - 35s 3s/step - loss: 2.1137 - accuracy: 0.2120 - val_loss: 2.0642 - val_accuracy: 0.2270\n",
      "\n",
      "Epoch 00006: val_loss improved from 2.10847 to 2.06420, saving model to singleCharLossNewData2.h5\n",
      "\n",
      "Epoch 00006: val_accuracy improved from 0.21200 to 0.22700, saving model to singleCharAccNewData2.h5\n",
      "Epoch 7/100\n",
      "14/14 [==============================] - 35s 3s/step - loss: 2.0733 - accuracy: 0.2317 - val_loss: 1.9991 - val_accuracy: 0.2720\n",
      "\n",
      "Epoch 00007: val_loss improved from 2.06420 to 1.99911, saving model to singleCharLossNewData2.h5\n",
      "\n",
      "Epoch 00007: val_accuracy improved from 0.22700 to 0.27200, saving model to singleCharAccNewData2.h5\n",
      "Epoch 8/100\n",
      "14/14 [==============================] - 35s 3s/step - loss: 2.0060 - accuracy: 0.2600 - val_loss: 1.9554 - val_accuracy: 0.2870\n",
      "\n",
      "Epoch 00008: val_loss improved from 1.99911 to 1.95544, saving model to singleCharLossNewData2.h5\n",
      "\n",
      "Epoch 00008: val_accuracy improved from 0.27200 to 0.28700, saving model to singleCharAccNewData2.h5\n",
      "Epoch 9/100\n",
      "14/14 [==============================] - 35s 3s/step - loss: 1.9571 - accuracy: 0.2730 - val_loss: 1.8964 - val_accuracy: 0.3070\n",
      "\n",
      "Epoch 00009: val_loss improved from 1.95544 to 1.89637, saving model to singleCharLossNewData2.h5\n",
      "\n",
      "Epoch 00009: val_accuracy improved from 0.28700 to 0.30700, saving model to singleCharAccNewData2.h5\n",
      "Epoch 10/100\n",
      "14/14 [==============================] - 35s 2s/step - loss: 1.8878 - accuracy: 0.3022 - val_loss: 1.8375 - val_accuracy: 0.3240\n",
      "\n",
      "Epoch 00010: val_loss improved from 1.89637 to 1.83754, saving model to singleCharLossNewData2.h5\n",
      "\n",
      "Epoch 00010: val_accuracy improved from 0.30700 to 0.32400, saving model to singleCharAccNewData2.h5\n",
      "Epoch 11/100\n",
      "14/14 [==============================] - 35s 3s/step - loss: 1.8434 - accuracy: 0.3260 - val_loss: 1.7620 - val_accuracy: 0.3530\n",
      "\n",
      "Epoch 00011: val_loss improved from 1.83754 to 1.76200, saving model to singleCharLossNewData2.h5\n",
      "\n",
      "Epoch 00011: val_accuracy improved from 0.32400 to 0.35300, saving model to singleCharAccNewData2.h5\n",
      "Epoch 12/100\n",
      "14/14 [==============================] - 36s 3s/step - loss: 1.7750 - accuracy: 0.3635 - val_loss: 1.7221 - val_accuracy: 0.3980\n",
      "\n",
      "Epoch 00012: val_loss improved from 1.76200 to 1.72206, saving model to singleCharLossNewData2.h5\n",
      "\n",
      "Epoch 00012: val_accuracy improved from 0.35300 to 0.39800, saving model to singleCharAccNewData2.h5\n",
      "Epoch 13/100\n",
      "14/14 [==============================] - 35s 3s/step - loss: 1.7499 - accuracy: 0.3745 - val_loss: 1.6971 - val_accuracy: 0.4040\n",
      "\n",
      "Epoch 00013: val_loss improved from 1.72206 to 1.69714, saving model to singleCharLossNewData2.h5\n",
      "\n",
      "Epoch 00013: val_accuracy improved from 0.39800 to 0.40400, saving model to singleCharAccNewData2.h5\n",
      "Epoch 14/100\n",
      "14/14 [==============================] - 36s 3s/step - loss: 1.6803 - accuracy: 0.3975 - val_loss: 1.6643 - val_accuracy: 0.4100\n",
      "\n",
      "Epoch 00014: val_loss improved from 1.69714 to 1.66427, saving model to singleCharLossNewData2.h5\n",
      "\n",
      "Epoch 00014: val_accuracy improved from 0.40400 to 0.41000, saving model to singleCharAccNewData2.h5\n",
      "Epoch 15/100\n",
      "14/14 [==============================] - 36s 3s/step - loss: 1.6506 - accuracy: 0.4165 - val_loss: 1.6594 - val_accuracy: 0.4210\n",
      "\n",
      "Epoch 00015: val_loss improved from 1.66427 to 1.65936, saving model to singleCharLossNewData2.h5\n",
      "\n",
      "Epoch 00015: val_accuracy improved from 0.41000 to 0.42100, saving model to singleCharAccNewData2.h5\n",
      "Epoch 16/100\n",
      "14/14 [==============================] - 36s 3s/step - loss: 1.6152 - accuracy: 0.4272 - val_loss: 1.6141 - val_accuracy: 0.4380\n",
      "\n",
      "Epoch 00016: val_loss improved from 1.65936 to 1.61411, saving model to singleCharLossNewData2.h5\n",
      "\n",
      "Epoch 00016: val_accuracy improved from 0.42100 to 0.43800, saving model to singleCharAccNewData2.h5\n",
      "Epoch 17/100\n",
      "14/14 [==============================] - 36s 3s/step - loss: 1.5822 - accuracy: 0.4423 - val_loss: 1.5844 - val_accuracy: 0.4400\n",
      "\n",
      "Epoch 00017: val_loss improved from 1.61411 to 1.58443, saving model to singleCharLossNewData2.h5\n",
      "\n",
      "Epoch 00017: val_accuracy improved from 0.43800 to 0.44000, saving model to singleCharAccNewData2.h5\n",
      "Epoch 18/100\n",
      "14/14 [==============================] - 36s 3s/step - loss: 1.5241 - accuracy: 0.4775 - val_loss: 1.5636 - val_accuracy: 0.4610\n",
      "\n",
      "Epoch 00018: val_loss improved from 1.58443 to 1.56359, saving model to singleCharLossNewData2.h5\n",
      "\n",
      "Epoch 00018: val_accuracy improved from 0.44000 to 0.46100, saving model to singleCharAccNewData2.h5\n",
      "Epoch 19/100\n",
      "14/14 [==============================] - 36s 3s/step - loss: 1.5002 - accuracy: 0.4760 - val_loss: 1.5224 - val_accuracy: 0.4720\n",
      "\n",
      "Epoch 00019: val_loss improved from 1.56359 to 1.52243, saving model to singleCharLossNewData2.h5\n",
      "\n",
      "Epoch 00019: val_accuracy improved from 0.46100 to 0.47200, saving model to singleCharAccNewData2.h5\n",
      "Epoch 20/100\n",
      "14/14 [==============================] - 37s 3s/step - loss: 1.4493 - accuracy: 0.4922 - val_loss: 1.4913 - val_accuracy: 0.4820\n",
      "\n",
      "Epoch 00020: val_loss improved from 1.52243 to 1.49134, saving model to singleCharLossNewData2.h5\n",
      "\n",
      "Epoch 00020: val_accuracy improved from 0.47200 to 0.48200, saving model to singleCharAccNewData2.h5\n",
      "Epoch 21/100\n",
      "14/14 [==============================] - 36s 3s/step - loss: 1.4297 - accuracy: 0.4965 - val_loss: 1.4416 - val_accuracy: 0.4980\n",
      "\n",
      "Epoch 00021: val_loss improved from 1.49134 to 1.44156, saving model to singleCharLossNewData2.h5\n",
      "\n",
      "Epoch 00021: val_accuracy improved from 0.48200 to 0.49800, saving model to singleCharAccNewData2.h5\n",
      "Epoch 22/100\n",
      "14/14 [==============================] - 37s 3s/step - loss: 1.3969 - accuracy: 0.5132 - val_loss: 1.4174 - val_accuracy: 0.5140\n",
      "\n",
      "Epoch 00022: val_loss improved from 1.44156 to 1.41739, saving model to singleCharLossNewData2.h5\n",
      "\n",
      "Epoch 00022: val_accuracy improved from 0.49800 to 0.51400, saving model to singleCharAccNewData2.h5\n",
      "Epoch 23/100\n",
      "14/14 [==============================] - 38s 3s/step - loss: 1.3437 - accuracy: 0.5272 - val_loss: 1.3971 - val_accuracy: 0.5250\n",
      "\n",
      "Epoch 00023: val_loss improved from 1.41739 to 1.39713, saving model to singleCharLossNewData2.h5\n",
      "\n",
      "Epoch 00023: val_accuracy improved from 0.51400 to 0.52500, saving model to singleCharAccNewData2.h5\n",
      "Epoch 24/100\n",
      "14/14 [==============================] - 37s 3s/step - loss: 1.3335 - accuracy: 0.5272 - val_loss: 1.3754 - val_accuracy: 0.5210\n",
      "\n",
      "Epoch 00024: val_loss improved from 1.39713 to 1.37536, saving model to singleCharLossNewData2.h5\n",
      "\n",
      "Epoch 00024: val_accuracy did not improve from 0.52500\n",
      "Epoch 25/100\n",
      "14/14 [==============================] - 37s 3s/step - loss: 1.2965 - accuracy: 0.5505 - val_loss: 1.3636 - val_accuracy: 0.5460\n",
      "\n",
      "Epoch 00025: val_loss improved from 1.37536 to 1.36365, saving model to singleCharLossNewData2.h5\n",
      "\n",
      "Epoch 00025: val_accuracy improved from 0.52500 to 0.54600, saving model to singleCharAccNewData2.h5\n",
      "Epoch 26/100\n",
      "14/14 [==============================] - 37s 3s/step - loss: 1.2787 - accuracy: 0.5548 - val_loss: 1.3387 - val_accuracy: 0.5460\n",
      "\n",
      "Epoch 00026: val_loss improved from 1.36365 to 1.33871, saving model to singleCharLossNewData2.h5\n",
      "\n",
      "Epoch 00026: val_accuracy did not improve from 0.54600\n",
      "Epoch 27/100\n",
      "14/14 [==============================] - 37s 3s/step - loss: 1.2413 - accuracy: 0.5648 - val_loss: 1.3373 - val_accuracy: 0.5450\n",
      "\n",
      "Epoch 00027: val_loss improved from 1.33871 to 1.33728, saving model to singleCharLossNewData2.h5\n",
      "\n",
      "Epoch 00027: val_accuracy did not improve from 0.54600\n",
      "Epoch 28/100\n",
      "14/14 [==============================] - 37s 3s/step - loss: 1.2102 - accuracy: 0.5740 - val_loss: 1.2858 - val_accuracy: 0.5550\n",
      "\n",
      "Epoch 00028: val_loss improved from 1.33728 to 1.28577, saving model to singleCharLossNewData2.h5\n",
      "\n",
      "Epoch 00028: val_accuracy improved from 0.54600 to 0.55500, saving model to singleCharAccNewData2.h5\n",
      "Epoch 29/100\n",
      "14/14 [==============================] - 37s 3s/step - loss: 1.1829 - accuracy: 0.5882 - val_loss: 1.2925 - val_accuracy: 0.5490\n",
      "\n",
      "Epoch 00029: val_loss did not improve from 1.28577\n",
      "\n",
      "Epoch 00029: val_accuracy did not improve from 0.55500\n",
      "Epoch 30/100\n",
      "14/14 [==============================] - 37s 3s/step - loss: 1.1597 - accuracy: 0.5960 - val_loss: 1.2527 - val_accuracy: 0.5610\n",
      "\n",
      "Epoch 00030: val_loss improved from 1.28577 to 1.25273, saving model to singleCharLossNewData2.h5\n",
      "\n",
      "Epoch 00030: val_accuracy improved from 0.55500 to 0.56100, saving model to singleCharAccNewData2.h5\n",
      "Epoch 31/100\n",
      "14/14 [==============================] - 36s 3s/step - loss: 1.1437 - accuracy: 0.5932 - val_loss: 1.2608 - val_accuracy: 0.5600\n",
      "\n",
      "Epoch 00031: val_loss did not improve from 1.25273\n",
      "\n",
      "Epoch 00031: val_accuracy did not improve from 0.56100\n",
      "Epoch 32/100\n",
      "14/14 [==============================] - 36s 3s/step - loss: 1.0966 - accuracy: 0.6085 - val_loss: 1.2260 - val_accuracy: 0.5710\n",
      "\n",
      "Epoch 00032: val_loss improved from 1.25273 to 1.22602, saving model to singleCharLossNewData2.h5\n",
      "\n",
      "Epoch 00032: val_accuracy improved from 0.56100 to 0.57100, saving model to singleCharAccNewData2.h5\n",
      "Epoch 33/100\n",
      "14/14 [==============================] - 37s 3s/step - loss: 1.0870 - accuracy: 0.6118 - val_loss: 1.1995 - val_accuracy: 0.5870\n",
      "\n",
      "Epoch 00033: val_loss improved from 1.22602 to 1.19946, saving model to singleCharLossNewData2.h5\n",
      "\n",
      "Epoch 00033: val_accuracy improved from 0.57100 to 0.58700, saving model to singleCharAccNewData2.h5\n",
      "Epoch 34/100\n",
      "14/14 [==============================] - 37s 3s/step - loss: 1.0595 - accuracy: 0.6190 - val_loss: 1.1966 - val_accuracy: 0.5850\n",
      "\n",
      "Epoch 00034: val_loss improved from 1.19946 to 1.19660, saving model to singleCharLossNewData2.h5\n",
      "\n",
      "Epoch 00034: val_accuracy did not improve from 0.58700\n",
      "Epoch 35/100\n",
      "14/14 [==============================] - 37s 3s/step - loss: 1.0498 - accuracy: 0.6200 - val_loss: 1.2132 - val_accuracy: 0.5610\n",
      "\n",
      "Epoch 00035: val_loss did not improve from 1.19660\n",
      "\n",
      "Epoch 00035: val_accuracy did not improve from 0.58700\n",
      "Epoch 36/100\n",
      "14/14 [==============================] - 36s 3s/step - loss: 1.0582 - accuracy: 0.6168 - val_loss: 1.1678 - val_accuracy: 0.5840\n",
      "\n",
      "Epoch 00036: val_loss improved from 1.19660 to 1.16776, saving model to singleCharLossNewData2.h5\n",
      "\n",
      "Epoch 00036: val_accuracy did not improve from 0.58700\n",
      "Epoch 37/100\n",
      "14/14 [==============================] - 36s 3s/step - loss: 0.9982 - accuracy: 0.6435 - val_loss: 1.1500 - val_accuracy: 0.5830\n",
      "\n",
      "Epoch 00037: val_loss improved from 1.16776 to 1.14999, saving model to singleCharLossNewData2.h5\n",
      "\n",
      "Epoch 00037: val_accuracy did not improve from 0.58700\n",
      "Epoch 38/100\n",
      "14/14 [==============================] - 37s 3s/step - loss: 0.9704 - accuracy: 0.6500 - val_loss: 1.1594 - val_accuracy: 0.5940\n",
      "\n",
      "Epoch 00038: val_loss did not improve from 1.14999\n",
      "\n",
      "Epoch 00038: val_accuracy improved from 0.58700 to 0.59400, saving model to singleCharAccNewData2.h5\n",
      "Epoch 39/100\n",
      "14/14 [==============================] - 36s 3s/step - loss: 0.9716 - accuracy: 0.6510 - val_loss: 1.0950 - val_accuracy: 0.6240\n",
      "\n",
      "Epoch 00039: val_loss improved from 1.14999 to 1.09497, saving model to singleCharLossNewData2.h5\n",
      "\n",
      "Epoch 00039: val_accuracy improved from 0.59400 to 0.62400, saving model to singleCharAccNewData2.h5\n",
      "Epoch 40/100\n",
      "14/14 [==============================] - 37s 3s/step - loss: 0.9292 - accuracy: 0.6722 - val_loss: 1.1183 - val_accuracy: 0.6100\n",
      "\n",
      "Epoch 00040: val_loss did not improve from 1.09497\n",
      "\n",
      "Epoch 00040: val_accuracy did not improve from 0.62400\n",
      "Epoch 41/100\n",
      "14/14 [==============================] - 37s 3s/step - loss: 0.9087 - accuracy: 0.6718 - val_loss: 1.0827 - val_accuracy: 0.6370\n",
      "\n",
      "Epoch 00041: val_loss improved from 1.09497 to 1.08272, saving model to singleCharLossNewData2.h5\n",
      "\n",
      "Epoch 00041: val_accuracy improved from 0.62400 to 0.63700, saving model to singleCharAccNewData2.h5\n",
      "Epoch 42/100\n",
      "14/14 [==============================] - 37s 3s/step - loss: 0.8857 - accuracy: 0.6733 - val_loss: 1.1301 - val_accuracy: 0.6000\n",
      "\n",
      "Epoch 00042: val_loss did not improve from 1.08272\n",
      "\n",
      "Epoch 00042: val_accuracy did not improve from 0.63700\n",
      "Epoch 43/100\n",
      "14/14 [==============================] - 36s 3s/step - loss: 0.8624 - accuracy: 0.6867 - val_loss: 1.0585 - val_accuracy: 0.6430\n",
      "\n",
      "Epoch 00043: val_loss improved from 1.08272 to 1.05848, saving model to singleCharLossNewData2.h5\n",
      "\n",
      "Epoch 00043: val_accuracy improved from 0.63700 to 0.64300, saving model to singleCharAccNewData2.h5\n",
      "Epoch 44/100\n",
      "14/14 [==============================] - 36s 3s/step - loss: 0.8371 - accuracy: 0.6985 - val_loss: 1.0350 - val_accuracy: 0.6490\n",
      "\n",
      "Epoch 00044: val_loss improved from 1.05848 to 1.03504, saving model to singleCharLossNewData2.h5\n",
      "\n",
      "Epoch 00044: val_accuracy improved from 0.64300 to 0.64900, saving model to singleCharAccNewData2.h5\n",
      "Epoch 45/100\n",
      "14/14 [==============================] - 37s 3s/step - loss: 0.8323 - accuracy: 0.7023 - val_loss: 1.0269 - val_accuracy: 0.6520\n",
      "\n",
      "Epoch 00045: val_loss improved from 1.03504 to 1.02688, saving model to singleCharLossNewData2.h5\n",
      "\n",
      "Epoch 00045: val_accuracy improved from 0.64900 to 0.65200, saving model to singleCharAccNewData2.h5\n",
      "Epoch 46/100\n",
      "14/14 [==============================] - 36s 3s/step - loss: 0.7983 - accuracy: 0.7172 - val_loss: 1.0416 - val_accuracy: 0.6480\n",
      "\n",
      "Epoch 00046: val_loss did not improve from 1.02688\n",
      "\n",
      "Epoch 00046: val_accuracy did not improve from 0.65200\n",
      "Epoch 47/100\n",
      "14/14 [==============================] - 37s 3s/step - loss: 0.8180 - accuracy: 0.7113 - val_loss: 1.0232 - val_accuracy: 0.6610\n",
      "\n",
      "Epoch 00047: val_loss improved from 1.02688 to 1.02316, saving model to singleCharLossNewData2.h5\n",
      "\n",
      "Epoch 00047: val_accuracy improved from 0.65200 to 0.66100, saving model to singleCharAccNewData2.h5\n",
      "Epoch 48/100\n",
      "14/14 [==============================] - 37s 3s/step - loss: 0.7970 - accuracy: 0.7138 - val_loss: 1.0982 - val_accuracy: 0.6270\n",
      "\n",
      "Epoch 00048: val_loss did not improve from 1.02316\n",
      "\n",
      "Epoch 00048: val_accuracy did not improve from 0.66100\n",
      "Epoch 49/100\n",
      "14/14 [==============================] - 37s 3s/step - loss: 0.7849 - accuracy: 0.7222 - val_loss: 0.9919 - val_accuracy: 0.6690\n",
      "\n",
      "Epoch 00049: val_loss improved from 1.02316 to 0.99188, saving model to singleCharLossNewData2.h5\n",
      "\n",
      "Epoch 00049: val_accuracy improved from 0.66100 to 0.66900, saving model to singleCharAccNewData2.h5\n",
      "Epoch 50/100\n",
      "14/14 [==============================] - 37s 3s/step - loss: 0.7463 - accuracy: 0.7345 - val_loss: 1.0160 - val_accuracy: 0.6600\n",
      "\n",
      "Epoch 00050: val_loss did not improve from 0.99188\n",
      "\n",
      "Epoch 00050: val_accuracy did not improve from 0.66900\n",
      "Epoch 51/100\n",
      "14/14 [==============================] - 37s 3s/step - loss: 0.7310 - accuracy: 0.7358 - val_loss: 1.0241 - val_accuracy: 0.6610\n",
      "\n",
      "Epoch 00051: val_loss did not improve from 0.99188\n",
      "\n",
      "Epoch 00051: val_accuracy did not improve from 0.66900\n",
      "Epoch 52/100\n"
     ]
    },
    {
     "name": "stdout",
     "output_type": "stream",
     "text": [
      "14/14 [==============================] - 37s 3s/step - loss: 0.7320 - accuracy: 0.7375 - val_loss: 0.9537 - val_accuracy: 0.6890\n",
      "\n",
      "Epoch 00052: val_loss improved from 0.99188 to 0.95375, saving model to singleCharLossNewData2.h5\n",
      "\n",
      "Epoch 00052: val_accuracy improved from 0.66900 to 0.68900, saving model to singleCharAccNewData2.h5\n",
      "Epoch 53/100\n",
      "14/14 [==============================] - 37s 3s/step - loss: 0.7077 - accuracy: 0.7505 - val_loss: 0.9633 - val_accuracy: 0.6590\n",
      "\n",
      "Epoch 00053: val_loss did not improve from 0.95375\n",
      "\n",
      "Epoch 00053: val_accuracy did not improve from 0.68900\n",
      "Epoch 54/100\n",
      "14/14 [==============================] - 35s 3s/step - loss: 0.6838 - accuracy: 0.7660 - val_loss: 0.9315 - val_accuracy: 0.6860\n",
      "\n",
      "Epoch 00054: val_loss improved from 0.95375 to 0.93153, saving model to singleCharLossNewData2.h5\n",
      "\n",
      "Epoch 00054: val_accuracy did not improve from 0.68900\n",
      "Epoch 55/100\n",
      "14/14 [==============================] - 36s 3s/step - loss: 0.6762 - accuracy: 0.7632 - val_loss: 0.9399 - val_accuracy: 0.6830\n",
      "\n",
      "Epoch 00055: val_loss did not improve from 0.93153\n",
      "\n",
      "Epoch 00055: val_accuracy did not improve from 0.68900\n",
      "Epoch 56/100\n",
      "14/14 [==============================] - 36s 3s/step - loss: 0.6624 - accuracy: 0.7782 - val_loss: 0.9205 - val_accuracy: 0.6980\n",
      "\n",
      "Epoch 00056: val_loss improved from 0.93153 to 0.92055, saving model to singleCharLossNewData2.h5\n",
      "\n",
      "Epoch 00056: val_accuracy improved from 0.68900 to 0.69800, saving model to singleCharAccNewData2.h5\n",
      "Epoch 57/100\n",
      "14/14 [==============================] - 37s 3s/step - loss: 0.6382 - accuracy: 0.7757 - val_loss: 0.9385 - val_accuracy: 0.6850\n",
      "\n",
      "Epoch 00057: val_loss did not improve from 0.92055\n",
      "\n",
      "Epoch 00057: val_accuracy did not improve from 0.69800\n",
      "Epoch 58/100\n",
      "14/14 [==============================] - 37s 3s/step - loss: 0.6358 - accuracy: 0.7757 - val_loss: 0.9617 - val_accuracy: 0.6780\n",
      "\n",
      "Epoch 00058: val_loss did not improve from 0.92055\n",
      "\n",
      "Epoch 00058: val_accuracy did not improve from 0.69800\n",
      "Epoch 59/100\n",
      "14/14 [==============================] - 37s 3s/step - loss: 0.6439 - accuracy: 0.7832 - val_loss: 0.9358 - val_accuracy: 0.6820\n",
      "\n",
      "Epoch 00059: val_loss did not improve from 0.92055\n",
      "\n",
      "Epoch 00059: val_accuracy did not improve from 0.69800\n",
      "Epoch 60/100\n",
      "14/14 [==============================] - 37s 3s/step - loss: 0.6155 - accuracy: 0.7885 - val_loss: 0.9079 - val_accuracy: 0.6950\n",
      "\n",
      "Epoch 00060: val_loss improved from 0.92055 to 0.90789, saving model to singleCharLossNewData2.h5\n",
      "\n",
      "Epoch 00060: val_accuracy did not improve from 0.69800\n",
      "Epoch 61/100\n",
      "14/14 [==============================] - 36s 3s/step - loss: 0.6041 - accuracy: 0.7835 - val_loss: 0.9353 - val_accuracy: 0.6800\n",
      "\n",
      "Epoch 00061: val_loss did not improve from 0.90789\n",
      "\n",
      "Epoch 00061: val_accuracy did not improve from 0.69800\n",
      "Epoch 62/100\n",
      "14/14 [==============================] - 37s 3s/step - loss: 0.5994 - accuracy: 0.7887 - val_loss: 0.9010 - val_accuracy: 0.6980\n",
      "\n",
      "Epoch 00062: val_loss improved from 0.90789 to 0.90101, saving model to singleCharLossNewData2.h5\n",
      "\n",
      "Epoch 00062: val_accuracy did not improve from 0.69800\n",
      "Epoch 63/100\n",
      "14/14 [==============================] - 36s 3s/step - loss: 0.5745 - accuracy: 0.8045 - val_loss: 0.9048 - val_accuracy: 0.7000\n",
      "\n",
      "Epoch 00063: val_loss did not improve from 0.90101\n",
      "\n",
      "Epoch 00063: val_accuracy improved from 0.69800 to 0.70000, saving model to singleCharAccNewData2.h5\n",
      "Epoch 64/100\n",
      "14/14 [==============================] - 36s 3s/step - loss: 0.5653 - accuracy: 0.8062 - val_loss: 0.9116 - val_accuracy: 0.6970\n",
      "\n",
      "Epoch 00064: val_loss did not improve from 0.90101\n",
      "\n",
      "Epoch 00064: val_accuracy did not improve from 0.70000\n",
      "Epoch 65/100\n",
      "14/14 [==============================] - 37s 3s/step - loss: 0.5594 - accuracy: 0.8055 - val_loss: 0.8929 - val_accuracy: 0.6920\n",
      "\n",
      "Epoch 00065: val_loss improved from 0.90101 to 0.89288, saving model to singleCharLossNewData2.h5\n",
      "\n",
      "Epoch 00065: val_accuracy did not improve from 0.70000\n",
      "Epoch 66/100\n",
      "14/14 [==============================] - 34s 2s/step - loss: 0.5344 - accuracy: 0.8173 - val_loss: 0.8847 - val_accuracy: 0.7060\n",
      "\n",
      "Epoch 00066: val_loss improved from 0.89288 to 0.88473, saving model to singleCharLossNewData2.h5\n",
      "\n",
      "Epoch 00066: val_accuracy improved from 0.70000 to 0.70600, saving model to singleCharAccNewData2.h5\n",
      "Epoch 67/100\n",
      "14/14 [==============================] - 37s 3s/step - loss: 0.5270 - accuracy: 0.8213 - val_loss: 0.9195 - val_accuracy: 0.7000\n",
      "\n",
      "Epoch 00067: val_loss did not improve from 0.88473\n",
      "\n",
      "Epoch 00067: val_accuracy did not improve from 0.70600\n",
      "Epoch 68/100\n",
      "14/14 [==============================] - 38s 3s/step - loss: 0.5189 - accuracy: 0.8213 - val_loss: 0.8884 - val_accuracy: 0.6930\n",
      "\n",
      "Epoch 00068: val_loss did not improve from 0.88473\n",
      "\n",
      "Epoch 00068: val_accuracy did not improve from 0.70600\n",
      "Epoch 69/100\n",
      "14/14 [==============================] - 37s 3s/step - loss: 0.5185 - accuracy: 0.8163 - val_loss: 0.9159 - val_accuracy: 0.6940\n",
      "\n",
      "Epoch 00069: val_loss did not improve from 0.88473\n",
      "\n",
      "Epoch 00069: val_accuracy did not improve from 0.70600\n",
      "Epoch 70/100\n",
      "14/14 [==============================] - 37s 3s/step - loss: 0.5310 - accuracy: 0.8185 - val_loss: 0.8913 - val_accuracy: 0.7070\n",
      "\n",
      "Epoch 00070: val_loss did not improve from 0.88473\n",
      "\n",
      "Epoch 00070: val_accuracy improved from 0.70600 to 0.70700, saving model to singleCharAccNewData2.h5\n",
      "Epoch 71/100\n",
      "14/14 [==============================] - 36s 3s/step - loss: 0.5077 - accuracy: 0.8232 - val_loss: 0.8913 - val_accuracy: 0.7000\n",
      "\n",
      "Epoch 00071: val_loss did not improve from 0.88473\n",
      "\n",
      "Epoch 00071: val_accuracy did not improve from 0.70700\n",
      "Epoch 72/100\n",
      "14/14 [==============================] - 36s 3s/step - loss: 0.4943 - accuracy: 0.8300 - val_loss: 0.8879 - val_accuracy: 0.7190\n",
      "\n",
      "Epoch 00072: val_loss did not improve from 0.88473\n",
      "\n",
      "Epoch 00072: val_accuracy improved from 0.70700 to 0.71900, saving model to singleCharAccNewData2.h5\n",
      "Epoch 73/100\n",
      "14/14 [==============================] - 37s 3s/step - loss: 0.4723 - accuracy: 0.8385 - val_loss: 0.8667 - val_accuracy: 0.7130\n",
      "\n",
      "Epoch 00073: val_loss improved from 0.88473 to 0.86669, saving model to singleCharLossNewData2.h5\n",
      "\n",
      "Epoch 00073: val_accuracy did not improve from 0.71900\n",
      "Epoch 74/100\n",
      "14/14 [==============================] - 36s 3s/step - loss: 0.4685 - accuracy: 0.8418 - val_loss: 0.8699 - val_accuracy: 0.7140\n",
      "\n",
      "Epoch 00074: val_loss did not improve from 0.86669\n",
      "\n",
      "Epoch 00074: val_accuracy did not improve from 0.71900\n",
      "Epoch 75/100\n",
      "14/14 [==============================] - 37s 3s/step - loss: 0.4642 - accuracy: 0.8462 - val_loss: 0.9150 - val_accuracy: 0.6960\n",
      "\n",
      "Epoch 00075: val_loss did not improve from 0.86669\n",
      "\n",
      "Epoch 00075: val_accuracy did not improve from 0.71900\n",
      "Epoch 76/100\n",
      "14/14 [==============================] - 37s 3s/step - loss: 0.4702 - accuracy: 0.8380 - val_loss: 0.8885 - val_accuracy: 0.7090\n",
      "\n",
      "Epoch 00076: val_loss did not improve from 0.86669\n",
      "\n",
      "Epoch 00076: val_accuracy did not improve from 0.71900\n",
      "Epoch 77/100\n",
      "14/14 [==============================] - 37s 3s/step - loss: 0.4549 - accuracy: 0.8475 - val_loss: 0.8962 - val_accuracy: 0.6980\n",
      "\n",
      "Epoch 00077: val_loss did not improve from 0.86669\n",
      "\n",
      "Epoch 00077: val_accuracy did not improve from 0.71900\n",
      "Epoch 78/100\n",
      "14/14 [==============================] - 37s 3s/step - loss: 0.4467 - accuracy: 0.8468 - val_loss: 0.8470 - val_accuracy: 0.7150\n",
      "\n",
      "Epoch 00078: val_loss improved from 0.86669 to 0.84697, saving model to singleCharLossNewData2.h5\n",
      "\n",
      "Epoch 00078: val_accuracy did not improve from 0.71900\n",
      "Epoch 79/100\n",
      "14/14 [==============================] - 37s 3s/step - loss: 0.4207 - accuracy: 0.8650 - val_loss: 0.8640 - val_accuracy: 0.7160\n",
      "\n",
      "Epoch 00079: val_loss did not improve from 0.84697\n",
      "\n",
      "Epoch 00079: val_accuracy did not improve from 0.71900\n",
      "Epoch 80/100\n",
      "14/14 [==============================] - 37s 3s/step - loss: 0.4195 - accuracy: 0.8597 - val_loss: 0.8629 - val_accuracy: 0.7120\n",
      "\n",
      "Epoch 00080: val_loss did not improve from 0.84697\n",
      "\n",
      "Epoch 00080: val_accuracy did not improve from 0.71900\n",
      "Epoch 81/100\n",
      "14/14 [==============================] - 37s 3s/step - loss: 0.4260 - accuracy: 0.8568 - val_loss: 0.8809 - val_accuracy: 0.7110\n",
      "\n",
      "Epoch 00081: val_loss did not improve from 0.84697\n",
      "\n",
      "Epoch 00081: val_accuracy did not improve from 0.71900\n",
      "Epoch 82/100\n"
     ]
    },
    {
     "name": "stdout",
     "output_type": "stream",
     "text": [
      "14/14 [==============================] - 35s 3s/step - loss: 0.4009 - accuracy: 0.8705 - val_loss: 0.8573 - val_accuracy: 0.7090\n",
      "\n",
      "Epoch 00082: val_loss did not improve from 0.84697\n",
      "\n",
      "Epoch 00082: val_accuracy did not improve from 0.71900\n",
      "Epoch 83/100\n",
      "14/14 [==============================] - 38s 3s/step - loss: 0.3903 - accuracy: 0.8745 - val_loss: 0.8756 - val_accuracy: 0.7170\n",
      "\n",
      "Epoch 00083: val_loss did not improve from 0.84697\n",
      "\n",
      "Epoch 00083: val_accuracy did not improve from 0.71900\n",
      "Epoch 84/100\n",
      "14/14 [==============================] - 37s 3s/step - loss: 0.3826 - accuracy: 0.8792 - val_loss: 0.8879 - val_accuracy: 0.7190\n",
      "\n",
      "Epoch 00084: val_loss did not improve from 0.84697\n",
      "\n",
      "Epoch 00084: val_accuracy did not improve from 0.71900\n",
      "Epoch 85/100\n",
      "14/14 [==============================] - 37s 3s/step - loss: 0.3801 - accuracy: 0.8832 - val_loss: 0.8605 - val_accuracy: 0.7290\n",
      "\n",
      "Epoch 00085: val_loss did not improve from 0.84697\n",
      "\n",
      "Epoch 00085: val_accuracy improved from 0.71900 to 0.72900, saving model to singleCharAccNewData2.h5\n",
      "Epoch 86/100\n",
      "14/14 [==============================] - 37s 3s/step - loss: 0.3665 - accuracy: 0.8792 - val_loss: 0.8617 - val_accuracy: 0.7180\n",
      "\n",
      "Epoch 00086: val_loss did not improve from 0.84697\n",
      "\n",
      "Epoch 00086: val_accuracy did not improve from 0.72900\n",
      "Epoch 87/100\n",
      "14/14 [==============================] - 38s 3s/step - loss: 0.3804 - accuracy: 0.8763 - val_loss: 0.8583 - val_accuracy: 0.7200\n",
      "\n",
      "Epoch 00087: val_loss did not improve from 0.84697\n",
      "\n",
      "Epoch 00087: val_accuracy did not improve from 0.72900\n",
      "Epoch 88/100\n",
      "14/14 [==============================] - 37s 3s/step - loss: 0.3709 - accuracy: 0.8813 - val_loss: 0.8760 - val_accuracy: 0.7250\n",
      "\n",
      "Epoch 00088: val_loss did not improve from 0.84697\n",
      "\n",
      "Epoch 00088: val_accuracy did not improve from 0.72900\n",
      "Epoch 89/100\n",
      "14/14 [==============================] - 37s 3s/step - loss: 0.3626 - accuracy: 0.8770 - val_loss: 0.9370 - val_accuracy: 0.7100\n",
      "\n",
      "Epoch 00089: val_loss did not improve from 0.84697\n",
      "\n",
      "Epoch 00089: val_accuracy did not improve from 0.72900\n",
      "Epoch 90/100\n",
      "14/14 [==============================] - 37s 3s/step - loss: 0.3688 - accuracy: 0.8800 - val_loss: 0.8594 - val_accuracy: 0.7220\n",
      "\n",
      "Epoch 00090: val_loss did not improve from 0.84697\n",
      "\n",
      "Epoch 00090: val_accuracy did not improve from 0.72900\n",
      "Epoch 91/100\n",
      "14/14 [==============================] - 37s 3s/step - loss: 0.3391 - accuracy: 0.8978 - val_loss: 0.9093 - val_accuracy: 0.7110\n",
      "\n",
      "Epoch 00091: val_loss did not improve from 0.84697\n",
      "\n",
      "Epoch 00091: val_accuracy did not improve from 0.72900\n",
      "Epoch 92/100\n",
      "14/14 [==============================] - 42s 3s/step - loss: 0.3500 - accuracy: 0.8920 - val_loss: 0.8784 - val_accuracy: 0.7160\n",
      "\n",
      "Epoch 00092: val_loss did not improve from 0.84697\n",
      "\n",
      "Epoch 00092: val_accuracy did not improve from 0.72900\n",
      "Epoch 93/100\n",
      "14/14 [==============================] - 37s 3s/step - loss: 0.3320 - accuracy: 0.8995 - val_loss: 0.8773 - val_accuracy: 0.7200\n",
      "\n",
      "Epoch 00093: val_loss did not improve from 0.84697\n",
      "\n",
      "Epoch 00093: val_accuracy did not improve from 0.72900\n",
      "Epoch 94/100\n",
      "14/14 [==============================] - 37s 3s/step - loss: 0.3349 - accuracy: 0.8957 - val_loss: 0.8947 - val_accuracy: 0.7230\n",
      "\n",
      "Epoch 00094: val_loss did not improve from 0.84697\n",
      "\n",
      "Epoch 00094: val_accuracy did not improve from 0.72900\n",
      "Epoch 95/100\n",
      "14/14 [==============================] - 37s 3s/step - loss: 0.3333 - accuracy: 0.9003 - val_loss: 0.8719 - val_accuracy: 0.7310\n",
      "\n",
      "Epoch 00095: val_loss did not improve from 0.84697\n",
      "\n",
      "Epoch 00095: val_accuracy improved from 0.72900 to 0.73100, saving model to singleCharAccNewData2.h5\n",
      "Epoch 96/100\n",
      "14/14 [==============================] - 37s 3s/step - loss: 0.3282 - accuracy: 0.8985 - val_loss: 0.8821 - val_accuracy: 0.7220\n",
      "\n",
      "Epoch 00096: val_loss did not improve from 0.84697\n",
      "\n",
      "Epoch 00096: val_accuracy did not improve from 0.73100\n",
      "Epoch 97/100\n",
      "14/14 [==============================] - 37s 3s/step - loss: 0.3060 - accuracy: 0.9080 - val_loss: 0.8793 - val_accuracy: 0.7110\n",
      "\n",
      "Epoch 00097: val_loss did not improve from 0.84697\n",
      "\n",
      "Epoch 00097: val_accuracy did not improve from 0.73100\n",
      "Epoch 98/100\n",
      "14/14 [==============================] - 37s 3s/step - loss: 0.2996 - accuracy: 0.9070 - val_loss: 0.8695 - val_accuracy: 0.7230\n",
      "\n",
      "Epoch 00098: val_loss did not improve from 0.84697\n",
      "\n",
      "Epoch 00098: val_accuracy did not improve from 0.73100\n",
      "Epoch 99/100\n",
      "14/14 [==============================] - 37s 3s/step - loss: 0.2951 - accuracy: 0.9103 - val_loss: 0.8852 - val_accuracy: 0.7180\n",
      "\n",
      "Epoch 00099: val_loss did not improve from 0.84697\n",
      "\n",
      "Epoch 00099: val_accuracy did not improve from 0.73100\n",
      "Epoch 100/100\n",
      "14/14 [==============================] - 37s 3s/step - loss: 0.3025 - accuracy: 0.9097 - val_loss: 0.8739 - val_accuracy: 0.7250\n",
      "\n",
      "Epoch 00100: val_loss did not improve from 0.84697\n",
      "\n",
      "Epoch 00100: val_accuracy did not improve from 0.73100\n"
     ]
    }
   ],
   "source": [
    "history = model_final.fit(X_train, y_train, validation_data=(X_test, y_test), batch_size=300, epochs=100, verbose=1, callbacks=[lossCheck, accCheck])"
   ]
  },
  {
   "cell_type": "code",
   "execution_count": 21,
   "id": "34534eba",
   "metadata": {},
   "outputs": [],
   "source": [
    "import matplotlib.pyplot as plt"
   ]
  },
  {
   "cell_type": "code",
   "execution_count": 22,
   "id": "048b8a2c",
   "metadata": {},
   "outputs": [
    {
     "data": {
      "image/png": "[encoded data removed]",
      "text/plain": [
       "<Figure size 432x288 with 1 Axes>"
      ]
     },
     "metadata": {
      "needs_background": "light"
     },
     "output_type": "display_data"
    }
   ],
   "source": [
    "plt.plot(history.history['loss'], label = \"training Loss\")\n",
    "plt.plot(history.history['val_loss'], label = \"validation loss\")\n",
    "plt.legend()\n",
    "plt.xlabel(\"Epochs\")\n",
    "plt.ylabel(\"Loss\")\n",
    "plt.show()"
   ]
  },
  {
   "cell_type": "code",
   "execution_count": 23,
   "id": "7b2f2700",
   "metadata": {},
   "outputs": [
    {
     "data": {
      "image/png": "[encoded data removed]",
      "text/plain": [
       "<Figure size 432x288 with 1 Axes>"
      ]
     },
     "metadata": {
      "needs_background": "light"
     },
     "output_type": "display_data"
    }
   ],
   "source": [
    "plt.plot(history.history['accuracy'], label = \"training Accuracy\")\n",
    "plt.plot(history.history['val_accuracy'], label = \"validation Accuracy\")\n",
    "plt.legend()\n",
    "plt.xlabel(\"Epochs\")\n",
    "plt.ylabel(\"Accuracy\")\n",
    "plt.show()"
   ]
  },
  {
   "cell_type": "code",
   "execution_count": 16,
   "id": "bbb268e3",
   "metadata": {},
   "outputs": [
    {
     "name": "stdout",
     "output_type": "stream",
     "text": [
      "[name: \"/device:CPU:0\"\n",
      "device_type: \"CPU\"\n",
      "memory_limit: 268435456\n",
      "locality {\n",
      "}\n",
      "incarnation: 1588803104032413045\n",
      "]\n"
     ]
    }
   ],
   "source": [
    "from tensorflow.python.client import device_lib\n",
    "print(device_lib.list_local_devices())"
   ]
  },
  {
   "cell_type": "code",
   "execution_count": 17,
   "id": "ef9ba62b",
   "metadata": {},
   "outputs": [
    {
     "name": "stdout",
     "output_type": "stream",
     "text": [
      "Device mapping: no known devices.\n"
     ]
    }
   ],
   "source": [
    "sess = tf.compat.v1.Session(config=tf.compat.v1.ConfigProto(log_device_placement=True))"
   ]
  },
  {
   "cell_type": "code",
   "execution_count": 18,
   "id": "031a5560",
   "metadata": {},
   "outputs": [
    {
     "name": "stdout",
     "output_type": "stream",
     "text": [
      "Num GPUs Available:  0\n"
     ]
    }
   ],
   "source": [
    "print(\"Num GPUs Available: \", len(tf.config.experimental.list_physical_devices('GPU')))\n"
   ]
  },
  {
   "cell_type": "code",
   "execution_count": null,
   "id": "a4de2d9b",
   "metadata": {},
   "outputs": [],
   "source": []
  },
  {
   "cell_type": "code",
   "execution_count": null,
   "id": "fa58aa26",
   "metadata": {},
   "outputs": [],
   "source": []
  },
  {
   "cell_type": "code",
   "execution_count": 59,
   "id": "92896eb7",
   "metadata": {},
   "outputs": [
    {
     "name": "stdout",
     "output_type": "stream",
     "text": [
      "Requirement already satisfied: tensorflow in /media/data_dump/mann/envs/base3.6/lib/python3.6/site-packages (2.6.2)\n",
      "Requirement already satisfied: absl-py~=0.10 in /media/data_dump/mann/envs/base3.6/lib/python3.6/site-packages (from tensorflow) (0.15.0)\n",
      "Requirement already satisfied: protobuf>=3.9.2 in /media/data_dump/mann/envs/base3.6/lib/python3.6/site-packages (from tensorflow) (3.19.3)\n",
      "Requirement already satisfied: tensorboard<2.7,>=2.6.0 in /media/data_dump/mann/envs/base3.6/lib/python3.6/site-packages (from tensorflow) (2.6.0)\n",
      "Requirement already satisfied: six~=1.15.0 in /media/data_dump/mann/envs/base3.6/lib/python3.6/site-packages (from tensorflow) (1.15.0)\n",
      "Requirement already satisfied: termcolor~=1.1.0 in /media/data_dump/mann/envs/base3.6/lib/python3.6/site-packages (from tensorflow) (1.1.0)\n",
      "Requirement already satisfied: typing-extensions~=3.7.4 in /media/data_dump/mann/envs/base3.6/lib/python3.6/site-packages (from tensorflow) (3.7.4.3)\n",
      "Requirement already satisfied: h5py~=3.1.0 in /media/data_dump/mann/envs/base3.6/lib/python3.6/site-packages (from tensorflow) (3.1.0)\n",
      "Requirement already satisfied: numpy~=1.19.2 in /media/data_dump/mann/envs/base3.6/lib/python3.6/site-packages (from tensorflow) (1.19.5)\n",
      "Requirement already satisfied: google-pasta~=0.2 in /media/data_dump/mann/envs/base3.6/lib/python3.6/site-packages (from tensorflow) (0.2.0)\n",
      "Requirement already satisfied: opt-einsum~=3.3.0 in /media/data_dump/mann/envs/base3.6/lib/python3.6/site-packages (from tensorflow) (3.3.0)\n",
      "Requirement already satisfied: keras-preprocessing~=1.1.2 in /media/data_dump/mann/envs/base3.6/lib/python3.6/site-packages (from tensorflow) (1.1.2)\n",
      "Requirement already satisfied: wrapt~=1.12.1 in /media/data_dump/mann/envs/base3.6/lib/python3.6/site-packages (from tensorflow) (1.12.1)\n",
      "Requirement already satisfied: gast==0.4.0 in /media/data_dump/mann/envs/base3.6/lib/python3.6/site-packages (from tensorflow) (0.4.0)\n",
      "Requirement already satisfied: wheel~=0.35 in /media/data_dump/mann/envs/base3.6/lib/python3.6/site-packages (from tensorflow) (0.37.0)\n",
      "Requirement already satisfied: flatbuffers~=1.12.0 in /media/data_dump/mann/envs/base3.6/lib/python3.6/site-packages (from tensorflow) (1.12)\n",
      "Requirement already satisfied: clang~=5.0 in /media/data_dump/mann/envs/base3.6/lib/python3.6/site-packages (from tensorflow) (5.0)\n",
      "Requirement already satisfied: keras<2.7,>=2.6.0 in /media/data_dump/mann/envs/base3.6/lib/python3.6/site-packages (from tensorflow) (2.6.0)\n",
      "Requirement already satisfied: astunparse~=1.6.3 in /media/data_dump/mann/envs/base3.6/lib/python3.6/site-packages (from tensorflow) (1.6.3)\n",
      "Requirement already satisfied: grpcio<2.0,>=1.37.0 in /media/data_dump/mann/envs/base3.6/lib/python3.6/site-packages (from tensorflow) (1.43.0)\n",
      "Requirement already satisfied: tensorflow-estimator<2.7,>=2.6.0 in /media/data_dump/mann/envs/base3.6/lib/python3.6/site-packages (from tensorflow) (2.6.0)\n",
      "Requirement already satisfied: cached-property in /media/data_dump/mann/envs/base3.6/lib/python3.6/site-packages (from h5py~=3.1.0->tensorflow) (1.5.2)\n",
      "Requirement already satisfied: google-auth-oauthlib<0.5,>=0.4.1 in /media/data_dump/mann/envs/base3.6/lib/python3.6/site-packages (from tensorboard<2.7,>=2.6.0->tensorflow) (0.4.6)\n",
      "Requirement already satisfied: requests<3,>=2.21.0 in /media/data_dump/mann/envs/base3.6/lib/python3.6/site-packages (from tensorboard<2.7,>=2.6.0->tensorflow) (2.26.0)\n",
      "Requirement already satisfied: google-auth<2,>=1.6.3 in /media/data_dump/mann/envs/base3.6/lib/python3.6/site-packages (from tensorboard<2.7,>=2.6.0->tensorflow) (1.35.0)\n",
      "Requirement already satisfied: markdown>=2.6.8 in /media/data_dump/mann/envs/base3.6/lib/python3.6/site-packages (from tensorboard<2.7,>=2.6.0->tensorflow) (3.3.6)\n",
      "Requirement already satisfied: werkzeug>=0.11.15 in /media/data_dump/mann/envs/base3.6/lib/python3.6/site-packages (from tensorboard<2.7,>=2.6.0->tensorflow) (2.0.2)\n",
      "Requirement already satisfied: setuptools>=41.0.0 in /media/data_dump/mann/envs/base3.6/lib/python3.6/site-packages (from tensorboard<2.7,>=2.6.0->tensorflow) (52.0.0.post20210125)\n",
      "Requirement already satisfied: tensorboard-data-server<0.7.0,>=0.6.0 in /media/data_dump/mann/envs/base3.6/lib/python3.6/site-packages (from tensorboard<2.7,>=2.6.0->tensorflow) (0.6.1)\n",
      "Requirement already satisfied: tensorboard-plugin-wit>=1.6.0 in /media/data_dump/mann/envs/base3.6/lib/python3.6/site-packages (from tensorboard<2.7,>=2.6.0->tensorflow) (1.8.1)\n",
      "Requirement already satisfied: cachetools<5.0,>=2.0.0 in /media/data_dump/mann/envs/base3.6/lib/python3.6/site-packages (from google-auth<2,>=1.6.3->tensorboard<2.7,>=2.6.0->tensorflow) (4.2.4)\n",
      "Requirement already satisfied: rsa<5,>=3.1.4 in /media/data_dump/mann/envs/base3.6/lib/python3.6/site-packages (from google-auth<2,>=1.6.3->tensorboard<2.7,>=2.6.0->tensorflow) (4.8)\n",
      "Requirement already satisfied: pyasn1-modules>=0.2.1 in /media/data_dump/mann/envs/base3.6/lib/python3.6/site-packages (from google-auth<2,>=1.6.3->tensorboard<2.7,>=2.6.0->tensorflow) (0.2.8)\n",
      "Requirement already satisfied: requests-oauthlib>=0.7.0 in /media/data_dump/mann/envs/base3.6/lib/python3.6/site-packages (from google-auth-oauthlib<0.5,>=0.4.1->tensorboard<2.7,>=2.6.0->tensorflow) (1.3.0)\n",
      "Requirement already satisfied: importlib-metadata>=4.4 in /home/mann/.local/lib/python3.6/site-packages (from markdown>=2.6.8->tensorboard<2.7,>=2.6.0->tensorflow) (4.8.1)\n",
      "Requirement already satisfied: zipp>=0.5 in /media/data_dump/mann/envs/base3.6/lib/python3.6/site-packages (from importlib-metadata>=4.4->markdown>=2.6.8->tensorboard<2.7,>=2.6.0->tensorflow) (3.5.0)\n",
      "Requirement already satisfied: pyasn1<0.5.0,>=0.4.6 in /media/data_dump/mann/envs/base3.6/lib/python3.6/site-packages (from pyasn1-modules>=0.2.1->google-auth<2,>=1.6.3->tensorboard<2.7,>=2.6.0->tensorflow) (0.4.8)\n",
      "Requirement already satisfied: urllib3<1.27,>=1.21.1 in /media/data_dump/mann/envs/base3.6/lib/python3.6/site-packages (from requests<3,>=2.21.0->tensorboard<2.7,>=2.6.0->tensorflow) (1.26.6)\n",
      "Requirement already satisfied: charset-normalizer~=2.0.0 in /media/data_dump/mann/envs/base3.6/lib/python3.6/site-packages (from requests<3,>=2.21.0->tensorboard<2.7,>=2.6.0->tensorflow) (2.0.4)\n",
      "Requirement already satisfied: idna<4,>=2.5 in /media/data_dump/mann/envs/base3.6/lib/python3.6/site-packages (from requests<3,>=2.21.0->tensorboard<2.7,>=2.6.0->tensorflow) (3.2)\n",
      "Requirement already satisfied: certifi>=2017.4.17 in /media/data_dump/mann/envs/base3.6/lib/python3.6/site-packages (from requests<3,>=2.21.0->tensorboard<2.7,>=2.6.0->tensorflow) (2021.5.30)\n",
      "Requirement already satisfied: oauthlib>=3.0.0 in /media/data_dump/mann/envs/base3.6/lib/python3.6/site-packages (from requests-oauthlib>=0.7.0->google-auth-oauthlib<0.5,>=0.4.1->tensorboard<2.7,>=2.6.0->tensorflow) (3.1.1)\n",
      "Requirement already satisfied: dataclasses in /media/data_dump/mann/envs/base3.6/lib/python3.6/site-packages (from werkzeug>=0.11.15->tensorboard<2.7,>=2.6.0->tensorflow) (0.8)\n"
     ]
    }
   ],
   "source": [
    "!pip install tensorflow"
   ]
  },
  {
   "cell_type": "code",
   "execution_count": null,
   "id": "8e7937dc",
   "metadata": {},
   "outputs": [],
   "source": [
    "history1 = model_final.fit(X_train, y_train, validation_data=(X_test, y_test), batch_size=300, epochs=50, verbose=1);"
   ]
  },
  {
   "cell_type": "code",
   "execution_count": 57,
   "id": "5e158841",
   "metadata": {},
   "outputs": [
    {
     "name": "stdout",
     "output_type": "stream",
     "text": [
      "Epoch 1/50\n",
      "6/6 [==============================] - 8s 1s/step - loss: 0.7408 - accuracy: 0.7550 - val_loss: 1.7918 - val_accuracy: 0.4675\n",
      "Epoch 2/50\n",
      "6/6 [==============================] - 8s 1s/step - loss: 0.7422 - accuracy: 0.7575 - val_loss: 1.8043 - val_accuracy: 0.4625\n",
      "Epoch 3/50\n",
      "6/6 [==============================] - 8s 1s/step - loss: 0.7343 - accuracy: 0.7569 - val_loss: 1.8027 - val_accuracy: 0.4650\n",
      "Epoch 4/50\n",
      "6/6 [==============================] - 8s 1s/step - loss: 0.7151 - accuracy: 0.7619 - val_loss: 1.7949 - val_accuracy: 0.4775\n",
      "Epoch 5/50\n",
      "6/6 [==============================] - 8s 1s/step - loss: 0.7033 - accuracy: 0.7713 - val_loss: 1.8078 - val_accuracy: 0.4525\n",
      "Epoch 6/50\n",
      "6/6 [==============================] - 8s 1s/step - loss: 0.6999 - accuracy: 0.7706 - val_loss: 1.7969 - val_accuracy: 0.4775\n",
      "Epoch 7/50\n",
      "6/6 [==============================] - 8s 1s/step - loss: 0.6904 - accuracy: 0.7756 - val_loss: 1.8212 - val_accuracy: 0.4575\n",
      "Epoch 8/50\n",
      "6/6 [==============================] - 8s 1s/step - loss: 0.6877 - accuracy: 0.7750 - val_loss: 1.8240 - val_accuracy: 0.4725\n",
      "Epoch 9/50\n",
      "6/6 [==============================] - 8s 1s/step - loss: 0.6798 - accuracy: 0.7744 - val_loss: 1.8378 - val_accuracy: 0.4725\n",
      "Epoch 10/50\n",
      "6/6 [==============================] - 8s 1s/step - loss: 0.6621 - accuracy: 0.7900 - val_loss: 1.8183 - val_accuracy: 0.4550\n",
      "Epoch 11/50\n",
      "6/6 [==============================] - 8s 1s/step - loss: 0.6615 - accuracy: 0.7894 - val_loss: 1.8416 - val_accuracy: 0.4700\n",
      "Epoch 12/50\n",
      "6/6 [==============================] - 8s 1s/step - loss: 0.6520 - accuracy: 0.7881 - val_loss: 1.8290 - val_accuracy: 0.4625\n",
      "Epoch 13/50\n",
      "6/6 [==============================] - 8s 1s/step - loss: 0.6451 - accuracy: 0.7994 - val_loss: 1.8467 - val_accuracy: 0.4650\n",
      "Epoch 14/50\n",
      "6/6 [==============================] - 8s 1s/step - loss: 0.6377 - accuracy: 0.7925 - val_loss: 1.8536 - val_accuracy: 0.4550\n",
      "Epoch 15/50\n",
      "6/6 [==============================] - 8s 1s/step - loss: 0.6339 - accuracy: 0.8019 - val_loss: 1.8390 - val_accuracy: 0.4725\n",
      "Epoch 16/50\n",
      "6/6 [==============================] - 8s 1s/step - loss: 0.6244 - accuracy: 0.8062 - val_loss: 1.8511 - val_accuracy: 0.4750\n",
      "Epoch 17/50\n",
      "6/6 [==============================] - 8s 1s/step - loss: 0.6168 - accuracy: 0.8087 - val_loss: 1.8527 - val_accuracy: 0.4750\n",
      "Epoch 18/50\n",
      "6/6 [==============================] - 8s 1s/step - loss: 0.6079 - accuracy: 0.8106 - val_loss: 1.8652 - val_accuracy: 0.4750\n",
      "Epoch 19/50\n",
      "6/6 [==============================] - 8s 1s/step - loss: 0.6047 - accuracy: 0.8087 - val_loss: 1.8641 - val_accuracy: 0.4775\n",
      "Epoch 20/50\n",
      "6/6 [==============================] - 8s 1s/step - loss: 0.5947 - accuracy: 0.8169 - val_loss: 1.8819 - val_accuracy: 0.4600\n",
      "Epoch 21/50\n",
      "6/6 [==============================] - 8s 1s/step - loss: 0.5956 - accuracy: 0.8225 - val_loss: 1.8783 - val_accuracy: 0.4600\n",
      "Epoch 22/50\n",
      "6/6 [==============================] - 8s 1s/step - loss: 0.5831 - accuracy: 0.8250 - val_loss: 1.8955 - val_accuracy: 0.4700\n",
      "Epoch 23/50\n",
      "6/6 [==============================] - 8s 1s/step - loss: 0.5753 - accuracy: 0.8238 - val_loss: 1.8912 - val_accuracy: 0.4800\n",
      "Epoch 24/50\n",
      "6/6 [==============================] - 8s 1s/step - loss: 0.5726 - accuracy: 0.8238 - val_loss: 1.8961 - val_accuracy: 0.4700\n",
      "Epoch 25/50\n",
      "6/6 [==============================] - 8s 1s/step - loss: 0.5647 - accuracy: 0.8269 - val_loss: 1.9268 - val_accuracy: 0.4575\n",
      "Epoch 26/50\n",
      "6/6 [==============================] - 8s 1s/step - loss: 0.5607 - accuracy: 0.8313 - val_loss: 1.8930 - val_accuracy: 0.4650\n",
      "Epoch 27/50\n",
      "6/6 [==============================] - 8s 1s/step - loss: 0.5489 - accuracy: 0.8375 - val_loss: 1.9358 - val_accuracy: 0.4650\n",
      "Epoch 28/50\n",
      "6/6 [==============================] - 8s 1s/step - loss: 0.5451 - accuracy: 0.8363 - val_loss: 1.8949 - val_accuracy: 0.4800\n",
      "Epoch 29/50\n",
      "6/6 [==============================] - 8s 1s/step - loss: 0.5416 - accuracy: 0.8381 - val_loss: 1.9247 - val_accuracy: 0.4600\n",
      "Epoch 30/50\n",
      "6/6 [==============================] - 8s 1s/step - loss: 0.5400 - accuracy: 0.8306 - val_loss: 1.9381 - val_accuracy: 0.4525\n",
      "Epoch 31/50\n",
      "6/6 [==============================] - 8s 1s/step - loss: 0.5348 - accuracy: 0.8338 - val_loss: 1.9504 - val_accuracy: 0.4600\n",
      "Epoch 32/50\n",
      "6/6 [==============================] - 8s 1s/step - loss: 0.5357 - accuracy: 0.8338 - val_loss: 1.9244 - val_accuracy: 0.4650\n",
      "Epoch 33/50\n",
      "6/6 [==============================] - 8s 1s/step - loss: 0.5228 - accuracy: 0.8438 - val_loss: 1.9532 - val_accuracy: 0.4775\n",
      "Epoch 34/50\n",
      "6/6 [==============================] - 8s 1s/step - loss: 0.5194 - accuracy: 0.8394 - val_loss: 1.9669 - val_accuracy: 0.4625\n",
      "Epoch 35/50\n",
      "6/6 [==============================] - 8s 1s/step - loss: 0.5128 - accuracy: 0.8506 - val_loss: 1.9623 - val_accuracy: 0.4700\n",
      "Epoch 36/50\n",
      "6/6 [==============================] - 8s 1s/step - loss: 0.5096 - accuracy: 0.8462 - val_loss: 1.9527 - val_accuracy: 0.4800\n",
      "Epoch 37/50\n",
      "6/6 [==============================] - 8s 1s/step - loss: 0.5023 - accuracy: 0.8475 - val_loss: 1.9714 - val_accuracy: 0.4525\n",
      "Epoch 38/50\n",
      "6/6 [==============================] - 8s 1s/step - loss: 0.4928 - accuracy: 0.8519 - val_loss: 1.9758 - val_accuracy: 0.4475\n",
      "Epoch 39/50\n",
      "6/6 [==============================] - 8s 1s/step - loss: 0.4966 - accuracy: 0.8475 - val_loss: 1.9702 - val_accuracy: 0.4725\n",
      "Epoch 40/50\n",
      "6/6 [==============================] - 8s 1s/step - loss: 0.4968 - accuracy: 0.8450 - val_loss: 1.9951 - val_accuracy: 0.4500\n",
      "Epoch 41/50\n",
      "6/6 [==============================] - 8s 1s/step - loss: 0.4925 - accuracy: 0.8475 - val_loss: 1.9839 - val_accuracy: 0.4625\n",
      "Epoch 42/50\n",
      "6/6 [==============================] - 8s 1s/step - loss: 0.4779 - accuracy: 0.8594 - val_loss: 1.9874 - val_accuracy: 0.4800\n",
      "Epoch 43/50\n",
      "6/6 [==============================] - 8s 1s/step - loss: 0.4793 - accuracy: 0.8562 - val_loss: 2.0021 - val_accuracy: 0.4575\n",
      "Epoch 44/50\n",
      "6/6 [==============================] - 8s 1s/step - loss: 0.4671 - accuracy: 0.8619 - val_loss: 2.0150 - val_accuracy: 0.4700\n",
      "Epoch 45/50\n",
      "6/6 [==============================] - 8s 1s/step - loss: 0.4710 - accuracy: 0.8550 - val_loss: 1.9936 - val_accuracy: 0.4650\n",
      "Epoch 46/50\n",
      "6/6 [==============================] - 8s 1s/step - loss: 0.4612 - accuracy: 0.8656 - val_loss: 2.0052 - val_accuracy: 0.4675\n",
      "Epoch 47/50\n",
      "6/6 [==============================] - 8s 1s/step - loss: 0.4522 - accuracy: 0.8681 - val_loss: 2.0075 - val_accuracy: 0.4650\n",
      "Epoch 48/50\n",
      "6/6 [==============================] - 8s 1s/step - loss: 0.4440 - accuracy: 0.8694 - val_loss: 2.0283 - val_accuracy: 0.4575\n",
      "Epoch 49/50\n",
      "6/6 [==============================] - 8s 1s/step - loss: 0.4398 - accuracy: 0.8712 - val_loss: 2.0368 - val_accuracy: 0.4500\n",
      "Epoch 50/50\n",
      "6/6 [==============================] - 8s 1s/step - loss: 0.4381 - accuracy: 0.8725 - val_loss: 2.0166 - val_accuracy: 0.4675\n"
     ]
    }
   ],
   "source": [
    "history2 = model_final.fit(X_train, y_train, validation_data=(X_test, y_test), batch_size=300, epochs=50, verbose=1);"
   ]
  },
  {
   "cell_type": "code",
   "execution_count": 61,
   "id": "da7a2bb2",
   "metadata": {},
   "outputs": [
    {
     "data": {
      "text/plain": [
       "0.47999998927116394"
      ]
     },
     "execution_count": 61,
     "metadata": {},
     "output_type": "execute_result"
    }
   ],
   "source": [
    "max(max(history.history[\"val_accuracy\"]), max(history1.history[\"val_accuracy\"]), max(history2.history[\"val_accuracy\"]))"
   ]
  },
  {
   "cell_type": "code",
   "execution_count": 63,
   "id": "c626d7aa",
   "metadata": {},
   "outputs": [
    {
     "name": "stdout",
     "output_type": "stream",
     "text": [
      "8/8 [==============================] - 5s 569ms/step\n"
     ]
    }
   ],
   "source": [
    "xtr = model_final.predict(X_train, batch_size = 200, verbose=1)"
   ]
  },
  {
   "cell_type": "code",
   "execution_count": 64,
   "id": "eed2c6ff",
   "metadata": {},
   "outputs": [
    {
     "name": "stdout",
     "output_type": "stream",
     "text": [
      "4/4 [==============================] - 1s 294ms/step\n"
     ]
    }
   ],
   "source": [
    "Xtest = model_final.predict(X_test, batch_size = 100, verbose=1);"
   ]
  },
  {
   "cell_type": "code",
   "execution_count": 65,
   "id": "45de9b32",
   "metadata": {},
   "outputs": [
    {
     "name": "stdout",
     "output_type": "stream",
     "text": [
      "(1600, 10)\n"
     ]
    }
   ],
   "source": [
    "print(xtr.shape)"
   ]
  },
  {
   "cell_type": "code",
   "execution_count": 66,
   "id": "00b6fa0c",
   "metadata": {},
   "outputs": [],
   "source": [
    "resize = np.prod(xtr.shape[1:])"
   ]
  },
  {
   "cell_type": "code",
   "execution_count": 67,
   "id": "4da9997f",
   "metadata": {},
   "outputs": [],
   "source": [
    "xtr = np.reshape(xtr, (1600, resize));\n",
    "Xtest = np.reshape(Xtest, (400, resize));"
   ]
  },
  {
   "cell_type": "code",
   "execution_count": 74,
   "id": "85686e1f",
   "metadata": {},
   "outputs": [],
   "source": [
    "bf_train_s = xtr\n",
    "bf_test_s = Xtest"
   ]
  },
  {
   "cell_type": "code",
   "execution_count": 75,
   "id": "7d2c4913",
   "metadata": {},
   "outputs": [],
   "source": [
    "y_train_mc = np.argmax(y_train, axis=1)\n",
    "y_test_mc = np.argmax(y_test, axis = 1)"
   ]
  },
  {
   "cell_type": "code",
   "execution_count": 80,
   "id": "99eb15f4",
   "metadata": {},
   "outputs": [],
   "source": [
    "from sklearn.linear_model import LogisticRegression\n",
    "from sklearn import svm\n"
   ]
  },
  {
   "cell_type": "code",
   "execution_count": 77,
   "id": "8972ded8",
   "metadata": {},
   "outputs": [],
   "source": [
    "clf = LogisticRegression(multi_class='multinomial', solver='lbfgs', verbose=1,max_iter=10000)"
   ]
  },
  {
   "cell_type": "code",
   "execution_count": 78,
   "id": "53675f1d",
   "metadata": {},
   "outputs": [
    {
     "name": "stderr",
     "output_type": "stream",
     "text": [
      "[Parallel(n_jobs=1)]: Using backend SequentialBackend with 1 concurrent workers.\n",
      "[Parallel(n_jobs=1)]: Done   1 out of   1 | elapsed:    0.0s finished\n"
     ]
    },
    {
     "data": {
      "text/plain": [
       "LogisticRegression(max_iter=10000, multi_class='multinomial', verbose=1)"
      ]
     },
     "execution_count": 78,
     "metadata": {},
     "output_type": "execute_result"
    }
   ],
   "source": [
    "clf.fit(bf_train_s,y_train_mc)"
   ]
  },
  {
   "cell_type": "code",
   "execution_count": 79,
   "id": "488e55e1",
   "metadata": {},
   "outputs": [
    {
     "name": "stdout",
     "output_type": "stream",
     "text": [
      "0.4675\n"
     ]
    }
   ],
   "source": [
    "print(clf.score(bf_test_s, y_test_mc))"
   ]
  },
  {
   "cell_type": "code",
   "execution_count": 81,
   "id": "b05a2170",
   "metadata": {},
   "outputs": [
    {
     "name": "stdout",
     "output_type": "stream",
     "text": [
      "[LibLinear]"
     ]
    },
    {
     "data": {
      "text/plain": [
       "LinearSVC(C=0.0002, max_iter=800000, verbose=1)"
      ]
     },
     "execution_count": 81,
     "metadata": {},
     "output_type": "execute_result"
    }
   ],
   "source": [
    "multiClassSVM = svm.LinearSVC(loss = 'squared_hinge', penalty = 'l2',C=1/5000 ,max_iter=800000,verbose=1) \n",
    "multiClassSVM.fit(bf_train_s,y_train_mc)"
   ]
  },
  {
   "cell_type": "code",
   "execution_count": 82,
   "id": "c69acee0",
   "metadata": {},
   "outputs": [
    {
     "data": {
      "text/plain": [
       "0.465"
      ]
     },
     "execution_count": 82,
     "metadata": {},
     "output_type": "execute_result"
    }
   ],
   "source": [
    "multiClassSVM.score(bf_test_s, y_test_mc)"
   ]
  },
  {
   "cell_type": "code",
   "execution_count": null,
   "id": "c213ffe4",
   "metadata": {},
   "outputs": [],
   "source": []
  }
 ],
 "metadata": {
  "kernelspec": {
   "display_name": "Python 3",
   "language": "python",
   "name": "python3"
  },
  "language_info": {
   "codemirror_mode": {
    "name": "ipython",
    "version": 3
   },
   "file_extension": ".py",
   "mimetype": "text/x-python",
   "name": "python",
   "nbconvert_exporter": "python",
   "pygments_lexer": "ipython3",
   "version": "3.6.13"
  }
 },
 "nbformat": 4,
 "nbformat_minor": 5
}
