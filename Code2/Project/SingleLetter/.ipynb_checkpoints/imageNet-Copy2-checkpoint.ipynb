{
 "cells": [
  {
   "cell_type": "code",
   "execution_count": 1,
   "id": "df385f89",
   "metadata": {},
   "outputs": [],
   "source": [
    "from tensorflow.keras import applications\n",
    "from keras.preprocessing.image import ImageDataGenerator\n",
    "from keras import optimizers\n",
    "from keras.models import Sequential, Model\n",
    "from keras.layers import Input, Dropout, Flatten, Dense, GlobalAveragePooling2D\n",
    "from keras.layers import Conv2D\n",
    "from keras import backend as k\n",
    "from keras.callbacks import ModelCheckpoint, LearningRateScheduler, TensorBoard, EarlyStopping\n",
    "import numpy as np\n",
    "from sklearn.model_selection import train_test_split\n",
    "from keras.utils import np_utils\n",
    "import pickle\n",
    "import tensorflow as tf"
   ]
  },
  {
   "cell_type": "code",
   "execution_count": 2,
   "id": "fe504854",
   "metadata": {},
   "outputs": [],
   "source": [
    "def loadPickleData(file):\n",
    "    data = pickle.load(open(file, 'rb'));\n",
    "    images = data[0];\n",
    "    labels = data[1];\n",
    "    return [images, labels]"
   ]
  },
  {
   "cell_type": "code",
   "execution_count": 3,
   "id": "9488b0f6",
   "metadata": {},
   "outputs": [],
   "source": [
    "[images,labels] = loadPickleData(\"./../Data/pickledFiles/Num_SingleDigit_3channel.p\")"
   ]
  },
  {
   "cell_type": "code",
   "execution_count": 4,
   "id": "b99db73d",
   "metadata": {},
   "outputs": [
    {
     "name": "stdout",
     "output_type": "stream",
     "text": [
      "[[0. 0. 0. ... 0. 0. 0.]\n",
      " [0. 0. 1. ... 0. 0. 0.]\n",
      " [0. 1. 0. ... 0. 0. 0.]\n",
      " ...\n",
      " [0. 0. 0. ... 0. 1. 0.]\n",
      " [1. 0. 0. ... 0. 0. 0.]\n",
      " [1. 0. 0. ... 0. 0. 0.]]\n",
      "(2000, 10)\n"
     ]
    }
   ],
   "source": [
    "y = np_utils.to_categorical(labels);\n",
    "print(y);\n",
    "print(y.shape)"
   ]
  },
  {
   "cell_type": "code",
   "execution_count": 5,
   "id": "7bf670f8",
   "metadata": {},
   "outputs": [
    {
     "data": {
      "text/plain": [
       "(2000, 60, 40, 3)"
      ]
     },
     "execution_count": 5,
     "metadata": {},
     "output_type": "execute_result"
    }
   ],
   "source": [
    "X = images\n",
    "X.shape\n",
    "# X = np.reshape(X, (2000,60,40,1))"
   ]
  },
  {
   "cell_type": "code",
   "execution_count": 6,
   "id": "95ed427c",
   "metadata": {},
   "outputs": [],
   "source": [
    "X_train, X_test, y_train, y_test = train_test_split(X,y, test_size = 0.2);"
   ]
  },
  {
   "cell_type": "code",
   "execution_count": 7,
   "id": "4e1a2911",
   "metadata": {},
   "outputs": [],
   "source": [
    "model = applications.VGG19(weights = \"imagenet\", include_top=False,\\\n",
    "                           input_shape = (60, 40, 3))"
   ]
  },
  {
   "cell_type": "code",
   "execution_count": 8,
   "id": "fa55105e",
   "metadata": {},
   "outputs": [
    {
     "name": "stdout",
     "output_type": "stream",
     "text": [
      "22\n"
     ]
    }
   ],
   "source": [
    "print(len(model.layers))\n",
    "for layer in model.layers[0:19]:\n",
    "    layer.trainable = False"
   ]
  },
  {
   "cell_type": "code",
   "execution_count": 9,
   "id": "d9ee7d2f",
   "metadata": {},
   "outputs": [],
   "source": [
    "inputt = Input(shape =  (60,40,3), name = 'captcha_input')\n",
    "output_vgg16_conv = model(inputt);"
   ]
  },
  {
   "cell_type": "code",
   "execution_count": 10,
   "id": "2c077c48",
   "metadata": {},
   "outputs": [],
   "source": [
    "x = Flatten(name='flatten')(output_vgg16_conv)\n"
   ]
  },
  {
   "cell_type": "code",
   "execution_count": 11,
   "id": "5c944efd",
   "metadata": {},
   "outputs": [],
   "source": [
    "predictions = Dense(10, activation=\"softmax\")(x)\n"
   ]
  },
  {
   "cell_type": "code",
   "execution_count": 12,
   "id": "152a244c",
   "metadata": {},
   "outputs": [],
   "source": [
    "model_final = Model(inputt,predictions)\n"
   ]
  },
  {
   "cell_type": "code",
   "execution_count": 13,
   "id": "6f53ea58",
   "metadata": {},
   "outputs": [],
   "source": [
    "model_final.compile(loss = \"categorical_crossentropy\",\\\n",
    "                    optimizer = tf.keras.optimizers.SGD(learning_rate=0.0001, momentum=0.9), metrics=[\"accuracy\"])"
   ]
  },
  {
   "cell_type": "code",
   "execution_count": 14,
   "id": "dd3f9a72",
   "metadata": {},
   "outputs": [
    {
     "name": "stdout",
     "output_type": "stream",
     "text": [
      "Model: \"model\"\n",
      "_________________________________________________________________\n",
      "Layer (type)                 Output Shape              Param #   \n",
      "=================================================================\n",
      "captcha_input (InputLayer)   [(None, 60, 40, 3)]       0         \n",
      "_________________________________________________________________\n",
      "vgg19 (Functional)           (None, 1, 1, 512)         20024384  \n",
      "_________________________________________________________________\n",
      "flatten (Flatten)            (None, 512)               0         \n",
      "_________________________________________________________________\n",
      "dense (Dense)                (None, 10)                5130      \n",
      "=================================================================\n",
      "Total params: 20,029,514\n",
      "Trainable params: 4,724,746\n",
      "Non-trainable params: 15,304,768\n",
      "_________________________________________________________________\n",
      "None\n"
     ]
    }
   ],
   "source": [
    "print(model_final.summary())"
   ]
  },
  {
   "cell_type": "code",
   "execution_count": 15,
   "id": "c2a47b8f",
   "metadata": {},
   "outputs": [],
   "source": [
    "lossCheck = ModelCheckpoint('singleCharLoss1.h5', monitor='val_loss', verbose=True, save_best_only=True)\n",
    "accCheck = ModelCheckpoint('singleCharAcc1.h5', monitor='val_accuracy', verbose=True, save_best_only=True)"
   ]
  },
  {
   "cell_type": "code",
   "execution_count": null,
   "id": "af544fa8",
   "metadata": {},
   "outputs": [
    {
     "name": "stdout",
     "output_type": "stream",
     "text": [
      "Epoch 1/150\n"
     ]
    }
   ],
   "source": [
    "history = model_final.fit(X_train, y_train, validation_data=(X_test, y_test), batch_size=300, epochs=150, verbose=1, callbacks=[lossCheck, accCheck])"
   ]
  },
  {
   "cell_type": "code",
   "execution_count": 56,
   "id": "8e7937dc",
   "metadata": {},
   "outputs": [
    {
     "name": "stdout",
     "output_type": "stream",
     "text": [
      "Epoch 1/50\n",
      "6/6 [==============================] - 8s 1s/step - loss: 1.3719 - accuracy: 0.4825 - val_loss: 1.7787 - val_accuracy: 0.3750\n",
      "Epoch 2/50\n",
      "6/6 [==============================] - 8s 1s/step - loss: 1.3715 - accuracy: 0.4894 - val_loss: 1.7508 - val_accuracy: 0.3750\n",
      "Epoch 3/50\n",
      "6/6 [==============================] - 8s 1s/step - loss: 1.3429 - accuracy: 0.4963 - val_loss: 1.7647 - val_accuracy: 0.4050\n",
      "Epoch 4/50\n",
      "6/6 [==============================] - 8s 1s/step - loss: 1.3140 - accuracy: 0.5256 - val_loss: 1.7480 - val_accuracy: 0.4050\n",
      "Epoch 5/50\n",
      "6/6 [==============================] - 8s 1s/step - loss: 1.2916 - accuracy: 0.5263 - val_loss: 1.7367 - val_accuracy: 0.4025\n",
      "Epoch 6/50\n",
      "6/6 [==============================] - 8s 1s/step - loss: 1.2643 - accuracy: 0.5375 - val_loss: 1.7536 - val_accuracy: 0.3775\n",
      "Epoch 7/50\n",
      "6/6 [==============================] - 8s 1s/step - loss: 1.2572 - accuracy: 0.5462 - val_loss: 1.7362 - val_accuracy: 0.4150\n",
      "Epoch 8/50\n",
      "6/6 [==============================] - 8s 1s/step - loss: 1.2447 - accuracy: 0.5406 - val_loss: 1.7615 - val_accuracy: 0.4075\n",
      "Epoch 9/50\n",
      "6/6 [==============================] - 8s 1s/step - loss: 1.2344 - accuracy: 0.5481 - val_loss: 1.7448 - val_accuracy: 0.4075\n",
      "Epoch 10/50\n",
      "6/6 [==============================] - 8s 1s/step - loss: 1.2151 - accuracy: 0.5587 - val_loss: 1.7755 - val_accuracy: 0.3825\n",
      "Epoch 11/50\n",
      "6/6 [==============================] - 8s 1s/step - loss: 1.2266 - accuracy: 0.5537 - val_loss: 1.7518 - val_accuracy: 0.4275\n",
      "Epoch 12/50\n",
      "6/6 [==============================] - 8s 1s/step - loss: 1.2157 - accuracy: 0.5569 - val_loss: 1.7699 - val_accuracy: 0.3975\n",
      "Epoch 13/50\n",
      "6/6 [==============================] - 8s 1s/step - loss: 1.1934 - accuracy: 0.5719 - val_loss: 1.7417 - val_accuracy: 0.4000\n",
      "Epoch 14/50\n",
      "6/6 [==============================] - 8s 1s/step - loss: 1.1643 - accuracy: 0.5863 - val_loss: 1.7518 - val_accuracy: 0.4175\n",
      "Epoch 15/50\n",
      "6/6 [==============================] - 8s 1s/step - loss: 1.1430 - accuracy: 0.5881 - val_loss: 1.7505 - val_accuracy: 0.4025\n",
      "Epoch 16/50\n",
      "6/6 [==============================] - 8s 1s/step - loss: 1.1297 - accuracy: 0.5981 - val_loss: 1.7241 - val_accuracy: 0.4400\n",
      "Epoch 17/50\n",
      "6/6 [==============================] - 8s 1s/step - loss: 1.1170 - accuracy: 0.5987 - val_loss: 1.7319 - val_accuracy: 0.4275\n",
      "Epoch 18/50\n",
      "6/6 [==============================] - 8s 1s/step - loss: 1.0944 - accuracy: 0.6187 - val_loss: 1.7235 - val_accuracy: 0.4300\n",
      "Epoch 19/50\n",
      "6/6 [==============================] - 8s 1s/step - loss: 1.0820 - accuracy: 0.6206 - val_loss: 1.7143 - val_accuracy: 0.4250\n",
      "Epoch 20/50\n",
      "6/6 [==============================] - 8s 1s/step - loss: 1.0879 - accuracy: 0.6200 - val_loss: 1.7371 - val_accuracy: 0.4225\n",
      "Epoch 21/50\n",
      "6/6 [==============================] - 8s 1s/step - loss: 1.0670 - accuracy: 0.6175 - val_loss: 1.7235 - val_accuracy: 0.4025\n",
      "Epoch 22/50\n",
      "6/6 [==============================] - 8s 1s/step - loss: 1.0505 - accuracy: 0.6306 - val_loss: 1.7147 - val_accuracy: 0.4225\n",
      "Epoch 23/50\n",
      "6/6 [==============================] - 8s 1s/step - loss: 1.0388 - accuracy: 0.6325 - val_loss: 1.7093 - val_accuracy: 0.4350\n",
      "Epoch 24/50\n",
      "6/6 [==============================] - 8s 1s/step - loss: 1.0168 - accuracy: 0.6444 - val_loss: 1.7214 - val_accuracy: 0.4250\n",
      "Epoch 25/50\n",
      "6/6 [==============================] - 8s 1s/step - loss: 1.0050 - accuracy: 0.6481 - val_loss: 1.7209 - val_accuracy: 0.4250\n",
      "Epoch 26/50\n",
      "6/6 [==============================] - 8s 1s/step - loss: 1.0031 - accuracy: 0.6481 - val_loss: 1.7342 - val_accuracy: 0.4225\n",
      "Epoch 27/50\n",
      "6/6 [==============================] - 8s 1s/step - loss: 0.9874 - accuracy: 0.6494 - val_loss: 1.7077 - val_accuracy: 0.4400\n",
      "Epoch 28/50\n",
      "6/6 [==============================] - 8s 1s/step - loss: 0.9755 - accuracy: 0.6550 - val_loss: 1.7553 - val_accuracy: 0.4175\n",
      "Epoch 29/50\n",
      "6/6 [==============================] - 8s 1s/step - loss: 0.9753 - accuracy: 0.6637 - val_loss: 1.7195 - val_accuracy: 0.4525\n",
      "Epoch 30/50\n",
      "6/6 [==============================] - 8s 1s/step - loss: 0.9541 - accuracy: 0.6731 - val_loss: 1.7535 - val_accuracy: 0.4450\n",
      "Epoch 31/50\n",
      "6/6 [==============================] - 8s 1s/step - loss: 0.9485 - accuracy: 0.6681 - val_loss: 1.7490 - val_accuracy: 0.4300\n",
      "Epoch 32/50\n",
      "6/6 [==============================] - 8s 1s/step - loss: 0.9411 - accuracy: 0.6769 - val_loss: 1.7379 - val_accuracy: 0.4375\n",
      "Epoch 33/50\n",
      "6/6 [==============================] - 8s 1s/step - loss: 0.9289 - accuracy: 0.6825 - val_loss: 1.7419 - val_accuracy: 0.4350\n",
      "Epoch 34/50\n",
      "6/6 [==============================] - 8s 1s/step - loss: 0.9093 - accuracy: 0.6819 - val_loss: 1.7382 - val_accuracy: 0.4200\n",
      "Epoch 35/50\n",
      "6/6 [==============================] - 8s 1s/step - loss: 0.8983 - accuracy: 0.7013 - val_loss: 1.7355 - val_accuracy: 0.4475\n",
      "Epoch 36/50\n",
      "6/6 [==============================] - 8s 1s/step - loss: 0.8792 - accuracy: 0.6956 - val_loss: 1.7680 - val_accuracy: 0.4450\n",
      "Epoch 37/50\n",
      "6/6 [==============================] - 8s 1s/step - loss: 0.8735 - accuracy: 0.6988 - val_loss: 1.7480 - val_accuracy: 0.4400\n",
      "Epoch 38/50\n",
      "6/6 [==============================] - 8s 1s/step - loss: 0.8642 - accuracy: 0.7025 - val_loss: 1.7267 - val_accuracy: 0.4525\n",
      "Epoch 39/50\n",
      "6/6 [==============================] - 8s 1s/step - loss: 0.8561 - accuracy: 0.7088 - val_loss: 1.7707 - val_accuracy: 0.4350\n",
      "Epoch 40/50\n",
      "6/6 [==============================] - 8s 1s/step - loss: 0.8539 - accuracy: 0.7100 - val_loss: 1.7596 - val_accuracy: 0.4350\n",
      "Epoch 41/50\n",
      "6/6 [==============================] - 8s 1s/step - loss: 0.8496 - accuracy: 0.7075 - val_loss: 1.8029 - val_accuracy: 0.4475\n",
      "Epoch 42/50\n",
      "6/6 [==============================] - 8s 1s/step - loss: 0.8342 - accuracy: 0.7175 - val_loss: 1.7785 - val_accuracy: 0.4450\n",
      "Epoch 43/50\n",
      "6/6 [==============================] - 8s 1s/step - loss: 0.8257 - accuracy: 0.7156 - val_loss: 1.7728 - val_accuracy: 0.4625\n",
      "Epoch 44/50\n",
      "6/6 [==============================] - 8s 1s/step - loss: 0.8090 - accuracy: 0.7287 - val_loss: 1.7664 - val_accuracy: 0.4450\n",
      "Epoch 45/50\n",
      "6/6 [==============================] - 8s 1s/step - loss: 0.7938 - accuracy: 0.7350 - val_loss: 1.7850 - val_accuracy: 0.4575\n",
      "Epoch 46/50\n",
      "6/6 [==============================] - 8s 1s/step - loss: 0.7806 - accuracy: 0.7425 - val_loss: 1.7677 - val_accuracy: 0.4625\n",
      "Epoch 47/50\n",
      "6/6 [==============================] - 8s 1s/step - loss: 0.7790 - accuracy: 0.7431 - val_loss: 1.7829 - val_accuracy: 0.4650\n",
      "Epoch 48/50\n",
      "6/6 [==============================] - 8s 1s/step - loss: 0.7679 - accuracy: 0.7487 - val_loss: 1.7682 - val_accuracy: 0.4600\n",
      "Epoch 49/50\n",
      "6/6 [==============================] - 8s 1s/step - loss: 0.7508 - accuracy: 0.7487 - val_loss: 1.7761 - val_accuracy: 0.4625\n",
      "Epoch 50/50\n",
      "6/6 [==============================] - 8s 1s/step - loss: 0.7439 - accuracy: 0.7575 - val_loss: 1.7930 - val_accuracy: 0.4625\n"
     ]
    }
   ],
   "source": [
    "history1 = model_final.fit(X_train, y_train, validation_data=(X_test, y_test), batch_size=300, epochs=50, verbose=1);"
   ]
  },
  {
   "cell_type": "code",
   "execution_count": 57,
   "id": "5e158841",
   "metadata": {},
   "outputs": [
    {
     "name": "stdout",
     "output_type": "stream",
     "text": [
      "Epoch 1/50\n",
      "6/6 [==============================] - 8s 1s/step - loss: 0.7408 - accuracy: 0.7550 - val_loss: 1.7918 - val_accuracy: 0.4675\n",
      "Epoch 2/50\n",
      "6/6 [==============================] - 8s 1s/step - loss: 0.7422 - accuracy: 0.7575 - val_loss: 1.8043 - val_accuracy: 0.4625\n",
      "Epoch 3/50\n",
      "6/6 [==============================] - 8s 1s/step - loss: 0.7343 - accuracy: 0.7569 - val_loss: 1.8027 - val_accuracy: 0.4650\n",
      "Epoch 4/50\n",
      "6/6 [==============================] - 8s 1s/step - loss: 0.7151 - accuracy: 0.7619 - val_loss: 1.7949 - val_accuracy: 0.4775\n",
      "Epoch 5/50\n",
      "6/6 [==============================] - 8s 1s/step - loss: 0.7033 - accuracy: 0.7713 - val_loss: 1.8078 - val_accuracy: 0.4525\n",
      "Epoch 6/50\n",
      "6/6 [==============================] - 8s 1s/step - loss: 0.6999 - accuracy: 0.7706 - val_loss: 1.7969 - val_accuracy: 0.4775\n",
      "Epoch 7/50\n",
      "6/6 [==============================] - 8s 1s/step - loss: 0.6904 - accuracy: 0.7756 - val_loss: 1.8212 - val_accuracy: 0.4575\n",
      "Epoch 8/50\n",
      "6/6 [==============================] - 8s 1s/step - loss: 0.6877 - accuracy: 0.7750 - val_loss: 1.8240 - val_accuracy: 0.4725\n",
      "Epoch 9/50\n",
      "6/6 [==============================] - 8s 1s/step - loss: 0.6798 - accuracy: 0.7744 - val_loss: 1.8378 - val_accuracy: 0.4725\n",
      "Epoch 10/50\n",
      "6/6 [==============================] - 8s 1s/step - loss: 0.6621 - accuracy: 0.7900 - val_loss: 1.8183 - val_accuracy: 0.4550\n",
      "Epoch 11/50\n",
      "6/6 [==============================] - 8s 1s/step - loss: 0.6615 - accuracy: 0.7894 - val_loss: 1.8416 - val_accuracy: 0.4700\n",
      "Epoch 12/50\n",
      "6/6 [==============================] - 8s 1s/step - loss: 0.6520 - accuracy: 0.7881 - val_loss: 1.8290 - val_accuracy: 0.4625\n",
      "Epoch 13/50\n",
      "6/6 [==============================] - 8s 1s/step - loss: 0.6451 - accuracy: 0.7994 - val_loss: 1.8467 - val_accuracy: 0.4650\n",
      "Epoch 14/50\n",
      "6/6 [==============================] - 8s 1s/step - loss: 0.6377 - accuracy: 0.7925 - val_loss: 1.8536 - val_accuracy: 0.4550\n",
      "Epoch 15/50\n",
      "6/6 [==============================] - 8s 1s/step - loss: 0.6339 - accuracy: 0.8019 - val_loss: 1.8390 - val_accuracy: 0.4725\n",
      "Epoch 16/50\n",
      "6/6 [==============================] - 8s 1s/step - loss: 0.6244 - accuracy: 0.8062 - val_loss: 1.8511 - val_accuracy: 0.4750\n",
      "Epoch 17/50\n",
      "6/6 [==============================] - 8s 1s/step - loss: 0.6168 - accuracy: 0.8087 - val_loss: 1.8527 - val_accuracy: 0.4750\n",
      "Epoch 18/50\n",
      "6/6 [==============================] - 8s 1s/step - loss: 0.6079 - accuracy: 0.8106 - val_loss: 1.8652 - val_accuracy: 0.4750\n",
      "Epoch 19/50\n",
      "6/6 [==============================] - 8s 1s/step - loss: 0.6047 - accuracy: 0.8087 - val_loss: 1.8641 - val_accuracy: 0.4775\n",
      "Epoch 20/50\n",
      "6/6 [==============================] - 8s 1s/step - loss: 0.5947 - accuracy: 0.8169 - val_loss: 1.8819 - val_accuracy: 0.4600\n",
      "Epoch 21/50\n",
      "6/6 [==============================] - 8s 1s/step - loss: 0.5956 - accuracy: 0.8225 - val_loss: 1.8783 - val_accuracy: 0.4600\n",
      "Epoch 22/50\n",
      "6/6 [==============================] - 8s 1s/step - loss: 0.5831 - accuracy: 0.8250 - val_loss: 1.8955 - val_accuracy: 0.4700\n",
      "Epoch 23/50\n",
      "6/6 [==============================] - 8s 1s/step - loss: 0.5753 - accuracy: 0.8238 - val_loss: 1.8912 - val_accuracy: 0.4800\n",
      "Epoch 24/50\n",
      "6/6 [==============================] - 8s 1s/step - loss: 0.5726 - accuracy: 0.8238 - val_loss: 1.8961 - val_accuracy: 0.4700\n",
      "Epoch 25/50\n",
      "6/6 [==============================] - 8s 1s/step - loss: 0.5647 - accuracy: 0.8269 - val_loss: 1.9268 - val_accuracy: 0.4575\n",
      "Epoch 26/50\n",
      "6/6 [==============================] - 8s 1s/step - loss: 0.5607 - accuracy: 0.8313 - val_loss: 1.8930 - val_accuracy: 0.4650\n",
      "Epoch 27/50\n",
      "6/6 [==============================] - 8s 1s/step - loss: 0.5489 - accuracy: 0.8375 - val_loss: 1.9358 - val_accuracy: 0.4650\n",
      "Epoch 28/50\n",
      "6/6 [==============================] - 8s 1s/step - loss: 0.5451 - accuracy: 0.8363 - val_loss: 1.8949 - val_accuracy: 0.4800\n",
      "Epoch 29/50\n",
      "6/6 [==============================] - 8s 1s/step - loss: 0.5416 - accuracy: 0.8381 - val_loss: 1.9247 - val_accuracy: 0.4600\n",
      "Epoch 30/50\n",
      "6/6 [==============================] - 8s 1s/step - loss: 0.5400 - accuracy: 0.8306 - val_loss: 1.9381 - val_accuracy: 0.4525\n",
      "Epoch 31/50\n",
      "6/6 [==============================] - 8s 1s/step - loss: 0.5348 - accuracy: 0.8338 - val_loss: 1.9504 - val_accuracy: 0.4600\n",
      "Epoch 32/50\n",
      "6/6 [==============================] - 8s 1s/step - loss: 0.5357 - accuracy: 0.8338 - val_loss: 1.9244 - val_accuracy: 0.4650\n",
      "Epoch 33/50\n",
      "6/6 [==============================] - 8s 1s/step - loss: 0.5228 - accuracy: 0.8438 - val_loss: 1.9532 - val_accuracy: 0.4775\n",
      "Epoch 34/50\n",
      "6/6 [==============================] - 8s 1s/step - loss: 0.5194 - accuracy: 0.8394 - val_loss: 1.9669 - val_accuracy: 0.4625\n",
      "Epoch 35/50\n",
      "6/6 [==============================] - 8s 1s/step - loss: 0.5128 - accuracy: 0.8506 - val_loss: 1.9623 - val_accuracy: 0.4700\n",
      "Epoch 36/50\n",
      "6/6 [==============================] - 8s 1s/step - loss: 0.5096 - accuracy: 0.8462 - val_loss: 1.9527 - val_accuracy: 0.4800\n",
      "Epoch 37/50\n",
      "6/6 [==============================] - 8s 1s/step - loss: 0.5023 - accuracy: 0.8475 - val_loss: 1.9714 - val_accuracy: 0.4525\n",
      "Epoch 38/50\n",
      "6/6 [==============================] - 8s 1s/step - loss: 0.4928 - accuracy: 0.8519 - val_loss: 1.9758 - val_accuracy: 0.4475\n",
      "Epoch 39/50\n",
      "6/6 [==============================] - 8s 1s/step - loss: 0.4966 - accuracy: 0.8475 - val_loss: 1.9702 - val_accuracy: 0.4725\n",
      "Epoch 40/50\n",
      "6/6 [==============================] - 8s 1s/step - loss: 0.4968 - accuracy: 0.8450 - val_loss: 1.9951 - val_accuracy: 0.4500\n",
      "Epoch 41/50\n",
      "6/6 [==============================] - 8s 1s/step - loss: 0.4925 - accuracy: 0.8475 - val_loss: 1.9839 - val_accuracy: 0.4625\n",
      "Epoch 42/50\n",
      "6/6 [==============================] - 8s 1s/step - loss: 0.4779 - accuracy: 0.8594 - val_loss: 1.9874 - val_accuracy: 0.4800\n",
      "Epoch 43/50\n",
      "6/6 [==============================] - 8s 1s/step - loss: 0.4793 - accuracy: 0.8562 - val_loss: 2.0021 - val_accuracy: 0.4575\n",
      "Epoch 44/50\n",
      "6/6 [==============================] - 8s 1s/step - loss: 0.4671 - accuracy: 0.8619 - val_loss: 2.0150 - val_accuracy: 0.4700\n",
      "Epoch 45/50\n",
      "6/6 [==============================] - 8s 1s/step - loss: 0.4710 - accuracy: 0.8550 - val_loss: 1.9936 - val_accuracy: 0.4650\n",
      "Epoch 46/50\n",
      "6/6 [==============================] - 8s 1s/step - loss: 0.4612 - accuracy: 0.8656 - val_loss: 2.0052 - val_accuracy: 0.4675\n",
      "Epoch 47/50\n",
      "6/6 [==============================] - 8s 1s/step - loss: 0.4522 - accuracy: 0.8681 - val_loss: 2.0075 - val_accuracy: 0.4650\n",
      "Epoch 48/50\n",
      "6/6 [==============================] - 8s 1s/step - loss: 0.4440 - accuracy: 0.8694 - val_loss: 2.0283 - val_accuracy: 0.4575\n",
      "Epoch 49/50\n",
      "6/6 [==============================] - 8s 1s/step - loss: 0.4398 - accuracy: 0.8712 - val_loss: 2.0368 - val_accuracy: 0.4500\n",
      "Epoch 50/50\n",
      "6/6 [==============================] - 8s 1s/step - loss: 0.4381 - accuracy: 0.8725 - val_loss: 2.0166 - val_accuracy: 0.4675\n"
     ]
    }
   ],
   "source": [
    "history2 = model_final.fit(X_train, y_train, validation_data=(X_test, y_test), batch_size=300, epochs=50, verbose=1);"
   ]
  },
  {
   "cell_type": "code",
   "execution_count": 61,
   "id": "da7a2bb2",
   "metadata": {},
   "outputs": [
    {
     "data": {
      "text/plain": [
       "0.47999998927116394"
      ]
     },
     "execution_count": 61,
     "metadata": {},
     "output_type": "execute_result"
    }
   ],
   "source": [
    "max(max(history.history[\"val_accuracy\"]), max(history1.history[\"val_accuracy\"]), max(history2.history[\"val_accuracy\"]))"
   ]
  },
  {
   "cell_type": "code",
   "execution_count": 63,
   "id": "c626d7aa",
   "metadata": {},
   "outputs": [
    {
     "name": "stdout",
     "output_type": "stream",
     "text": [
      "8/8 [==============================] - 5s 569ms/step\n"
     ]
    }
   ],
   "source": [
    "xtr = model_final.predict(X_train, batch_size = 200, verbose=1)"
   ]
  },
  {
   "cell_type": "code",
   "execution_count": 64,
   "id": "eed2c6ff",
   "metadata": {},
   "outputs": [
    {
     "name": "stdout",
     "output_type": "stream",
     "text": [
      "4/4 [==============================] - 1s 294ms/step\n"
     ]
    }
   ],
   "source": [
    "Xtest = model_final.predict(X_test, batch_size = 100, verbose=1);"
   ]
  },
  {
   "cell_type": "code",
   "execution_count": 65,
   "id": "45de9b32",
   "metadata": {},
   "outputs": [
    {
     "name": "stdout",
     "output_type": "stream",
     "text": [
      "(1600, 10)\n"
     ]
    }
   ],
   "source": [
    "print(xtr.shape)"
   ]
  },
  {
   "cell_type": "code",
   "execution_count": 66,
   "id": "00b6fa0c",
   "metadata": {},
   "outputs": [],
   "source": [
    "resize = np.prod(xtr.shape[1:])"
   ]
  },
  {
   "cell_type": "code",
   "execution_count": 67,
   "id": "4da9997f",
   "metadata": {},
   "outputs": [],
   "source": [
    "xtr = np.reshape(xtr, (1600, resize));\n",
    "Xtest = np.reshape(Xtest, (400, resize));"
   ]
  },
  {
   "cell_type": "code",
   "execution_count": 74,
   "id": "85686e1f",
   "metadata": {},
   "outputs": [],
   "source": [
    "bf_train_s = xtr\n",
    "bf_test_s = Xtest"
   ]
  },
  {
   "cell_type": "code",
   "execution_count": 75,
   "id": "7d2c4913",
   "metadata": {},
   "outputs": [],
   "source": [
    "y_train_mc = np.argmax(y_train, axis=1)\n",
    "y_test_mc = np.argmax(y_test, axis = 1)"
   ]
  },
  {
   "cell_type": "code",
   "execution_count": 80,
   "id": "99eb15f4",
   "metadata": {},
   "outputs": [],
   "source": [
    "from sklearn.linear_model import LogisticRegression\n",
    "from sklearn import svm\n"
   ]
  },
  {
   "cell_type": "code",
   "execution_count": 77,
   "id": "8972ded8",
   "metadata": {},
   "outputs": [],
   "source": [
    "clf = LogisticRegression(multi_class='multinomial', solver='lbfgs', verbose=1,max_iter=10000)"
   ]
  },
  {
   "cell_type": "code",
   "execution_count": 78,
   "id": "53675f1d",
   "metadata": {},
   "outputs": [
    {
     "name": "stderr",
     "output_type": "stream",
     "text": [
      "[Parallel(n_jobs=1)]: Using backend SequentialBackend with 1 concurrent workers.\n",
      "[Parallel(n_jobs=1)]: Done   1 out of   1 | elapsed:    0.0s finished\n"
     ]
    },
    {
     "data": {
      "text/plain": [
       "LogisticRegression(max_iter=10000, multi_class='multinomial', verbose=1)"
      ]
     },
     "execution_count": 78,
     "metadata": {},
     "output_type": "execute_result"
    }
   ],
   "source": [
    "clf.fit(bf_train_s,y_train_mc)"
   ]
  },
  {
   "cell_type": "code",
   "execution_count": 79,
   "id": "488e55e1",
   "metadata": {},
   "outputs": [
    {
     "name": "stdout",
     "output_type": "stream",
     "text": [
      "0.4675\n"
     ]
    }
   ],
   "source": [
    "print(clf.score(bf_test_s, y_test_mc))"
   ]
  },
  {
   "cell_type": "code",
   "execution_count": 81,
   "id": "b05a2170",
   "metadata": {},
   "outputs": [
    {
     "name": "stdout",
     "output_type": "stream",
     "text": [
      "[LibLinear]"
     ]
    },
    {
     "data": {
      "text/plain": [
       "LinearSVC(C=0.0002, max_iter=800000, verbose=1)"
      ]
     },
     "execution_count": 81,
     "metadata": {},
     "output_type": "execute_result"
    }
   ],
   "source": [
    "multiClassSVM = svm.LinearSVC(loss = 'squared_hinge', penalty = 'l2',C=1/5000 ,max_iter=800000,verbose=1) \n",
    "multiClassSVM.fit(bf_train_s,y_train_mc)"
   ]
  },
  {
   "cell_type": "code",
   "execution_count": 82,
   "id": "c69acee0",
   "metadata": {},
   "outputs": [
    {
     "data": {
      "text/plain": [
       "0.465"
      ]
     },
     "execution_count": 82,
     "metadata": {},
     "output_type": "execute_result"
    }
   ],
   "source": [
    "multiClassSVM.score(bf_test_s, y_test_mc)"
   ]
  },
  {
   "cell_type": "code",
   "execution_count": null,
   "id": "c213ffe4",
   "metadata": {},
   "outputs": [],
   "source": []
  }
 ],
 "metadata": {
  "kernelspec": {
   "display_name": "Python 3",
   "language": "python",
   "name": "python3"
  },
  "language_info": {
   "codemirror_mode": {
    "name": "ipython",
    "version": 3
   },
   "file_extension": ".py",
   "mimetype": "text/x-python",
   "name": "python",
   "nbconvert_exporter": "python",
   "pygments_lexer": "ipython3",
   "version": "3.6.13"
  }
 },
 "nbformat": 4,
 "nbformat_minor": 5
}
