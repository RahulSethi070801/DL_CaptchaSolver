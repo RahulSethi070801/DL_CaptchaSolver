{
 "cells": [
  {
   "cell_type": "code",
   "execution_count": 3,
   "id": "784fea15",
   "metadata": {},
   "outputs": [
    {
     "name": "stdout",
     "output_type": "stream",
     "text": [
      "Collecting captcha\n",
      "  Downloading captcha-0.4-py3-none-any.whl (102 kB)\n",
      "\u001b[K     |████████████████████████████████| 102 kB 927 kB/s eta 0:00:01\n",
      "\u001b[?25hRequirement already satisfied: Pillow in /media/data_dump/mann/envs/base3.6/lib/python3.6/site-packages (from captcha) (8.3.2)\n",
      "Installing collected packages: captcha\n",
      "Successfully installed captcha-0.4\n"
     ]
    }
   ],
   "source": [
    "!pip install captcha"
   ]
  },
  {
   "cell_type": "code",
   "execution_count": 4,
   "id": "3761cea7",
   "metadata": {},
   "outputs": [],
   "source": [
    "import argparse\n",
    "import json\n",
    "import string\n",
    "import os\n",
    "import shutil\n",
    "import uuid\n",
    "from captcha.image import ImageCaptcha\n",
    "\n",
    "import itertools\n",
    "\n",
    "import os\n",
    "import cv2\n",
    "import numpy as np\n",
    "from random import random, randint, choices\n",
    "\n",
    "import keras\n",
    "from keras.models import Sequential, Model\n",
    "from keras.layers import Dense, Dropout, Activation, Flatten\n",
    "from keras.layers import Conv2D, MaxPooling2D, Input\n",
    "import matplotlib.pyplot as plt"
   ]
  },
  {
   "cell_type": "code",
   "execution_count": 8,
   "id": "5f54dece",
   "metadata": {},
   "outputs": [],
   "source": [
    "from tqdm.notebook import tqdm"
   ]
  },
  {
   "cell_type": "code",
   "execution_count": 18,
   "id": "343e1bcd",
   "metadata": {},
   "outputs": [],
   "source": [
    "def _gen_captcha(img_dir, num_of_letters, num_of_repetition, width, height):\n",
    "    if os.path.exists(img_dir):\n",
    "        shutil.rmtree(img_dir)\n",
    "    if not os.path.exists(img_dir):\n",
    "        os.makedirs(img_dir)\n",
    "\n",
    "    image = ImageCaptcha(width=width, height=height)\n",
    "    tot = 0\n",
    "    for counter in tqdm(range(num_of_repetition)):\n",
    "        print('generating %d/%d' % (counter + 1, num_of_repetition))\n",
    "        for i in itertools.permutations([str(c) for c in range(10)], num_of_letters):\n",
    "            captcha = ''.join(i)\n",
    "            fn = os.path.join(img_dir, '%s_%s.png' % (captcha, uuid.uuid4()))\n",
    "            image.write(captcha, fn)\n",
    "            tot += 1\n",
    "            if tot == 5000:\n",
    "                break\n",
    "        if tot == 5000:\n",
    "            break\n",
    "\n",
    "\n",
    "def gen_dataset(path, num_of_repetition, num_of_letters, width, height):\n",
    "    _gen_captcha(os.path.join(path, 'data'), num_of_letters, num_of_repetition, width, height)\n",
    "    print('Finished Data Generation')"
   ]
  },
  {
   "cell_type": "code",
   "execution_count": 22,
   "id": "c6e6cb4e",
   "metadata": {},
   "outputs": [
    {
     "data": {
      "application/vnd.jupyter.widget-view+json": {
       "model_id": "7e82b76c7662454183752145b246f8ba",
       "version_major": 2,
       "version_minor": 0
      },
      "text/plain": [
       "  0%|          | 0/100 [00:00<?, ?it/s]"
      ]
     },
     "metadata": {},
     "output_type": "display_data"
    },
    {
     "name": "stdout",
     "output_type": "stream",
     "text": [
      "generating 1/100\n",
      "generating 2/100\n",
      "generating 3/100\n",
      "generating 4/100\n",
      "generating 5/100\n",
      "generating 6/100\n",
      "generating 7/100\n",
      "generating 8/100\n",
      "generating 9/100\n",
      "generating 10/100\n",
      "generating 11/100\n",
      "generating 12/100\n",
      "generating 13/100\n",
      "generating 14/100\n",
      "generating 15/100\n",
      "generating 16/100\n",
      "generating 17/100\n",
      "generating 18/100\n",
      "generating 19/100\n",
      "generating 20/100\n",
      "generating 21/100\n",
      "generating 22/100\n",
      "generating 23/100\n",
      "generating 24/100\n",
      "generating 25/100\n",
      "generating 26/100\n",
      "generating 27/100\n",
      "generating 28/100\n",
      "generating 29/100\n",
      "generating 30/100\n",
      "generating 31/100\n",
      "generating 32/100\n",
      "generating 33/100\n",
      "generating 34/100\n",
      "generating 35/100\n",
      "generating 36/100\n",
      "generating 37/100\n",
      "generating 38/100\n",
      "generating 39/100\n",
      "generating 40/100\n",
      "generating 41/100\n",
      "generating 42/100\n",
      "generating 43/100\n",
      "generating 44/100\n",
      "generating 45/100\n",
      "generating 46/100\n",
      "generating 47/100\n",
      "generating 48/100\n",
      "generating 49/100\n",
      "generating 50/100\n",
      "generating 51/100\n",
      "generating 52/100\n",
      "generating 53/100\n",
      "generating 54/100\n",
      "generating 55/100\n",
      "generating 56/100\n",
      "Finished Data Generation\n"
     ]
    }
   ],
   "source": [
    "gen_dataset('/media/data_dump/mann/Pritish/BTP/test/Data/NewDataset/Len2Char', 100, 2, 80, 60)"
   ]
  },
  {
   "cell_type": "code",
   "execution_count": null,
   "id": "6551596d",
   "metadata": {},
   "outputs": [],
   "source": []
  }
 ],
 "metadata": {
  "kernelspec": {
   "display_name": "Python 3",
   "language": "python",
   "name": "python3"
  },
  "language_info": {
   "codemirror_mode": {
    "name": "ipython",
    "version": 3
   },
   "file_extension": ".py",
   "mimetype": "text/x-python",
   "name": "python",
   "nbconvert_exporter": "python",
   "pygments_lexer": "ipython3",
   "version": "3.6.13"
  }
 },
 "nbformat": 4,
 "nbformat_minor": 5
}
